{
 "cells": [
  {
   "cell_type": "markdown",
   "metadata": {},
   "source": [
    "# Moov AI - Data science test \n",
    "\n",
    "Objective of this notebook is to answer Question 2"
   ]
  },
  {
   "cell_type": "code",
   "execution_count": 140,
   "metadata": {},
   "outputs": [],
   "source": [
    "# Import des données et des librairies\n",
    "import pandas as pd\n",
    "import numpy as np\n",
    "import matplotlib.pyplot as plt\n",
    "import seaborn as sns\n",
    "import os\n",
    "from IPython.display import display\n",
    "import plotly.express as px\n",
    "import plotly.graph_objects as go\n",
    "\n",
    "# Import xgboost and sklearn\n",
    "from xgboost import XGBClassifier, XGBRegressor\n",
    "from sklearn.model_selection import train_test_split"
   ]
  },
  {
   "cell_type": "code",
   "execution_count": 141,
   "metadata": {},
   "outputs": [
    {
     "name": "stdout",
     "output_type": "stream",
     "text": [
      "Shape of the dataset: (2121, 21)\n"
     ]
    },
    {
     "data": {
      "text/html": [
       "<style type=\"text/css\">\n",
       "#T_3530d thead tr th:nth-child(1) {\n",
       "  position: sticky;\n",
       "  background-color: inherit;\n",
       "  left: 0px;\n",
       "  z-index: 3 !important;\n",
       "}\n",
       "#T_3530d tbody tr th:nth-child(1) {\n",
       "  position: sticky;\n",
       "  background-color: inherit;\n",
       "  left: 0px;\n",
       "  z-index: 1;\n",
       "}\n",
       "#T_3530d_row0_col0, #T_3530d_row0_col1, #T_3530d_row0_col2, #T_3530d_row0_col3, #T_3530d_row0_col4, #T_3530d_row0_col5, #T_3530d_row0_col6, #T_3530d_row0_col7, #T_3530d_row0_col8, #T_3530d_row0_col9, #T_3530d_row0_col10, #T_3530d_row0_col11, #T_3530d_row0_col12, #T_3530d_row0_col13, #T_3530d_row0_col14, #T_3530d_row0_col15, #T_3530d_row0_col16, #T_3530d_row0_col17, #T_3530d_row0_col18, #T_3530d_row0_col19, #T_3530d_row0_col20, #T_3530d_row1_col0, #T_3530d_row1_col1, #T_3530d_row1_col2, #T_3530d_row1_col3, #T_3530d_row1_col4, #T_3530d_row1_col5, #T_3530d_row1_col6, #T_3530d_row1_col7, #T_3530d_row1_col8, #T_3530d_row1_col9, #T_3530d_row1_col10, #T_3530d_row1_col11, #T_3530d_row1_col12, #T_3530d_row1_col13, #T_3530d_row1_col14, #T_3530d_row1_col15, #T_3530d_row1_col16, #T_3530d_row1_col17, #T_3530d_row1_col18, #T_3530d_row1_col19, #T_3530d_row1_col20, #T_3530d_row2_col0, #T_3530d_row2_col1, #T_3530d_row2_col2, #T_3530d_row2_col3, #T_3530d_row2_col4, #T_3530d_row2_col5, #T_3530d_row2_col6, #T_3530d_row2_col7, #T_3530d_row2_col8, #T_3530d_row2_col9, #T_3530d_row2_col10, #T_3530d_row2_col11, #T_3530d_row2_col12, #T_3530d_row2_col13, #T_3530d_row2_col14, #T_3530d_row2_col15, #T_3530d_row2_col16, #T_3530d_row2_col17, #T_3530d_row2_col18, #T_3530d_row2_col19, #T_3530d_row2_col20, #T_3530d_row3_col0, #T_3530d_row3_col1, #T_3530d_row3_col2, #T_3530d_row3_col3, #T_3530d_row3_col4, #T_3530d_row3_col5, #T_3530d_row3_col6, #T_3530d_row3_col7, #T_3530d_row3_col8, #T_3530d_row3_col9, #T_3530d_row3_col10, #T_3530d_row3_col11, #T_3530d_row3_col12, #T_3530d_row3_col13, #T_3530d_row3_col14, #T_3530d_row3_col15, #T_3530d_row3_col16, #T_3530d_row3_col17, #T_3530d_row3_col18, #T_3530d_row3_col19, #T_3530d_row3_col20, #T_3530d_row4_col0, #T_3530d_row4_col1, #T_3530d_row4_col2, #T_3530d_row4_col3, #T_3530d_row4_col4, #T_3530d_row4_col5, #T_3530d_row4_col6, #T_3530d_row4_col7, #T_3530d_row4_col8, #T_3530d_row4_col9, #T_3530d_row4_col10, #T_3530d_row4_col11, #T_3530d_row4_col12, #T_3530d_row4_col13, #T_3530d_row4_col14, #T_3530d_row4_col15, #T_3530d_row4_col16, #T_3530d_row4_col17, #T_3530d_row4_col18, #T_3530d_row4_col19, #T_3530d_row4_col20 {\n",
       "  overflow-x: auto;\n",
       "}\n",
       "</style>\n",
       "<table id=\"T_3530d\">\n",
       "  <thead>\n",
       "    <tr>\n",
       "      <th class=\"blank level0\" >&nbsp;</th>\n",
       "      <th id=\"T_3530d_level0_col0\" class=\"col_heading level0 col0\" >Row ID</th>\n",
       "      <th id=\"T_3530d_level0_col1\" class=\"col_heading level0 col1\" >Order ID</th>\n",
       "      <th id=\"T_3530d_level0_col2\" class=\"col_heading level0 col2\" >Order Date</th>\n",
       "      <th id=\"T_3530d_level0_col3\" class=\"col_heading level0 col3\" >Ship Date</th>\n",
       "      <th id=\"T_3530d_level0_col4\" class=\"col_heading level0 col4\" >Ship Mode</th>\n",
       "      <th id=\"T_3530d_level0_col5\" class=\"col_heading level0 col5\" >Customer ID</th>\n",
       "      <th id=\"T_3530d_level0_col6\" class=\"col_heading level0 col6\" >Customer Name</th>\n",
       "      <th id=\"T_3530d_level0_col7\" class=\"col_heading level0 col7\" >Segment</th>\n",
       "      <th id=\"T_3530d_level0_col8\" class=\"col_heading level0 col8\" >Country</th>\n",
       "      <th id=\"T_3530d_level0_col9\" class=\"col_heading level0 col9\" >City</th>\n",
       "      <th id=\"T_3530d_level0_col10\" class=\"col_heading level0 col10\" >State</th>\n",
       "      <th id=\"T_3530d_level0_col11\" class=\"col_heading level0 col11\" >Postal Code</th>\n",
       "      <th id=\"T_3530d_level0_col12\" class=\"col_heading level0 col12\" >Region</th>\n",
       "      <th id=\"T_3530d_level0_col13\" class=\"col_heading level0 col13\" >Product ID</th>\n",
       "      <th id=\"T_3530d_level0_col14\" class=\"col_heading level0 col14\" >Category</th>\n",
       "      <th id=\"T_3530d_level0_col15\" class=\"col_heading level0 col15\" >Sub-Category</th>\n",
       "      <th id=\"T_3530d_level0_col16\" class=\"col_heading level0 col16\" >Product Name</th>\n",
       "      <th id=\"T_3530d_level0_col17\" class=\"col_heading level0 col17\" >Sales</th>\n",
       "      <th id=\"T_3530d_level0_col18\" class=\"col_heading level0 col18\" >Quantity</th>\n",
       "      <th id=\"T_3530d_level0_col19\" class=\"col_heading level0 col19\" >Discount</th>\n",
       "      <th id=\"T_3530d_level0_col20\" class=\"col_heading level0 col20\" >Profit</th>\n",
       "    </tr>\n",
       "  </thead>\n",
       "  <tbody>\n",
       "    <tr>\n",
       "      <th id=\"T_3530d_level0_row0\" class=\"row_heading level0 row0\" >0</th>\n",
       "      <td id=\"T_3530d_row0_col0\" class=\"data row0 col0\" >1</td>\n",
       "      <td id=\"T_3530d_row0_col1\" class=\"data row0 col1\" >CA-2016-152156</td>\n",
       "      <td id=\"T_3530d_row0_col2\" class=\"data row0 col2\" >2016-11-08 00:00:00</td>\n",
       "      <td id=\"T_3530d_row0_col3\" class=\"data row0 col3\" >2016-11-11 00:00:00</td>\n",
       "      <td id=\"T_3530d_row0_col4\" class=\"data row0 col4\" >Second Class</td>\n",
       "      <td id=\"T_3530d_row0_col5\" class=\"data row0 col5\" >CG-12520</td>\n",
       "      <td id=\"T_3530d_row0_col6\" class=\"data row0 col6\" >Claire Gute</td>\n",
       "      <td id=\"T_3530d_row0_col7\" class=\"data row0 col7\" >Consumer</td>\n",
       "      <td id=\"T_3530d_row0_col8\" class=\"data row0 col8\" >United States</td>\n",
       "      <td id=\"T_3530d_row0_col9\" class=\"data row0 col9\" >Henderson</td>\n",
       "      <td id=\"T_3530d_row0_col10\" class=\"data row0 col10\" >Kentucky</td>\n",
       "      <td id=\"T_3530d_row0_col11\" class=\"data row0 col11\" >42420</td>\n",
       "      <td id=\"T_3530d_row0_col12\" class=\"data row0 col12\" >South</td>\n",
       "      <td id=\"T_3530d_row0_col13\" class=\"data row0 col13\" >FUR-BO-10001798</td>\n",
       "      <td id=\"T_3530d_row0_col14\" class=\"data row0 col14\" >Furniture</td>\n",
       "      <td id=\"T_3530d_row0_col15\" class=\"data row0 col15\" >Bookcases</td>\n",
       "      <td id=\"T_3530d_row0_col16\" class=\"data row0 col16\" >Bush Somerset Collection Bookcase</td>\n",
       "      <td id=\"T_3530d_row0_col17\" class=\"data row0 col17\" >261.960000</td>\n",
       "      <td id=\"T_3530d_row0_col18\" class=\"data row0 col18\" >2</td>\n",
       "      <td id=\"T_3530d_row0_col19\" class=\"data row0 col19\" >0.000000</td>\n",
       "      <td id=\"T_3530d_row0_col20\" class=\"data row0 col20\" >41.913600</td>\n",
       "    </tr>\n",
       "    <tr>\n",
       "      <th id=\"T_3530d_level0_row1\" class=\"row_heading level0 row1\" >1</th>\n",
       "      <td id=\"T_3530d_row1_col0\" class=\"data row1 col0\" >2</td>\n",
       "      <td id=\"T_3530d_row1_col1\" class=\"data row1 col1\" >CA-2016-152156</td>\n",
       "      <td id=\"T_3530d_row1_col2\" class=\"data row1 col2\" >2016-11-08 00:00:00</td>\n",
       "      <td id=\"T_3530d_row1_col3\" class=\"data row1 col3\" >2016-11-11 00:00:00</td>\n",
       "      <td id=\"T_3530d_row1_col4\" class=\"data row1 col4\" >Second Class</td>\n",
       "      <td id=\"T_3530d_row1_col5\" class=\"data row1 col5\" >CG-12520</td>\n",
       "      <td id=\"T_3530d_row1_col6\" class=\"data row1 col6\" >Claire Gute</td>\n",
       "      <td id=\"T_3530d_row1_col7\" class=\"data row1 col7\" >Consumer</td>\n",
       "      <td id=\"T_3530d_row1_col8\" class=\"data row1 col8\" >United States</td>\n",
       "      <td id=\"T_3530d_row1_col9\" class=\"data row1 col9\" >Henderson</td>\n",
       "      <td id=\"T_3530d_row1_col10\" class=\"data row1 col10\" >Kentucky</td>\n",
       "      <td id=\"T_3530d_row1_col11\" class=\"data row1 col11\" >42420</td>\n",
       "      <td id=\"T_3530d_row1_col12\" class=\"data row1 col12\" >South</td>\n",
       "      <td id=\"T_3530d_row1_col13\" class=\"data row1 col13\" >FUR-CH-10000454</td>\n",
       "      <td id=\"T_3530d_row1_col14\" class=\"data row1 col14\" >Furniture</td>\n",
       "      <td id=\"T_3530d_row1_col15\" class=\"data row1 col15\" >Chairs</td>\n",
       "      <td id=\"T_3530d_row1_col16\" class=\"data row1 col16\" >Hon Deluxe Fabric Upholstered Stacking Chairs, Rounded Back</td>\n",
       "      <td id=\"T_3530d_row1_col17\" class=\"data row1 col17\" >731.940000</td>\n",
       "      <td id=\"T_3530d_row1_col18\" class=\"data row1 col18\" >3</td>\n",
       "      <td id=\"T_3530d_row1_col19\" class=\"data row1 col19\" >0.000000</td>\n",
       "      <td id=\"T_3530d_row1_col20\" class=\"data row1 col20\" >219.582000</td>\n",
       "    </tr>\n",
       "    <tr>\n",
       "      <th id=\"T_3530d_level0_row2\" class=\"row_heading level0 row2\" >2</th>\n",
       "      <td id=\"T_3530d_row2_col0\" class=\"data row2 col0\" >4</td>\n",
       "      <td id=\"T_3530d_row2_col1\" class=\"data row2 col1\" >US-2015-108966</td>\n",
       "      <td id=\"T_3530d_row2_col2\" class=\"data row2 col2\" >2015-10-11 00:00:00</td>\n",
       "      <td id=\"T_3530d_row2_col3\" class=\"data row2 col3\" >2015-10-18 00:00:00</td>\n",
       "      <td id=\"T_3530d_row2_col4\" class=\"data row2 col4\" >Standard Class</td>\n",
       "      <td id=\"T_3530d_row2_col5\" class=\"data row2 col5\" >SO-20335</td>\n",
       "      <td id=\"T_3530d_row2_col6\" class=\"data row2 col6\" >Sean O'Donnell</td>\n",
       "      <td id=\"T_3530d_row2_col7\" class=\"data row2 col7\" >Consumer</td>\n",
       "      <td id=\"T_3530d_row2_col8\" class=\"data row2 col8\" >United States</td>\n",
       "      <td id=\"T_3530d_row2_col9\" class=\"data row2 col9\" >Fort Lauderdale</td>\n",
       "      <td id=\"T_3530d_row2_col10\" class=\"data row2 col10\" >Florida</td>\n",
       "      <td id=\"T_3530d_row2_col11\" class=\"data row2 col11\" >33311</td>\n",
       "      <td id=\"T_3530d_row2_col12\" class=\"data row2 col12\" >South</td>\n",
       "      <td id=\"T_3530d_row2_col13\" class=\"data row2 col13\" >FUR-TA-10000577</td>\n",
       "      <td id=\"T_3530d_row2_col14\" class=\"data row2 col14\" >Furniture</td>\n",
       "      <td id=\"T_3530d_row2_col15\" class=\"data row2 col15\" >Tables</td>\n",
       "      <td id=\"T_3530d_row2_col16\" class=\"data row2 col16\" >Bretford CR4500 Series Slim Rectangular Table</td>\n",
       "      <td id=\"T_3530d_row2_col17\" class=\"data row2 col17\" >957.577500</td>\n",
       "      <td id=\"T_3530d_row2_col18\" class=\"data row2 col18\" >5</td>\n",
       "      <td id=\"T_3530d_row2_col19\" class=\"data row2 col19\" >0.450000</td>\n",
       "      <td id=\"T_3530d_row2_col20\" class=\"data row2 col20\" >-383.031000</td>\n",
       "    </tr>\n",
       "    <tr>\n",
       "      <th id=\"T_3530d_level0_row3\" class=\"row_heading level0 row3\" >3</th>\n",
       "      <td id=\"T_3530d_row3_col0\" class=\"data row3 col0\" >6</td>\n",
       "      <td id=\"T_3530d_row3_col1\" class=\"data row3 col1\" >CA-2014-115812</td>\n",
       "      <td id=\"T_3530d_row3_col2\" class=\"data row3 col2\" >2014-06-09 00:00:00</td>\n",
       "      <td id=\"T_3530d_row3_col3\" class=\"data row3 col3\" >2014-06-14 00:00:00</td>\n",
       "      <td id=\"T_3530d_row3_col4\" class=\"data row3 col4\" >Standard Class</td>\n",
       "      <td id=\"T_3530d_row3_col5\" class=\"data row3 col5\" >BH-11710</td>\n",
       "      <td id=\"T_3530d_row3_col6\" class=\"data row3 col6\" >Brosina Hoffman</td>\n",
       "      <td id=\"T_3530d_row3_col7\" class=\"data row3 col7\" >Consumer</td>\n",
       "      <td id=\"T_3530d_row3_col8\" class=\"data row3 col8\" >United States</td>\n",
       "      <td id=\"T_3530d_row3_col9\" class=\"data row3 col9\" >Los Angeles</td>\n",
       "      <td id=\"T_3530d_row3_col10\" class=\"data row3 col10\" >California</td>\n",
       "      <td id=\"T_3530d_row3_col11\" class=\"data row3 col11\" >90032</td>\n",
       "      <td id=\"T_3530d_row3_col12\" class=\"data row3 col12\" >West</td>\n",
       "      <td id=\"T_3530d_row3_col13\" class=\"data row3 col13\" >FUR-FU-10001487</td>\n",
       "      <td id=\"T_3530d_row3_col14\" class=\"data row3 col14\" >Furniture</td>\n",
       "      <td id=\"T_3530d_row3_col15\" class=\"data row3 col15\" >Furnishings</td>\n",
       "      <td id=\"T_3530d_row3_col16\" class=\"data row3 col16\" >Eldon Expressions Wood and Plastic Desk Accessories, Cherry Wood</td>\n",
       "      <td id=\"T_3530d_row3_col17\" class=\"data row3 col17\" >48.860000</td>\n",
       "      <td id=\"T_3530d_row3_col18\" class=\"data row3 col18\" >7</td>\n",
       "      <td id=\"T_3530d_row3_col19\" class=\"data row3 col19\" >0.000000</td>\n",
       "      <td id=\"T_3530d_row3_col20\" class=\"data row3 col20\" >14.169400</td>\n",
       "    </tr>\n",
       "    <tr>\n",
       "      <th id=\"T_3530d_level0_row4\" class=\"row_heading level0 row4\" >4</th>\n",
       "      <td id=\"T_3530d_row4_col0\" class=\"data row4 col0\" >11</td>\n",
       "      <td id=\"T_3530d_row4_col1\" class=\"data row4 col1\" >CA-2014-115812</td>\n",
       "      <td id=\"T_3530d_row4_col2\" class=\"data row4 col2\" >2014-06-09 00:00:00</td>\n",
       "      <td id=\"T_3530d_row4_col3\" class=\"data row4 col3\" >2014-06-14 00:00:00</td>\n",
       "      <td id=\"T_3530d_row4_col4\" class=\"data row4 col4\" >Standard Class</td>\n",
       "      <td id=\"T_3530d_row4_col5\" class=\"data row4 col5\" >BH-11710</td>\n",
       "      <td id=\"T_3530d_row4_col6\" class=\"data row4 col6\" >Brosina Hoffman</td>\n",
       "      <td id=\"T_3530d_row4_col7\" class=\"data row4 col7\" >Consumer</td>\n",
       "      <td id=\"T_3530d_row4_col8\" class=\"data row4 col8\" >United States</td>\n",
       "      <td id=\"T_3530d_row4_col9\" class=\"data row4 col9\" >Los Angeles</td>\n",
       "      <td id=\"T_3530d_row4_col10\" class=\"data row4 col10\" >California</td>\n",
       "      <td id=\"T_3530d_row4_col11\" class=\"data row4 col11\" >90032</td>\n",
       "      <td id=\"T_3530d_row4_col12\" class=\"data row4 col12\" >West</td>\n",
       "      <td id=\"T_3530d_row4_col13\" class=\"data row4 col13\" >FUR-TA-10001539</td>\n",
       "      <td id=\"T_3530d_row4_col14\" class=\"data row4 col14\" >Furniture</td>\n",
       "      <td id=\"T_3530d_row4_col15\" class=\"data row4 col15\" >Tables</td>\n",
       "      <td id=\"T_3530d_row4_col16\" class=\"data row4 col16\" >Chromcraft Rectangular Conference Tables</td>\n",
       "      <td id=\"T_3530d_row4_col17\" class=\"data row4 col17\" >1706.184000</td>\n",
       "      <td id=\"T_3530d_row4_col18\" class=\"data row4 col18\" >9</td>\n",
       "      <td id=\"T_3530d_row4_col19\" class=\"data row4 col19\" >0.200000</td>\n",
       "      <td id=\"T_3530d_row4_col20\" class=\"data row4 col20\" >85.309200</td>\n",
       "    </tr>\n",
       "  </tbody>\n",
       "</table>\n"
      ],
      "text/plain": [
       "<pandas.io.formats.style.Styler at 0x1771b8150>"
      ]
     },
     "metadata": {},
     "output_type": "display_data"
    },
    {
     "data": {
      "text/plain": [
       "Row ID                   object\n",
       "Order ID                 object\n",
       "Order Date       datetime64[ns]\n",
       "Ship Date        datetime64[ns]\n",
       "Ship Mode                object\n",
       "Customer ID              object\n",
       "Customer Name            object\n",
       "Segment                  object\n",
       "Country                  object\n",
       "City                     object\n",
       "State                    object\n",
       "Postal Code              object\n",
       "Region                   object\n",
       "Product ID               object\n",
       "Category                 object\n",
       "Sub-Category             object\n",
       "Product Name             object\n",
       "Sales                   float64\n",
       "Quantity                  int64\n",
       "Discount                float64\n",
       "Profit                  float64\n",
       "dtype: object"
      ]
     },
     "execution_count": 141,
     "metadata": {},
     "output_type": "execute_result"
    }
   ],
   "source": [
    "# Import csv\n",
    "df = pd.read_csv(r'/Users/philippebeliveau/Desktop/Notebook/Moov AI/stores_sales_forecasting.csv', encoding='ISO-8859-1')\n",
    "\n",
    "# Transform 'Order Date' and 'Ship Date' to datetime\n",
    "df['Order Date'] = pd.to_datetime(df['Order Date'])\n",
    "df['Ship Date'] = pd.to_datetime(df['Ship Date']) \n",
    "\n",
    "# Transform the postal code in a categorical variable\n",
    "df['Postal Code'] = df['Postal Code'].astype('str')\n",
    "df['Row ID'] = df['Row ID'].astype('str')\n",
    "\n",
    "print(f\"Shape of the dataset: {df.shape}\")\n",
    "display(df.head(5).style.set_sticky().set_properties(**{'overflow-x': 'auto'}))\n",
    "\n",
    "# show me the type\n",
    "df.dtypes"
   ]
  },
  {
   "cell_type": "code",
   "execution_count": 142,
   "metadata": {},
   "outputs": [],
   "source": [
    "# Create a feature to compute the difference between the order date and the ship date\n",
    "df['Delivery Delay'] = (df['Ship Date'] - df['Order Date']).dt.days\n",
    "\n",
    "# Create a feature regarding the profit margin \n",
    "df['Profit Margin'] = df['Profit'] / df['Sales']"
   ]
  },
  {
   "cell_type": "markdown",
   "metadata": {},
   "source": [
    "Assigning rows at every possible date between Order_date min and max"
   ]
  },
  {
   "cell_type": "code",
   "execution_count": 143,
   "metadata": {},
   "outputs": [],
   "source": [
    "def adjust_dataset_for_daily_entries(df, date_col):\n",
    "    \"\"\"Ensures that the dataset has a row for every single day, filling missing days with NaN values.\"\"\"\n",
    "    df[date_col] = pd.to_datetime(df[date_col])\n",
    "    all_dates = pd.date_range(start=df[date_col].min(), end=df[date_col].max(), freq='D')\n",
    "    \n",
    "    # Ensure all columns are retained, filling missing values with NaN\n",
    "    full_df = pd.DataFrame(all_dates, columns=[date_col])\n",
    "    df = full_df.merge(df, on=date_col, how='left')\n",
    "    \n",
    "    return df\n",
    "\n",
    "df = adjust_dataset_for_daily_entries(df, 'Order Date')"
   ]
  },
  {
   "cell_type": "code",
   "execution_count": 144,
   "metadata": {},
   "outputs": [
    {
     "name": "stdout",
     "output_type": "stream",
     "text": [
      "Number of NaN values in the 'Sales' column: 566\n",
      "Number of days in the dataset: 1455\n",
      "Percentage of days with missing sales values: 38.90%\n"
     ]
    }
   ],
   "source": [
    "# Print the number of nan values for the sales column \n",
    "print(f\"Number of NaN values in the 'Sales' column: {df['Sales'].isna().sum()}\")\n",
    "print(f\"Number of days in the dataset: {df['Order Date'].nunique()}\")\n",
    "# Calculate the number of days with missing sales values\n",
    "missing_sales_days = df['Sales'].isna().sum()\n",
    "# Calculate the percentage of days with missing sales values\n",
    "missing_sales_percentage = missing_sales_days / df['Order Date'].nunique() * 100\n",
    "print(f\"Percentage of days with missing sales values: {missing_sales_percentage:.2f}%\")"
   ]
  },
  {
   "cell_type": "markdown",
   "metadata": {},
   "source": [
    "This tells me that I should change the frequency of my time series"
   ]
  },
  {
   "cell_type": "code",
   "execution_count": 145,
   "metadata": {},
   "outputs": [
    {
     "name": "stdout",
     "output_type": "stream",
     "text": [
      "Number of NaN values in the 'Sales' column: 0\n",
      "Number of weeks in the dataset: 208\n",
      "Percentage of weeks with missing sales values: 0.00%\n"
     ]
    }
   ],
   "source": [
    "# Change my frequency from daily to weekly and give me the statistics of the na values\n",
    "df_weekly = df.resample('W', on='Order Date').sum(numeric_only=True).reset_index()\n",
    "print(f\"Number of NaN values in the 'Sales' column: {df_weekly['Sales'].isna().sum()}\")\n",
    "print(f\"Number of weeks in the dataset: {df_weekly['Sales'].shape[0]}\")\n",
    "# Calculate the number of weeks with missing sales values\n",
    "missing_sales_weeks = df_weekly['Sales'].isna().sum()\n",
    "# Calculate the percentage of weeks with missing sales values\n",
    "missing_sales_percentage = missing_sales_weeks / df_weekly['Sales'].shape[0] * 100\n",
    "\n",
    "print(f\"Percentage of weeks with missing sales values: {missing_sales_percentage:.2f}%\")"
   ]
  },
  {
   "cell_type": "markdown",
   "metadata": {},
   "source": [
    "# Question #2 : Insights et interprétation\n",
    "Identifie des insights qui, selon toi, peuvent contribuer à comprendre les variations des ventes.\n",
    "- En tenant compte des parties prenantes visées par ta solution, comment interprètes-tu les résultats produits par ta solution ML? Comment cette solution ajoute-t-elle de la valeur pour ces parties prenantes?\n",
    "- Selon toi, comment envisage-tu que les parties prenantes vont utiliser ta solution pour\n",
    "tenter de comprendre comment augmenter les ventes?\n",
    "\n",
    "Methods: \n",
    "- Use of unsupervised method to find insight and add value to the clients \n",
    "- They will understand what kind of features causes what\n",
    "    - Need coefficient? \n",
    "    - How to interpret? "
   ]
  },
  {
   "cell_type": "markdown",
   "metadata": {},
   "source": [
    "**Differentiating Between \"Understanding Sales Drivers\" and \"Forecasting\"**\n",
    "1. Sales Drivers (What Affects Sales?)\n",
    "- Key Question: What store actions, pricing changes, and product mixes lead to increased or decreased sales?"
   ]
  },
  {
   "cell_type": "markdown",
   "metadata": {},
   "source": [
    "## Unsupervised approach"
   ]
  },
  {
   "cell_type": "code",
   "execution_count": null,
   "metadata": {},
   "outputs": [],
   "source": [
    "from sklearn.preprocessing import StandardScaler\n",
    "import pandas as pd\n",
    "\n",
    "def scale_features(df, feature_cols):\n",
    "    \"\"\"\n",
    "    Scales numerical features using StandardScaler.\n",
    "    \n",
    "    Parameters:\n",
    "        df (pd.DataFrame): The input dataframe.\n",
    "        feature_cols (list): List of columns to scale.\n",
    "        \n",
    "    Returns:\n",
    "        pd.DataFrame: DataFrame with scaled features.\n",
    "        scaler: The fitted StandardScaler instance.\n",
    "    \"\"\"\n",
    "    # Initialize the scaler\n",
    "    scaler = StandardScaler()\n",
    "    \n",
    "    # Fit and transform the selected features\n",
    "    scaled_values = scaler.fit_transform(df[feature_cols])\n",
    "    \n",
    "    # Create a DataFrame for the scaled features\n",
    "    scaled_df = pd.DataFrame(scaled_values, columns=feature_cols, index=df.index)\n",
    "    \n",
    "    # Combine scaled features with the original DataFrame\n",
    "    df_scaled = df.copy()\n",
    "    for col in feature_cols:\n",
    "        df_scaled[col] = scaled_df[col]\n",
    "    \n",
    "    return df_scaled, scaler\n",
    "\n",
    "# Example usage\n",
    "feature_columns = ['Sales', 'Discount', 'Delivery Delay']  # Replace with your actual columns\n",
    "df_scaled, scaler = scale_features(df, feature_columns)\n"
   ]
  },
  {
   "cell_type": "code",
   "execution_count": null,
   "metadata": {},
   "outputs": [],
   "source": [
    "# from sklearn.decomposition import PCA\n",
    "# import matplotlib.pyplot as plt\n",
    "\n",
    "# # Apply PCA\n",
    "# pca = PCA(n_components=2)\n",
    "# pca_result = pca.fit_transform(df_scaled)\n",
    "\n",
    "# # Visualize\n",
    "# plt.scatter(pca_result[:, 0], pca_result[:, 1], c=df['Sales'], cmap='viridis')\n",
    "# plt.colorbar(label='Sales')\n",
    "# plt.title('PCA Analysis of Sales Data')\n",
    "# plt.show()"
   ]
  },
  {
   "cell_type": "markdown",
   "metadata": {},
   "source": [
    "## Supervised approach"
   ]
  },
  {
   "cell_type": "code",
   "execution_count": null,
   "metadata": {},
   "outputs": [
    {
     "name": "stderr",
     "output_type": "stream",
     "text": [
      "/var/folders/dj/q5s8lngd1msdbb76w1tn9x1r0000gn/T/ipykernel_66673/3853646899.py:7: FutureWarning:\n",
      "\n",
      "Setting an item of incompatible dtype is deprecated and will raise an error in a future version of pandas. Value '0' has dtype incompatible with datetime64[ns], please explicitly cast to a compatible dtype first.\n",
      "\n"
     ]
    },
    {
     "data": {
      "text/plain": [
       "Index(['Discount', 'Delivery Delay', 'Year', 'Month', 'Day_of_Week',\n",
       "       'Ship Mode_First Class', 'Ship Mode_Same Day', 'Ship Mode_Second Class',\n",
       "       'Ship Mode_Standard Class', 'Segment_Consumer', 'Segment_Corporate',\n",
       "       'Segment_Home Office', 'Region_Central', 'Region_East', 'Region_South',\n",
       "       'Region_West', 'Category_Furniture', 'Sub-Category_Bookcases',\n",
       "       'Sub-Category_Chairs', 'Sub-Category_Furnishings',\n",
       "       'Sub-Category_Tables'],\n",
       "      dtype='object')"
      ]
     },
     "execution_count": 133,
     "metadata": {},
     "output_type": "execute_result"
    }
   ],
   "source": [
    "from sklearn.model_selection import train_test_split\n",
    "from sklearn.ensemble import RandomForestRegressor\n",
    "import pandas as pd\n",
    "import numpy as np\n",
    "\n",
    "# Handle missing values: Fill or remove\n",
    "df.fillna(0, inplace=True)  # Example: Replace missing values with 0 (adjust as needed)\n",
    "\n",
    "# Feature engineering: Extract temporal features\n",
    "df['Year'] = df['Order Date'].dt.year\n",
    "df['Month'] = df['Order Date'].dt.month\n",
    "df['Day_of_Week'] = df['Order Date'].dt.dayofweek\n",
    "\n",
    "# Encode categorical variables\n",
    "categorical_cols = ['Ship Mode', 'Segment', 'Region', 'Category', 'Sub-Category']\n",
    "df_encoded = pd.get_dummies(df, columns=categorical_cols, drop_first=True)\n",
    "\n",
    "# Select features and target\n",
    "# Select features and target\n",
    "feature_cols = [col for col in df_encoded.columns if col not in ['Row ID', 'Order ID', 'Customer ID',  'Order Date', 'Ship Date', \n",
    "                                                                 'Customer Name', 'Country', 'City', 'Postal Code', 'Product ID', 'Product Name', \n",
    "                                                                 'State', 'Profit', 'Profit Margin','Quantity', \n",
    "                                                                 'Sales']]\n",
    "X = df_encoded[feature_cols]\n",
    "y = df_encoded['Sales']\n",
    "\n",
    "X.columns\n"
   ]
  },
  {
   "cell_type": "code",
   "execution_count": null,
   "metadata": {},
   "outputs": [],
   "source": [
    "# Split based on time periods\n",
    "train_data = df_encoded[df_encoded['Year'] < 2017]\n",
    "test_data = df_encoded[df_encoded['Year'] == 2017]\n",
    "\n",
    "X_train = train_data[feature_cols]\n",
    "y_train = train_data['Sales']\n",
    "X_test = test_data[feature_cols]\n",
    "y_test = test_data['Sales']\n"
   ]
  },
  {
   "cell_type": "code",
   "execution_count": null,
   "metadata": {},
   "outputs": [
    {
     "data": {
      "text/html": [
       "<style>#sk-container-id-9 {\n",
       "  /* Definition of color scheme common for light and dark mode */\n",
       "  --sklearn-color-text: #000;\n",
       "  --sklearn-color-text-muted: #666;\n",
       "  --sklearn-color-line: gray;\n",
       "  /* Definition of color scheme for unfitted estimators */\n",
       "  --sklearn-color-unfitted-level-0: #fff5e6;\n",
       "  --sklearn-color-unfitted-level-1: #f6e4d2;\n",
       "  --sklearn-color-unfitted-level-2: #ffe0b3;\n",
       "  --sklearn-color-unfitted-level-3: chocolate;\n",
       "  /* Definition of color scheme for fitted estimators */\n",
       "  --sklearn-color-fitted-level-0: #f0f8ff;\n",
       "  --sklearn-color-fitted-level-1: #d4ebff;\n",
       "  --sklearn-color-fitted-level-2: #b3dbfd;\n",
       "  --sklearn-color-fitted-level-3: cornflowerblue;\n",
       "\n",
       "  /* Specific color for light theme */\n",
       "  --sklearn-color-text-on-default-background: var(--sg-text-color, var(--theme-code-foreground, var(--jp-content-font-color1, black)));\n",
       "  --sklearn-color-background: var(--sg-background-color, var(--theme-background, var(--jp-layout-color0, white)));\n",
       "  --sklearn-color-border-box: var(--sg-text-color, var(--theme-code-foreground, var(--jp-content-font-color1, black)));\n",
       "  --sklearn-color-icon: #696969;\n",
       "\n",
       "  @media (prefers-color-scheme: dark) {\n",
       "    /* Redefinition of color scheme for dark theme */\n",
       "    --sklearn-color-text-on-default-background: var(--sg-text-color, var(--theme-code-foreground, var(--jp-content-font-color1, white)));\n",
       "    --sklearn-color-background: var(--sg-background-color, var(--theme-background, var(--jp-layout-color0, #111)));\n",
       "    --sklearn-color-border-box: var(--sg-text-color, var(--theme-code-foreground, var(--jp-content-font-color1, white)));\n",
       "    --sklearn-color-icon: #878787;\n",
       "  }\n",
       "}\n",
       "\n",
       "#sk-container-id-9 {\n",
       "  color: var(--sklearn-color-text);\n",
       "}\n",
       "\n",
       "#sk-container-id-9 pre {\n",
       "  padding: 0;\n",
       "}\n",
       "\n",
       "#sk-container-id-9 input.sk-hidden--visually {\n",
       "  border: 0;\n",
       "  clip: rect(1px 1px 1px 1px);\n",
       "  clip: rect(1px, 1px, 1px, 1px);\n",
       "  height: 1px;\n",
       "  margin: -1px;\n",
       "  overflow: hidden;\n",
       "  padding: 0;\n",
       "  position: absolute;\n",
       "  width: 1px;\n",
       "}\n",
       "\n",
       "#sk-container-id-9 div.sk-dashed-wrapped {\n",
       "  border: 1px dashed var(--sklearn-color-line);\n",
       "  margin: 0 0.4em 0.5em 0.4em;\n",
       "  box-sizing: border-box;\n",
       "  padding-bottom: 0.4em;\n",
       "  background-color: var(--sklearn-color-background);\n",
       "}\n",
       "\n",
       "#sk-container-id-9 div.sk-container {\n",
       "  /* jupyter's `normalize.less` sets `[hidden] { display: none; }`\n",
       "     but bootstrap.min.css set `[hidden] { display: none !important; }`\n",
       "     so we also need the `!important` here to be able to override the\n",
       "     default hidden behavior on the sphinx rendered scikit-learn.org.\n",
       "     See: https://github.com/scikit-learn/scikit-learn/issues/21755 */\n",
       "  display: inline-block !important;\n",
       "  position: relative;\n",
       "}\n",
       "\n",
       "#sk-container-id-9 div.sk-text-repr-fallback {\n",
       "  display: none;\n",
       "}\n",
       "\n",
       "div.sk-parallel-item,\n",
       "div.sk-serial,\n",
       "div.sk-item {\n",
       "  /* draw centered vertical line to link estimators */\n",
       "  background-image: linear-gradient(var(--sklearn-color-text-on-default-background), var(--sklearn-color-text-on-default-background));\n",
       "  background-size: 2px 100%;\n",
       "  background-repeat: no-repeat;\n",
       "  background-position: center center;\n",
       "}\n",
       "\n",
       "/* Parallel-specific style estimator block */\n",
       "\n",
       "#sk-container-id-9 div.sk-parallel-item::after {\n",
       "  content: \"\";\n",
       "  width: 100%;\n",
       "  border-bottom: 2px solid var(--sklearn-color-text-on-default-background);\n",
       "  flex-grow: 1;\n",
       "}\n",
       "\n",
       "#sk-container-id-9 div.sk-parallel {\n",
       "  display: flex;\n",
       "  align-items: stretch;\n",
       "  justify-content: center;\n",
       "  background-color: var(--sklearn-color-background);\n",
       "  position: relative;\n",
       "}\n",
       "\n",
       "#sk-container-id-9 div.sk-parallel-item {\n",
       "  display: flex;\n",
       "  flex-direction: column;\n",
       "}\n",
       "\n",
       "#sk-container-id-9 div.sk-parallel-item:first-child::after {\n",
       "  align-self: flex-end;\n",
       "  width: 50%;\n",
       "}\n",
       "\n",
       "#sk-container-id-9 div.sk-parallel-item:last-child::after {\n",
       "  align-self: flex-start;\n",
       "  width: 50%;\n",
       "}\n",
       "\n",
       "#sk-container-id-9 div.sk-parallel-item:only-child::after {\n",
       "  width: 0;\n",
       "}\n",
       "\n",
       "/* Serial-specific style estimator block */\n",
       "\n",
       "#sk-container-id-9 div.sk-serial {\n",
       "  display: flex;\n",
       "  flex-direction: column;\n",
       "  align-items: center;\n",
       "  background-color: var(--sklearn-color-background);\n",
       "  padding-right: 1em;\n",
       "  padding-left: 1em;\n",
       "}\n",
       "\n",
       "\n",
       "/* Toggleable style: style used for estimator/Pipeline/ColumnTransformer box that is\n",
       "clickable and can be expanded/collapsed.\n",
       "- Pipeline and ColumnTransformer use this feature and define the default style\n",
       "- Estimators will overwrite some part of the style using the `sk-estimator` class\n",
       "*/\n",
       "\n",
       "/* Pipeline and ColumnTransformer style (default) */\n",
       "\n",
       "#sk-container-id-9 div.sk-toggleable {\n",
       "  /* Default theme specific background. It is overwritten whether we have a\n",
       "  specific estimator or a Pipeline/ColumnTransformer */\n",
       "  background-color: var(--sklearn-color-background);\n",
       "}\n",
       "\n",
       "/* Toggleable label */\n",
       "#sk-container-id-9 label.sk-toggleable__label {\n",
       "  cursor: pointer;\n",
       "  display: flex;\n",
       "  width: 100%;\n",
       "  margin-bottom: 0;\n",
       "  padding: 0.5em;\n",
       "  box-sizing: border-box;\n",
       "  text-align: center;\n",
       "  align-items: start;\n",
       "  justify-content: space-between;\n",
       "  gap: 0.5em;\n",
       "}\n",
       "\n",
       "#sk-container-id-9 label.sk-toggleable__label .caption {\n",
       "  font-size: 0.6rem;\n",
       "  font-weight: lighter;\n",
       "  color: var(--sklearn-color-text-muted);\n",
       "}\n",
       "\n",
       "#sk-container-id-9 label.sk-toggleable__label-arrow:before {\n",
       "  /* Arrow on the left of the label */\n",
       "  content: \"▸\";\n",
       "  float: left;\n",
       "  margin-right: 0.25em;\n",
       "  color: var(--sklearn-color-icon);\n",
       "}\n",
       "\n",
       "#sk-container-id-9 label.sk-toggleable__label-arrow:hover:before {\n",
       "  color: var(--sklearn-color-text);\n",
       "}\n",
       "\n",
       "/* Toggleable content - dropdown */\n",
       "\n",
       "#sk-container-id-9 div.sk-toggleable__content {\n",
       "  max-height: 0;\n",
       "  max-width: 0;\n",
       "  overflow: hidden;\n",
       "  text-align: left;\n",
       "  /* unfitted */\n",
       "  background-color: var(--sklearn-color-unfitted-level-0);\n",
       "}\n",
       "\n",
       "#sk-container-id-9 div.sk-toggleable__content.fitted {\n",
       "  /* fitted */\n",
       "  background-color: var(--sklearn-color-fitted-level-0);\n",
       "}\n",
       "\n",
       "#sk-container-id-9 div.sk-toggleable__content pre {\n",
       "  margin: 0.2em;\n",
       "  border-radius: 0.25em;\n",
       "  color: var(--sklearn-color-text);\n",
       "  /* unfitted */\n",
       "  background-color: var(--sklearn-color-unfitted-level-0);\n",
       "}\n",
       "\n",
       "#sk-container-id-9 div.sk-toggleable__content.fitted pre {\n",
       "  /* unfitted */\n",
       "  background-color: var(--sklearn-color-fitted-level-0);\n",
       "}\n",
       "\n",
       "#sk-container-id-9 input.sk-toggleable__control:checked~div.sk-toggleable__content {\n",
       "  /* Expand drop-down */\n",
       "  max-height: 200px;\n",
       "  max-width: 100%;\n",
       "  overflow: auto;\n",
       "}\n",
       "\n",
       "#sk-container-id-9 input.sk-toggleable__control:checked~label.sk-toggleable__label-arrow:before {\n",
       "  content: \"▾\";\n",
       "}\n",
       "\n",
       "/* Pipeline/ColumnTransformer-specific style */\n",
       "\n",
       "#sk-container-id-9 div.sk-label input.sk-toggleable__control:checked~label.sk-toggleable__label {\n",
       "  color: var(--sklearn-color-text);\n",
       "  background-color: var(--sklearn-color-unfitted-level-2);\n",
       "}\n",
       "\n",
       "#sk-container-id-9 div.sk-label.fitted input.sk-toggleable__control:checked~label.sk-toggleable__label {\n",
       "  background-color: var(--sklearn-color-fitted-level-2);\n",
       "}\n",
       "\n",
       "/* Estimator-specific style */\n",
       "\n",
       "/* Colorize estimator box */\n",
       "#sk-container-id-9 div.sk-estimator input.sk-toggleable__control:checked~label.sk-toggleable__label {\n",
       "  /* unfitted */\n",
       "  background-color: var(--sklearn-color-unfitted-level-2);\n",
       "}\n",
       "\n",
       "#sk-container-id-9 div.sk-estimator.fitted input.sk-toggleable__control:checked~label.sk-toggleable__label {\n",
       "  /* fitted */\n",
       "  background-color: var(--sklearn-color-fitted-level-2);\n",
       "}\n",
       "\n",
       "#sk-container-id-9 div.sk-label label.sk-toggleable__label,\n",
       "#sk-container-id-9 div.sk-label label {\n",
       "  /* The background is the default theme color */\n",
       "  color: var(--sklearn-color-text-on-default-background);\n",
       "}\n",
       "\n",
       "/* On hover, darken the color of the background */\n",
       "#sk-container-id-9 div.sk-label:hover label.sk-toggleable__label {\n",
       "  color: var(--sklearn-color-text);\n",
       "  background-color: var(--sklearn-color-unfitted-level-2);\n",
       "}\n",
       "\n",
       "/* Label box, darken color on hover, fitted */\n",
       "#sk-container-id-9 div.sk-label.fitted:hover label.sk-toggleable__label.fitted {\n",
       "  color: var(--sklearn-color-text);\n",
       "  background-color: var(--sklearn-color-fitted-level-2);\n",
       "}\n",
       "\n",
       "/* Estimator label */\n",
       "\n",
       "#sk-container-id-9 div.sk-label label {\n",
       "  font-family: monospace;\n",
       "  font-weight: bold;\n",
       "  display: inline-block;\n",
       "  line-height: 1.2em;\n",
       "}\n",
       "\n",
       "#sk-container-id-9 div.sk-label-container {\n",
       "  text-align: center;\n",
       "}\n",
       "\n",
       "/* Estimator-specific */\n",
       "#sk-container-id-9 div.sk-estimator {\n",
       "  font-family: monospace;\n",
       "  border: 1px dotted var(--sklearn-color-border-box);\n",
       "  border-radius: 0.25em;\n",
       "  box-sizing: border-box;\n",
       "  margin-bottom: 0.5em;\n",
       "  /* unfitted */\n",
       "  background-color: var(--sklearn-color-unfitted-level-0);\n",
       "}\n",
       "\n",
       "#sk-container-id-9 div.sk-estimator.fitted {\n",
       "  /* fitted */\n",
       "  background-color: var(--sklearn-color-fitted-level-0);\n",
       "}\n",
       "\n",
       "/* on hover */\n",
       "#sk-container-id-9 div.sk-estimator:hover {\n",
       "  /* unfitted */\n",
       "  background-color: var(--sklearn-color-unfitted-level-2);\n",
       "}\n",
       "\n",
       "#sk-container-id-9 div.sk-estimator.fitted:hover {\n",
       "  /* fitted */\n",
       "  background-color: var(--sklearn-color-fitted-level-2);\n",
       "}\n",
       "\n",
       "/* Specification for estimator info (e.g. \"i\" and \"?\") */\n",
       "\n",
       "/* Common style for \"i\" and \"?\" */\n",
       "\n",
       ".sk-estimator-doc-link,\n",
       "a:link.sk-estimator-doc-link,\n",
       "a:visited.sk-estimator-doc-link {\n",
       "  float: right;\n",
       "  font-size: smaller;\n",
       "  line-height: 1em;\n",
       "  font-family: monospace;\n",
       "  background-color: var(--sklearn-color-background);\n",
       "  border-radius: 1em;\n",
       "  height: 1em;\n",
       "  width: 1em;\n",
       "  text-decoration: none !important;\n",
       "  margin-left: 0.5em;\n",
       "  text-align: center;\n",
       "  /* unfitted */\n",
       "  border: var(--sklearn-color-unfitted-level-1) 1pt solid;\n",
       "  color: var(--sklearn-color-unfitted-level-1);\n",
       "}\n",
       "\n",
       ".sk-estimator-doc-link.fitted,\n",
       "a:link.sk-estimator-doc-link.fitted,\n",
       "a:visited.sk-estimator-doc-link.fitted {\n",
       "  /* fitted */\n",
       "  border: var(--sklearn-color-fitted-level-1) 1pt solid;\n",
       "  color: var(--sklearn-color-fitted-level-1);\n",
       "}\n",
       "\n",
       "/* On hover */\n",
       "div.sk-estimator:hover .sk-estimator-doc-link:hover,\n",
       ".sk-estimator-doc-link:hover,\n",
       "div.sk-label-container:hover .sk-estimator-doc-link:hover,\n",
       ".sk-estimator-doc-link:hover {\n",
       "  /* unfitted */\n",
       "  background-color: var(--sklearn-color-unfitted-level-3);\n",
       "  color: var(--sklearn-color-background);\n",
       "  text-decoration: none;\n",
       "}\n",
       "\n",
       "div.sk-estimator.fitted:hover .sk-estimator-doc-link.fitted:hover,\n",
       ".sk-estimator-doc-link.fitted:hover,\n",
       "div.sk-label-container:hover .sk-estimator-doc-link.fitted:hover,\n",
       ".sk-estimator-doc-link.fitted:hover {\n",
       "  /* fitted */\n",
       "  background-color: var(--sklearn-color-fitted-level-3);\n",
       "  color: var(--sklearn-color-background);\n",
       "  text-decoration: none;\n",
       "}\n",
       "\n",
       "/* Span, style for the box shown on hovering the info icon */\n",
       ".sk-estimator-doc-link span {\n",
       "  display: none;\n",
       "  z-index: 9999;\n",
       "  position: relative;\n",
       "  font-weight: normal;\n",
       "  right: .2ex;\n",
       "  padding: .5ex;\n",
       "  margin: .5ex;\n",
       "  width: min-content;\n",
       "  min-width: 20ex;\n",
       "  max-width: 50ex;\n",
       "  color: var(--sklearn-color-text);\n",
       "  box-shadow: 2pt 2pt 4pt #999;\n",
       "  /* unfitted */\n",
       "  background: var(--sklearn-color-unfitted-level-0);\n",
       "  border: .5pt solid var(--sklearn-color-unfitted-level-3);\n",
       "}\n",
       "\n",
       ".sk-estimator-doc-link.fitted span {\n",
       "  /* fitted */\n",
       "  background: var(--sklearn-color-fitted-level-0);\n",
       "  border: var(--sklearn-color-fitted-level-3);\n",
       "}\n",
       "\n",
       ".sk-estimator-doc-link:hover span {\n",
       "  display: block;\n",
       "}\n",
       "\n",
       "/* \"?\"-specific style due to the `<a>` HTML tag */\n",
       "\n",
       "#sk-container-id-9 a.estimator_doc_link {\n",
       "  float: right;\n",
       "  font-size: 1rem;\n",
       "  line-height: 1em;\n",
       "  font-family: monospace;\n",
       "  background-color: var(--sklearn-color-background);\n",
       "  border-radius: 1rem;\n",
       "  height: 1rem;\n",
       "  width: 1rem;\n",
       "  text-decoration: none;\n",
       "  /* unfitted */\n",
       "  color: var(--sklearn-color-unfitted-level-1);\n",
       "  border: var(--sklearn-color-unfitted-level-1) 1pt solid;\n",
       "}\n",
       "\n",
       "#sk-container-id-9 a.estimator_doc_link.fitted {\n",
       "  /* fitted */\n",
       "  border: var(--sklearn-color-fitted-level-1) 1pt solid;\n",
       "  color: var(--sklearn-color-fitted-level-1);\n",
       "}\n",
       "\n",
       "/* On hover */\n",
       "#sk-container-id-9 a.estimator_doc_link:hover {\n",
       "  /* unfitted */\n",
       "  background-color: var(--sklearn-color-unfitted-level-3);\n",
       "  color: var(--sklearn-color-background);\n",
       "  text-decoration: none;\n",
       "}\n",
       "\n",
       "#sk-container-id-9 a.estimator_doc_link.fitted:hover {\n",
       "  /* fitted */\n",
       "  background-color: var(--sklearn-color-fitted-level-3);\n",
       "}\n",
       "</style><div id=\"sk-container-id-9\" class=\"sk-top-container\"><div class=\"sk-text-repr-fallback\"><pre>RandomForestRegressor(random_state=42)</pre><b>In a Jupyter environment, please rerun this cell to show the HTML representation or trust the notebook. <br />On GitHub, the HTML representation is unable to render, please try loading this page with nbviewer.org.</b></div><div class=\"sk-container\" hidden><div class=\"sk-item\"><div class=\"sk-estimator fitted sk-toggleable\"><input class=\"sk-toggleable__control sk-hidden--visually\" id=\"sk-estimator-id-9\" type=\"checkbox\" checked><label for=\"sk-estimator-id-9\" class=\"sk-toggleable__label fitted sk-toggleable__label-arrow\"><div><div>RandomForestRegressor</div></div><div><a class=\"sk-estimator-doc-link fitted\" rel=\"noreferrer\" target=\"_blank\" href=\"https://scikit-learn.org/1.6/modules/generated/sklearn.ensemble.RandomForestRegressor.html\">?<span>Documentation for RandomForestRegressor</span></a><span class=\"sk-estimator-doc-link fitted\">i<span>Fitted</span></span></div></label><div class=\"sk-toggleable__content fitted\"><pre>RandomForestRegressor(random_state=42)</pre></div> </div></div></div></div>"
      ],
      "text/plain": [
       "RandomForestRegressor(random_state=42)"
      ]
     },
     "execution_count": 135,
     "metadata": {},
     "output_type": "execute_result"
    }
   ],
   "source": [
    "# Define and train the Random Forest model\n",
    "rf_model = RandomForestRegressor(n_estimators=100, random_state=42)\n",
    "rf_model.fit(X_train, y_train)"
   ]
  },
  {
   "cell_type": "code",
   "execution_count": null,
   "metadata": {},
   "outputs": [
    {
     "name": "stderr",
     "output_type": "stream",
     "text": [
      "/var/folders/dj/q5s8lngd1msdbb76w1tn9x1r0000gn/T/ipykernel_66673/4073618067.py:2: SettingWithCopyWarning:\n",
      "\n",
      "\n",
      "A value is trying to be set on a copy of a slice from a DataFrame.\n",
      "Try using .loc[row_indexer,col_indexer] = value instead\n",
      "\n",
      "See the caveats in the documentation: https://pandas.pydata.org/pandas-docs/stable/user_guide/indexing.html#returning-a-view-versus-a-copy\n",
      "\n",
      "/var/folders/dj/q5s8lngd1msdbb76w1tn9x1r0000gn/T/ipykernel_66673/4073618067.py:3: SettingWithCopyWarning:\n",
      "\n",
      "\n",
      "A value is trying to be set on a copy of a slice from a DataFrame.\n",
      "Try using .loc[row_indexer,col_indexer] = value instead\n",
      "\n",
      "See the caveats in the documentation: https://pandas.pydata.org/pandas-docs/stable/user_guide/indexing.html#returning-a-view-versus-a-copy\n",
      "\n",
      "/var/folders/dj/q5s8lngd1msdbb76w1tn9x1r0000gn/T/ipykernel_66673/4073618067.py:6: SettingWithCopyWarning:\n",
      "\n",
      "\n",
      "A value is trying to be set on a copy of a slice from a DataFrame.\n",
      "Try using .loc[row_indexer,col_indexer] = value instead\n",
      "\n",
      "See the caveats in the documentation: https://pandas.pydata.org/pandas-docs/stable/user_guide/indexing.html#returning-a-view-versus-a-copy\n",
      "\n",
      "/var/folders/dj/q5s8lngd1msdbb76w1tn9x1r0000gn/T/ipykernel_66673/4073618067.py:7: SettingWithCopyWarning:\n",
      "\n",
      "\n",
      "A value is trying to be set on a copy of a slice from a DataFrame.\n",
      "Try using .loc[row_indexer,col_indexer] = value instead\n",
      "\n",
      "See the caveats in the documentation: https://pandas.pydata.org/pandas-docs/stable/user_guide/indexing.html#returning-a-view-versus-a-copy\n",
      "\n"
     ]
    }
   ],
   "source": [
    "# Create interaction features\n",
    "train_data['Discount_Region'] = train_data['Discount'] * train_data['Region_West']  # Example: Region West\n",
    "train_data['Discount_Category'] = train_data['Discount'] * train_data['Region_Central']\n",
    "\n",
    "# Test data \n",
    "test_data['Discount_Region'] = test_data['Discount'] * test_data['Region_West']  # Example: Region West\n",
    "test_data['Discount_Category'] = test_data['Discount'] * test_data['Region_Central']\n"
   ]
  },
  {
   "cell_type": "code",
   "execution_count": null,
   "metadata": {},
   "outputs": [
    {
     "data": {
      "text/html": [
       "<style>#sk-container-id-10 {\n",
       "  /* Definition of color scheme common for light and dark mode */\n",
       "  --sklearn-color-text: #000;\n",
       "  --sklearn-color-text-muted: #666;\n",
       "  --sklearn-color-line: gray;\n",
       "  /* Definition of color scheme for unfitted estimators */\n",
       "  --sklearn-color-unfitted-level-0: #fff5e6;\n",
       "  --sklearn-color-unfitted-level-1: #f6e4d2;\n",
       "  --sklearn-color-unfitted-level-2: #ffe0b3;\n",
       "  --sklearn-color-unfitted-level-3: chocolate;\n",
       "  /* Definition of color scheme for fitted estimators */\n",
       "  --sklearn-color-fitted-level-0: #f0f8ff;\n",
       "  --sklearn-color-fitted-level-1: #d4ebff;\n",
       "  --sklearn-color-fitted-level-2: #b3dbfd;\n",
       "  --sklearn-color-fitted-level-3: cornflowerblue;\n",
       "\n",
       "  /* Specific color for light theme */\n",
       "  --sklearn-color-text-on-default-background: var(--sg-text-color, var(--theme-code-foreground, var(--jp-content-font-color1, black)));\n",
       "  --sklearn-color-background: var(--sg-background-color, var(--theme-background, var(--jp-layout-color0, white)));\n",
       "  --sklearn-color-border-box: var(--sg-text-color, var(--theme-code-foreground, var(--jp-content-font-color1, black)));\n",
       "  --sklearn-color-icon: #696969;\n",
       "\n",
       "  @media (prefers-color-scheme: dark) {\n",
       "    /* Redefinition of color scheme for dark theme */\n",
       "    --sklearn-color-text-on-default-background: var(--sg-text-color, var(--theme-code-foreground, var(--jp-content-font-color1, white)));\n",
       "    --sklearn-color-background: var(--sg-background-color, var(--theme-background, var(--jp-layout-color0, #111)));\n",
       "    --sklearn-color-border-box: var(--sg-text-color, var(--theme-code-foreground, var(--jp-content-font-color1, white)));\n",
       "    --sklearn-color-icon: #878787;\n",
       "  }\n",
       "}\n",
       "\n",
       "#sk-container-id-10 {\n",
       "  color: var(--sklearn-color-text);\n",
       "}\n",
       "\n",
       "#sk-container-id-10 pre {\n",
       "  padding: 0;\n",
       "}\n",
       "\n",
       "#sk-container-id-10 input.sk-hidden--visually {\n",
       "  border: 0;\n",
       "  clip: rect(1px 1px 1px 1px);\n",
       "  clip: rect(1px, 1px, 1px, 1px);\n",
       "  height: 1px;\n",
       "  margin: -1px;\n",
       "  overflow: hidden;\n",
       "  padding: 0;\n",
       "  position: absolute;\n",
       "  width: 1px;\n",
       "}\n",
       "\n",
       "#sk-container-id-10 div.sk-dashed-wrapped {\n",
       "  border: 1px dashed var(--sklearn-color-line);\n",
       "  margin: 0 0.4em 0.5em 0.4em;\n",
       "  box-sizing: border-box;\n",
       "  padding-bottom: 0.4em;\n",
       "  background-color: var(--sklearn-color-background);\n",
       "}\n",
       "\n",
       "#sk-container-id-10 div.sk-container {\n",
       "  /* jupyter's `normalize.less` sets `[hidden] { display: none; }`\n",
       "     but bootstrap.min.css set `[hidden] { display: none !important; }`\n",
       "     so we also need the `!important` here to be able to override the\n",
       "     default hidden behavior on the sphinx rendered scikit-learn.org.\n",
       "     See: https://github.com/scikit-learn/scikit-learn/issues/21755 */\n",
       "  display: inline-block !important;\n",
       "  position: relative;\n",
       "}\n",
       "\n",
       "#sk-container-id-10 div.sk-text-repr-fallback {\n",
       "  display: none;\n",
       "}\n",
       "\n",
       "div.sk-parallel-item,\n",
       "div.sk-serial,\n",
       "div.sk-item {\n",
       "  /* draw centered vertical line to link estimators */\n",
       "  background-image: linear-gradient(var(--sklearn-color-text-on-default-background), var(--sklearn-color-text-on-default-background));\n",
       "  background-size: 2px 100%;\n",
       "  background-repeat: no-repeat;\n",
       "  background-position: center center;\n",
       "}\n",
       "\n",
       "/* Parallel-specific style estimator block */\n",
       "\n",
       "#sk-container-id-10 div.sk-parallel-item::after {\n",
       "  content: \"\";\n",
       "  width: 100%;\n",
       "  border-bottom: 2px solid var(--sklearn-color-text-on-default-background);\n",
       "  flex-grow: 1;\n",
       "}\n",
       "\n",
       "#sk-container-id-10 div.sk-parallel {\n",
       "  display: flex;\n",
       "  align-items: stretch;\n",
       "  justify-content: center;\n",
       "  background-color: var(--sklearn-color-background);\n",
       "  position: relative;\n",
       "}\n",
       "\n",
       "#sk-container-id-10 div.sk-parallel-item {\n",
       "  display: flex;\n",
       "  flex-direction: column;\n",
       "}\n",
       "\n",
       "#sk-container-id-10 div.sk-parallel-item:first-child::after {\n",
       "  align-self: flex-end;\n",
       "  width: 50%;\n",
       "}\n",
       "\n",
       "#sk-container-id-10 div.sk-parallel-item:last-child::after {\n",
       "  align-self: flex-start;\n",
       "  width: 50%;\n",
       "}\n",
       "\n",
       "#sk-container-id-10 div.sk-parallel-item:only-child::after {\n",
       "  width: 0;\n",
       "}\n",
       "\n",
       "/* Serial-specific style estimator block */\n",
       "\n",
       "#sk-container-id-10 div.sk-serial {\n",
       "  display: flex;\n",
       "  flex-direction: column;\n",
       "  align-items: center;\n",
       "  background-color: var(--sklearn-color-background);\n",
       "  padding-right: 1em;\n",
       "  padding-left: 1em;\n",
       "}\n",
       "\n",
       "\n",
       "/* Toggleable style: style used for estimator/Pipeline/ColumnTransformer box that is\n",
       "clickable and can be expanded/collapsed.\n",
       "- Pipeline and ColumnTransformer use this feature and define the default style\n",
       "- Estimators will overwrite some part of the style using the `sk-estimator` class\n",
       "*/\n",
       "\n",
       "/* Pipeline and ColumnTransformer style (default) */\n",
       "\n",
       "#sk-container-id-10 div.sk-toggleable {\n",
       "  /* Default theme specific background. It is overwritten whether we have a\n",
       "  specific estimator or a Pipeline/ColumnTransformer */\n",
       "  background-color: var(--sklearn-color-background);\n",
       "}\n",
       "\n",
       "/* Toggleable label */\n",
       "#sk-container-id-10 label.sk-toggleable__label {\n",
       "  cursor: pointer;\n",
       "  display: flex;\n",
       "  width: 100%;\n",
       "  margin-bottom: 0;\n",
       "  padding: 0.5em;\n",
       "  box-sizing: border-box;\n",
       "  text-align: center;\n",
       "  align-items: start;\n",
       "  justify-content: space-between;\n",
       "  gap: 0.5em;\n",
       "}\n",
       "\n",
       "#sk-container-id-10 label.sk-toggleable__label .caption {\n",
       "  font-size: 0.6rem;\n",
       "  font-weight: lighter;\n",
       "  color: var(--sklearn-color-text-muted);\n",
       "}\n",
       "\n",
       "#sk-container-id-10 label.sk-toggleable__label-arrow:before {\n",
       "  /* Arrow on the left of the label */\n",
       "  content: \"▸\";\n",
       "  float: left;\n",
       "  margin-right: 0.25em;\n",
       "  color: var(--sklearn-color-icon);\n",
       "}\n",
       "\n",
       "#sk-container-id-10 label.sk-toggleable__label-arrow:hover:before {\n",
       "  color: var(--sklearn-color-text);\n",
       "}\n",
       "\n",
       "/* Toggleable content - dropdown */\n",
       "\n",
       "#sk-container-id-10 div.sk-toggleable__content {\n",
       "  max-height: 0;\n",
       "  max-width: 0;\n",
       "  overflow: hidden;\n",
       "  text-align: left;\n",
       "  /* unfitted */\n",
       "  background-color: var(--sklearn-color-unfitted-level-0);\n",
       "}\n",
       "\n",
       "#sk-container-id-10 div.sk-toggleable__content.fitted {\n",
       "  /* fitted */\n",
       "  background-color: var(--sklearn-color-fitted-level-0);\n",
       "}\n",
       "\n",
       "#sk-container-id-10 div.sk-toggleable__content pre {\n",
       "  margin: 0.2em;\n",
       "  border-radius: 0.25em;\n",
       "  color: var(--sklearn-color-text);\n",
       "  /* unfitted */\n",
       "  background-color: var(--sklearn-color-unfitted-level-0);\n",
       "}\n",
       "\n",
       "#sk-container-id-10 div.sk-toggleable__content.fitted pre {\n",
       "  /* unfitted */\n",
       "  background-color: var(--sklearn-color-fitted-level-0);\n",
       "}\n",
       "\n",
       "#sk-container-id-10 input.sk-toggleable__control:checked~div.sk-toggleable__content {\n",
       "  /* Expand drop-down */\n",
       "  max-height: 200px;\n",
       "  max-width: 100%;\n",
       "  overflow: auto;\n",
       "}\n",
       "\n",
       "#sk-container-id-10 input.sk-toggleable__control:checked~label.sk-toggleable__label-arrow:before {\n",
       "  content: \"▾\";\n",
       "}\n",
       "\n",
       "/* Pipeline/ColumnTransformer-specific style */\n",
       "\n",
       "#sk-container-id-10 div.sk-label input.sk-toggleable__control:checked~label.sk-toggleable__label {\n",
       "  color: var(--sklearn-color-text);\n",
       "  background-color: var(--sklearn-color-unfitted-level-2);\n",
       "}\n",
       "\n",
       "#sk-container-id-10 div.sk-label.fitted input.sk-toggleable__control:checked~label.sk-toggleable__label {\n",
       "  background-color: var(--sklearn-color-fitted-level-2);\n",
       "}\n",
       "\n",
       "/* Estimator-specific style */\n",
       "\n",
       "/* Colorize estimator box */\n",
       "#sk-container-id-10 div.sk-estimator input.sk-toggleable__control:checked~label.sk-toggleable__label {\n",
       "  /* unfitted */\n",
       "  background-color: var(--sklearn-color-unfitted-level-2);\n",
       "}\n",
       "\n",
       "#sk-container-id-10 div.sk-estimator.fitted input.sk-toggleable__control:checked~label.sk-toggleable__label {\n",
       "  /* fitted */\n",
       "  background-color: var(--sklearn-color-fitted-level-2);\n",
       "}\n",
       "\n",
       "#sk-container-id-10 div.sk-label label.sk-toggleable__label,\n",
       "#sk-container-id-10 div.sk-label label {\n",
       "  /* The background is the default theme color */\n",
       "  color: var(--sklearn-color-text-on-default-background);\n",
       "}\n",
       "\n",
       "/* On hover, darken the color of the background */\n",
       "#sk-container-id-10 div.sk-label:hover label.sk-toggleable__label {\n",
       "  color: var(--sklearn-color-text);\n",
       "  background-color: var(--sklearn-color-unfitted-level-2);\n",
       "}\n",
       "\n",
       "/* Label box, darken color on hover, fitted */\n",
       "#sk-container-id-10 div.sk-label.fitted:hover label.sk-toggleable__label.fitted {\n",
       "  color: var(--sklearn-color-text);\n",
       "  background-color: var(--sklearn-color-fitted-level-2);\n",
       "}\n",
       "\n",
       "/* Estimator label */\n",
       "\n",
       "#sk-container-id-10 div.sk-label label {\n",
       "  font-family: monospace;\n",
       "  font-weight: bold;\n",
       "  display: inline-block;\n",
       "  line-height: 1.2em;\n",
       "}\n",
       "\n",
       "#sk-container-id-10 div.sk-label-container {\n",
       "  text-align: center;\n",
       "}\n",
       "\n",
       "/* Estimator-specific */\n",
       "#sk-container-id-10 div.sk-estimator {\n",
       "  font-family: monospace;\n",
       "  border: 1px dotted var(--sklearn-color-border-box);\n",
       "  border-radius: 0.25em;\n",
       "  box-sizing: border-box;\n",
       "  margin-bottom: 0.5em;\n",
       "  /* unfitted */\n",
       "  background-color: var(--sklearn-color-unfitted-level-0);\n",
       "}\n",
       "\n",
       "#sk-container-id-10 div.sk-estimator.fitted {\n",
       "  /* fitted */\n",
       "  background-color: var(--sklearn-color-fitted-level-0);\n",
       "}\n",
       "\n",
       "/* on hover */\n",
       "#sk-container-id-10 div.sk-estimator:hover {\n",
       "  /* unfitted */\n",
       "  background-color: var(--sklearn-color-unfitted-level-2);\n",
       "}\n",
       "\n",
       "#sk-container-id-10 div.sk-estimator.fitted:hover {\n",
       "  /* fitted */\n",
       "  background-color: var(--sklearn-color-fitted-level-2);\n",
       "}\n",
       "\n",
       "/* Specification for estimator info (e.g. \"i\" and \"?\") */\n",
       "\n",
       "/* Common style for \"i\" and \"?\" */\n",
       "\n",
       ".sk-estimator-doc-link,\n",
       "a:link.sk-estimator-doc-link,\n",
       "a:visited.sk-estimator-doc-link {\n",
       "  float: right;\n",
       "  font-size: smaller;\n",
       "  line-height: 1em;\n",
       "  font-family: monospace;\n",
       "  background-color: var(--sklearn-color-background);\n",
       "  border-radius: 1em;\n",
       "  height: 1em;\n",
       "  width: 1em;\n",
       "  text-decoration: none !important;\n",
       "  margin-left: 0.5em;\n",
       "  text-align: center;\n",
       "  /* unfitted */\n",
       "  border: var(--sklearn-color-unfitted-level-1) 1pt solid;\n",
       "  color: var(--sklearn-color-unfitted-level-1);\n",
       "}\n",
       "\n",
       ".sk-estimator-doc-link.fitted,\n",
       "a:link.sk-estimator-doc-link.fitted,\n",
       "a:visited.sk-estimator-doc-link.fitted {\n",
       "  /* fitted */\n",
       "  border: var(--sklearn-color-fitted-level-1) 1pt solid;\n",
       "  color: var(--sklearn-color-fitted-level-1);\n",
       "}\n",
       "\n",
       "/* On hover */\n",
       "div.sk-estimator:hover .sk-estimator-doc-link:hover,\n",
       ".sk-estimator-doc-link:hover,\n",
       "div.sk-label-container:hover .sk-estimator-doc-link:hover,\n",
       ".sk-estimator-doc-link:hover {\n",
       "  /* unfitted */\n",
       "  background-color: var(--sklearn-color-unfitted-level-3);\n",
       "  color: var(--sklearn-color-background);\n",
       "  text-decoration: none;\n",
       "}\n",
       "\n",
       "div.sk-estimator.fitted:hover .sk-estimator-doc-link.fitted:hover,\n",
       ".sk-estimator-doc-link.fitted:hover,\n",
       "div.sk-label-container:hover .sk-estimator-doc-link.fitted:hover,\n",
       ".sk-estimator-doc-link.fitted:hover {\n",
       "  /* fitted */\n",
       "  background-color: var(--sklearn-color-fitted-level-3);\n",
       "  color: var(--sklearn-color-background);\n",
       "  text-decoration: none;\n",
       "}\n",
       "\n",
       "/* Span, style for the box shown on hovering the info icon */\n",
       ".sk-estimator-doc-link span {\n",
       "  display: none;\n",
       "  z-index: 9999;\n",
       "  position: relative;\n",
       "  font-weight: normal;\n",
       "  right: .2ex;\n",
       "  padding: .5ex;\n",
       "  margin: .5ex;\n",
       "  width: min-content;\n",
       "  min-width: 20ex;\n",
       "  max-width: 50ex;\n",
       "  color: var(--sklearn-color-text);\n",
       "  box-shadow: 2pt 2pt 4pt #999;\n",
       "  /* unfitted */\n",
       "  background: var(--sklearn-color-unfitted-level-0);\n",
       "  border: .5pt solid var(--sklearn-color-unfitted-level-3);\n",
       "}\n",
       "\n",
       ".sk-estimator-doc-link.fitted span {\n",
       "  /* fitted */\n",
       "  background: var(--sklearn-color-fitted-level-0);\n",
       "  border: var(--sklearn-color-fitted-level-3);\n",
       "}\n",
       "\n",
       ".sk-estimator-doc-link:hover span {\n",
       "  display: block;\n",
       "}\n",
       "\n",
       "/* \"?\"-specific style due to the `<a>` HTML tag */\n",
       "\n",
       "#sk-container-id-10 a.estimator_doc_link {\n",
       "  float: right;\n",
       "  font-size: 1rem;\n",
       "  line-height: 1em;\n",
       "  font-family: monospace;\n",
       "  background-color: var(--sklearn-color-background);\n",
       "  border-radius: 1rem;\n",
       "  height: 1rem;\n",
       "  width: 1rem;\n",
       "  text-decoration: none;\n",
       "  /* unfitted */\n",
       "  color: var(--sklearn-color-unfitted-level-1);\n",
       "  border: var(--sklearn-color-unfitted-level-1) 1pt solid;\n",
       "}\n",
       "\n",
       "#sk-container-id-10 a.estimator_doc_link.fitted {\n",
       "  /* fitted */\n",
       "  border: var(--sklearn-color-fitted-level-1) 1pt solid;\n",
       "  color: var(--sklearn-color-fitted-level-1);\n",
       "}\n",
       "\n",
       "/* On hover */\n",
       "#sk-container-id-10 a.estimator_doc_link:hover {\n",
       "  /* unfitted */\n",
       "  background-color: var(--sklearn-color-unfitted-level-3);\n",
       "  color: var(--sklearn-color-background);\n",
       "  text-decoration: none;\n",
       "}\n",
       "\n",
       "#sk-container-id-10 a.estimator_doc_link.fitted:hover {\n",
       "  /* fitted */\n",
       "  background-color: var(--sklearn-color-fitted-level-3);\n",
       "}\n",
       "</style><div id=\"sk-container-id-10\" class=\"sk-top-container\"><div class=\"sk-text-repr-fallback\"><pre>RandomForestRegressor(random_state=42)</pre><b>In a Jupyter environment, please rerun this cell to show the HTML representation or trust the notebook. <br />On GitHub, the HTML representation is unable to render, please try loading this page with nbviewer.org.</b></div><div class=\"sk-container\" hidden><div class=\"sk-item\"><div class=\"sk-estimator fitted sk-toggleable\"><input class=\"sk-toggleable__control sk-hidden--visually\" id=\"sk-estimator-id-10\" type=\"checkbox\" checked><label for=\"sk-estimator-id-10\" class=\"sk-toggleable__label fitted sk-toggleable__label-arrow\"><div><div>RandomForestRegressor</div></div><div><a class=\"sk-estimator-doc-link fitted\" rel=\"noreferrer\" target=\"_blank\" href=\"https://scikit-learn.org/1.6/modules/generated/sklearn.ensemble.RandomForestRegressor.html\">?<span>Documentation for RandomForestRegressor</span></a><span class=\"sk-estimator-doc-link fitted\">i<span>Fitted</span></span></div></label><div class=\"sk-toggleable__content fitted\"><pre>RandomForestRegressor(random_state=42)</pre></div> </div></div></div></div>"
      ],
      "text/plain": [
       "RandomForestRegressor(random_state=42)"
      ]
     },
     "execution_count": 137,
     "metadata": {},
     "output_type": "execute_result"
    }
   ],
   "source": [
    "feature_cols += ['Discount_Region', 'Discount_Category']\n",
    "X_train = train_data[feature_cols]\n",
    "X_test = test_data[feature_cols]\n",
    "\n",
    "# Re-train model\n",
    "rf_model.fit(X_train, y_train)"
   ]
  },
  {
   "cell_type": "code",
   "execution_count": null,
   "metadata": {},
   "outputs": [
    {
     "name": "stdout",
     "output_type": "stream",
     "text": [
      "                     Feature  Importance\n",
      "3                      Month    0.141838\n",
      "19  Sub-Category_Furnishings    0.117825\n",
      "4                Day_of_Week    0.100569\n",
      "1             Delivery Delay    0.080907\n",
      "16        Category_Furniture    0.067793\n",
      "0                   Discount    0.064498\n",
      "20       Sub-Category_Tables    0.063248\n",
      "18       Sub-Category_Chairs    0.055181\n",
      "2                       Year    0.055033\n",
      "17    Sub-Category_Bookcases    0.040149\n",
      "9           Segment_Consumer    0.025876\n",
      "14              Region_South    0.025175\n",
      "13               Region_East    0.023880\n",
      "10         Segment_Corporate    0.022286\n",
      "7     Ship Mode_Second Class    0.020534\n",
      "11       Segment_Home Office    0.017608\n",
      "8   Ship Mode_Standard Class    0.016057\n",
      "12            Region_Central    0.014769\n",
      "5      Ship Mode_First Class    0.013753\n",
      "15               Region_West    0.012696\n",
      "21           Discount_Region    0.008197\n",
      "22         Discount_Category    0.007530\n",
      "6         Ship Mode_Same Day    0.004598\n"
     ]
    }
   ],
   "source": [
    "# Get feature importance\n",
    "importance = rf_model.feature_importances_\n",
    "importance_df = pd.DataFrame({'Feature': feature_cols, 'Importance': importance})\n",
    "importance_df = importance_df.sort_values(by='Importance', ascending=False)\n",
    "print(importance_df)\n"
   ]
  },
  {
   "cell_type": "markdown",
   "metadata": {},
   "source": [
    "Segment-Specific Feature Importance"
   ]
  },
  {
   "cell_type": "code",
   "execution_count": null,
   "metadata": {},
   "outputs": [
    {
     "ename": "KeyError",
     "evalue": "\"['Discount_Region', 'Discount_Category'] not in index\"",
     "output_type": "error",
     "traceback": [
      "\u001b[0;31m---------------------------------------------------------------------------\u001b[0m",
      "\u001b[0;31mKeyError\u001b[0m                                  Traceback (most recent call last)",
      "Cell \u001b[0;32mIn[139], line 7\u001b[0m\n\u001b[1;32m      4\u001b[0m \u001b[38;5;28;01mfor\u001b[39;00m region \u001b[38;5;129;01min\u001b[39;00m regions:\n\u001b[1;32m      5\u001b[0m     \u001b[38;5;66;03m# Filter data for the region\u001b[39;00m\n\u001b[1;32m      6\u001b[0m     region_data \u001b[38;5;241m=\u001b[39m df_encoded[df_encoded[\u001b[38;5;124m'\u001b[39m\u001b[38;5;124mRegion_West\u001b[39m\u001b[38;5;124m'\u001b[39m] \u001b[38;5;241m==\u001b[39m region]\n\u001b[0;32m----> 7\u001b[0m     X_region \u001b[38;5;241m=\u001b[39m region_data[feature_cols]\n\u001b[1;32m      8\u001b[0m     y_region \u001b[38;5;241m=\u001b[39m region_data[\u001b[38;5;124m'\u001b[39m\u001b[38;5;124mSales\u001b[39m\u001b[38;5;124m'\u001b[39m]\n\u001b[1;32m     10\u001b[0m     \u001b[38;5;66;03m# Train model\u001b[39;00m\n",
      "File \u001b[0;32m~/miniforge3/envs/arm64_Miniforge/lib/python3.11/site-packages/pandas/core/frame.py:4108\u001b[0m, in \u001b[0;36mDataFrame.__getitem__\u001b[0;34m(self, key)\u001b[0m\n\u001b[1;32m   4106\u001b[0m     \u001b[38;5;28;01mif\u001b[39;00m is_iterator(key):\n\u001b[1;32m   4107\u001b[0m         key \u001b[38;5;241m=\u001b[39m \u001b[38;5;28mlist\u001b[39m(key)\n\u001b[0;32m-> 4108\u001b[0m     indexer \u001b[38;5;241m=\u001b[39m \u001b[38;5;28mself\u001b[39m\u001b[38;5;241m.\u001b[39mcolumns\u001b[38;5;241m.\u001b[39m_get_indexer_strict(key, \u001b[38;5;124m\"\u001b[39m\u001b[38;5;124mcolumns\u001b[39m\u001b[38;5;124m\"\u001b[39m)[\u001b[38;5;241m1\u001b[39m]\n\u001b[1;32m   4110\u001b[0m \u001b[38;5;66;03m# take() does not accept boolean indexers\u001b[39;00m\n\u001b[1;32m   4111\u001b[0m \u001b[38;5;28;01mif\u001b[39;00m \u001b[38;5;28mgetattr\u001b[39m(indexer, \u001b[38;5;124m\"\u001b[39m\u001b[38;5;124mdtype\u001b[39m\u001b[38;5;124m\"\u001b[39m, \u001b[38;5;28;01mNone\u001b[39;00m) \u001b[38;5;241m==\u001b[39m \u001b[38;5;28mbool\u001b[39m:\n",
      "File \u001b[0;32m~/miniforge3/envs/arm64_Miniforge/lib/python3.11/site-packages/pandas/core/indexes/base.py:6200\u001b[0m, in \u001b[0;36mIndex._get_indexer_strict\u001b[0;34m(self, key, axis_name)\u001b[0m\n\u001b[1;32m   6197\u001b[0m \u001b[38;5;28;01melse\u001b[39;00m:\n\u001b[1;32m   6198\u001b[0m     keyarr, indexer, new_indexer \u001b[38;5;241m=\u001b[39m \u001b[38;5;28mself\u001b[39m\u001b[38;5;241m.\u001b[39m_reindex_non_unique(keyarr)\n\u001b[0;32m-> 6200\u001b[0m \u001b[38;5;28mself\u001b[39m\u001b[38;5;241m.\u001b[39m_raise_if_missing(keyarr, indexer, axis_name)\n\u001b[1;32m   6202\u001b[0m keyarr \u001b[38;5;241m=\u001b[39m \u001b[38;5;28mself\u001b[39m\u001b[38;5;241m.\u001b[39mtake(indexer)\n\u001b[1;32m   6203\u001b[0m \u001b[38;5;28;01mif\u001b[39;00m \u001b[38;5;28misinstance\u001b[39m(key, Index):\n\u001b[1;32m   6204\u001b[0m     \u001b[38;5;66;03m# GH 42790 - Preserve name from an Index\u001b[39;00m\n",
      "File \u001b[0;32m~/miniforge3/envs/arm64_Miniforge/lib/python3.11/site-packages/pandas/core/indexes/base.py:6252\u001b[0m, in \u001b[0;36mIndex._raise_if_missing\u001b[0;34m(self, key, indexer, axis_name)\u001b[0m\n\u001b[1;32m   6249\u001b[0m     \u001b[38;5;28;01mraise\u001b[39;00m \u001b[38;5;167;01mKeyError\u001b[39;00m(\u001b[38;5;124mf\u001b[39m\u001b[38;5;124m\"\u001b[39m\u001b[38;5;124mNone of [\u001b[39m\u001b[38;5;132;01m{\u001b[39;00mkey\u001b[38;5;132;01m}\u001b[39;00m\u001b[38;5;124m] are in the [\u001b[39m\u001b[38;5;132;01m{\u001b[39;00maxis_name\u001b[38;5;132;01m}\u001b[39;00m\u001b[38;5;124m]\u001b[39m\u001b[38;5;124m\"\u001b[39m)\n\u001b[1;32m   6251\u001b[0m not_found \u001b[38;5;241m=\u001b[39m \u001b[38;5;28mlist\u001b[39m(ensure_index(key)[missing_mask\u001b[38;5;241m.\u001b[39mnonzero()[\u001b[38;5;241m0\u001b[39m]]\u001b[38;5;241m.\u001b[39munique())\n\u001b[0;32m-> 6252\u001b[0m \u001b[38;5;28;01mraise\u001b[39;00m \u001b[38;5;167;01mKeyError\u001b[39;00m(\u001b[38;5;124mf\u001b[39m\u001b[38;5;124m\"\u001b[39m\u001b[38;5;132;01m{\u001b[39;00mnot_found\u001b[38;5;132;01m}\u001b[39;00m\u001b[38;5;124m not in index\u001b[39m\u001b[38;5;124m\"\u001b[39m)\n",
      "\u001b[0;31mKeyError\u001b[0m: \"['Discount_Region', 'Discount_Category'] not in index\""
     ]
    }
   ],
   "source": [
    "regions = df_encoded['Region_West'].unique()\n",
    "segment_importance = {}\n",
    "\n",
    "for region in regions:\n",
    "    # Filter data for the region\n",
    "    region_data = df_encoded[df_encoded['Region_West'] == region]\n",
    "    X_region = region_data[feature_cols]\n",
    "    y_region = region_data['Sales']\n",
    "    \n",
    "    # Train model\n",
    "    rf_region = RandomForestRegressor(n_estimators=100, random_state=42)\n",
    "    rf_region.fit(X_region, y_region)\n",
    "    \n",
    "    # Get feature importance\n",
    "    importance = rf_region.feature_importances_\n",
    "    segment_importance[region] = pd.DataFrame({'Feature': feature_cols, 'Importance': importance}).sort_values(by='Importance', ascending=False)\n",
    "\n",
    "# Display feature importance for each segment\n",
    "for region, importance in segment_importance.items():\n",
    "    print(f\"Feature Importance for Region: {region}\")\n",
    "    print(importance)\n"
   ]
  },
  {
   "cell_type": "markdown",
   "metadata": {},
   "source": [
    "Partial Dependence Plots"
   ]
  },
  {
   "cell_type": "code",
   "execution_count": null,
   "metadata": {},
   "outputs": [
    {
     "ename": "ValueError",
     "evalue": "feature_names should not contain duplicates.",
     "output_type": "error",
     "traceback": [
      "\u001b[0;31m---------------------------------------------------------------------------\u001b[0m",
      "\u001b[0;31mValueError\u001b[0m                                Traceback (most recent call last)",
      "Cell \u001b[0;32mIn[76], line 4\u001b[0m\n\u001b[1;32m      1\u001b[0m \u001b[38;5;28;01mfrom\u001b[39;00m \u001b[38;5;21;01msklearn\u001b[39;00m\u001b[38;5;21;01m.\u001b[39;00m\u001b[38;5;21;01minspection\u001b[39;00m \u001b[38;5;28;01mimport\u001b[39;00m PartialDependenceDisplay\n\u001b[1;32m      3\u001b[0m \u001b[38;5;66;03m# Plot partial dependence for a single feature\u001b[39;00m\n\u001b[0;32m----> 4\u001b[0m PartialDependenceDisplay\u001b[38;5;241m.\u001b[39mfrom_estimator(rf_model, X_train, [\u001b[38;5;124m'\u001b[39m\u001b[38;5;124mDiscount\u001b[39m\u001b[38;5;124m'\u001b[39m])\n\u001b[1;32m      5\u001b[0m plt\u001b[38;5;241m.\u001b[39mtitle(\u001b[38;5;124m'\u001b[39m\u001b[38;5;124mPartial Dependence for Discount\u001b[39m\u001b[38;5;124m'\u001b[39m)\n\u001b[1;32m      6\u001b[0m plt\u001b[38;5;241m.\u001b[39mshow()\n",
      "File \u001b[0;32m~/miniforge3/envs/arm64_Miniforge/lib/python3.11/site-packages/sklearn/inspection/_plot/partial_dependence.py:550\u001b[0m, in \u001b[0;36mPartialDependenceDisplay.from_estimator\u001b[0;34m(cls, estimator, X, features, sample_weight, categorical_features, feature_names, target, response_method, n_cols, grid_resolution, percentiles, method, n_jobs, verbose, line_kw, ice_lines_kw, pd_line_kw, contour_kw, ax, kind, centered, subsample, random_state)\u001b[0m\n\u001b[1;32m    547\u001b[0m     X \u001b[38;5;241m=\u001b[39m check_array(X, ensure_all_finite\u001b[38;5;241m=\u001b[39m\u001b[38;5;124m\"\u001b[39m\u001b[38;5;124mallow-nan\u001b[39m\u001b[38;5;124m\"\u001b[39m, dtype\u001b[38;5;241m=\u001b[39m\u001b[38;5;28mobject\u001b[39m)\n\u001b[1;32m    548\u001b[0m n_features \u001b[38;5;241m=\u001b[39m X\u001b[38;5;241m.\u001b[39mshape[\u001b[38;5;241m1\u001b[39m]\n\u001b[0;32m--> 550\u001b[0m feature_names \u001b[38;5;241m=\u001b[39m _check_feature_names(X, feature_names)\n\u001b[1;32m    551\u001b[0m \u001b[38;5;66;03m# expand kind to always be a list of str\u001b[39;00m\n\u001b[1;32m    552\u001b[0m kind_ \u001b[38;5;241m=\u001b[39m [kind] \u001b[38;5;241m*\u001b[39m \u001b[38;5;28mlen\u001b[39m(features) \u001b[38;5;28;01mif\u001b[39;00m \u001b[38;5;28misinstance\u001b[39m(kind, \u001b[38;5;28mstr\u001b[39m) \u001b[38;5;28;01melse\u001b[39;00m kind\n",
      "File \u001b[0;32m~/miniforge3/envs/arm64_Miniforge/lib/python3.11/site-packages/sklearn/inspection/_pd_utils.py:35\u001b[0m, in \u001b[0;36m_check_feature_names\u001b[0;34m(X, feature_names)\u001b[0m\n\u001b[1;32m     33\u001b[0m     feature_names \u001b[38;5;241m=\u001b[39m feature_names\u001b[38;5;241m.\u001b[39mtolist()\n\u001b[1;32m     34\u001b[0m \u001b[38;5;28;01mif\u001b[39;00m \u001b[38;5;28mlen\u001b[39m(\u001b[38;5;28mset\u001b[39m(feature_names)) \u001b[38;5;241m!=\u001b[39m \u001b[38;5;28mlen\u001b[39m(feature_names):\n\u001b[0;32m---> 35\u001b[0m     \u001b[38;5;28;01mraise\u001b[39;00m \u001b[38;5;167;01mValueError\u001b[39;00m(\u001b[38;5;124m\"\u001b[39m\u001b[38;5;124mfeature_names should not contain duplicates.\u001b[39m\u001b[38;5;124m\"\u001b[39m)\n\u001b[1;32m     37\u001b[0m \u001b[38;5;28;01mreturn\u001b[39;00m feature_names\n",
      "\u001b[0;31mValueError\u001b[0m: feature_names should not contain duplicates."
     ]
    }
   ],
   "source": [
    "from sklearn.inspection import PartialDependenceDisplay\n",
    "\n",
    "# Plot partial dependence for a single feature\n",
    "PartialDependenceDisplay.from_estimator(rf_model, X_train, ['Discount'])\n",
    "plt.title('Partial Dependence for Discount')\n",
    "plt.show()\n",
    "\n",
    "# Plot interaction partial dependence for two features\n",
    "PartialDependenceDisplay.from_estimator(rf_model, X_train, [('Discount', 'Region_West')])\n",
    "plt.title('Partial Dependence for Discount and Region')\n",
    "plt.show()\n"
   ]
  },
  {
   "cell_type": "markdown",
   "metadata": {},
   "source": [
    "**Shipping delay**"
   ]
  },
  {
   "cell_type": "code",
   "execution_count": null,
   "metadata": {},
   "outputs": [
    {
     "name": "stderr",
     "output_type": "stream",
     "text": [
      "/var/folders/dj/q5s8lngd1msdbb76w1tn9x1r0000gn/T/ipykernel_66673/2495879302.py:25: SettingWithCopyWarning:\n",
      "\n",
      "\n",
      "A value is trying to be set on a copy of a slice from a DataFrame.\n",
      "Try using .loc[row_indexer,col_indexer] = value instead\n",
      "\n",
      "See the caveats in the documentation: https://pandas.pydata.org/pandas-docs/stable/user_guide/indexing.html#returning-a-view-versus-a-copy\n",
      "\n",
      "/var/folders/dj/q5s8lngd1msdbb76w1tn9x1r0000gn/T/ipykernel_66673/2495879302.py:26: SettingWithCopyWarning:\n",
      "\n",
      "\n",
      "A value is trying to be set on a copy of a slice from a DataFrame.\n",
      "Try using .loc[row_indexer,col_indexer] = value instead\n",
      "\n",
      "See the caveats in the documentation: https://pandas.pydata.org/pandas-docs/stable/user_guide/indexing.html#returning-a-view-versus-a-copy\n",
      "\n"
     ]
    },
    {
     "data": {
      "application/vnd.plotly.v1+json": {
       "config": {
        "plotlyServerURL": "https://plot.ly"
       },
       "data": [
        {
         "hovertemplate": "Region=Central<br>Shipping Delay (Days)=%{x}<br>Avg Normalized Sales=%{y}<extra></extra>",
         "legendgroup": "Central",
         "line": {
          "color": "#636efa",
          "dash": "solid"
         },
         "marker": {
          "symbol": "circle"
         },
         "mode": "lines+markers",
         "name": "Central",
         "orientation": "v",
         "showlegend": true,
         "type": "scatter",
         "x": [
          0,
          1,
          2,
          3,
          4,
          5,
          6,
          7
         ],
         "xaxis": "x",
         "y": [
          -0.8142440037988092,
          -0.8735097115656909,
          -0.7829185931742363,
          -0.8292965392681294,
          -0.8030711287370831,
          -0.7902414484922672,
          -0.839464389842482,
          -0.8014590713071562
         ],
         "yaxis": "y"
        },
        {
         "hovertemplate": "Region=East<br>Shipping Delay (Days)=%{x}<br>Avg Normalized Sales=%{y}<extra></extra>",
         "legendgroup": "East",
         "line": {
          "color": "#EF553B",
          "dash": "solid"
         },
         "marker": {
          "symbol": "circle"
         },
         "mode": "lines+markers",
         "name": "East",
         "orientation": "v",
         "showlegend": true,
         "type": "scatter",
         "x": [
          0,
          1,
          2,
          3,
          4,
          5,
          6,
          7
         ],
         "xaxis": "x",
         "y": [
          -0.8349246991939595,
          -0.9077785163245781,
          -0.8424530638926593,
          -0.8730100691376532,
          -0.8390319344968963,
          -0.8417524443353528,
          -0.8076060103849827,
          -0.8850527149279559
         ],
         "yaxis": "y"
        },
        {
         "hovertemplate": "Region=South<br>Shipping Delay (Days)=%{x}<br>Avg Normalized Sales=%{y}<extra></extra>",
         "legendgroup": "South",
         "line": {
          "color": "#00cc96",
          "dash": "solid"
         },
         "marker": {
          "symbol": "circle"
         },
         "mode": "lines+markers",
         "name": "South",
         "orientation": "v",
         "showlegend": true,
         "type": "scatter",
         "x": [
          0,
          1,
          2,
          3,
          4,
          5,
          6,
          7
         ],
         "xaxis": "x",
         "y": [
          -0.8964862112457145,
          -0.7433479518809426,
          -0.796799395942717,
          -0.8029718238935769,
          -0.8468128232869576,
          -0.8425721602926359,
          -0.8909418528929439,
          -0.8323272913380625
         ],
         "yaxis": "y"
        },
        {
         "hovertemplate": "Region=West<br>Shipping Delay (Days)=%{x}<br>Avg Normalized Sales=%{y}<extra></extra>",
         "legendgroup": "West",
         "line": {
          "color": "#ab63fa",
          "dash": "solid"
         },
         "marker": {
          "symbol": "circle"
         },
         "mode": "lines+markers",
         "name": "West",
         "orientation": "v",
         "showlegend": true,
         "type": "scatter",
         "x": [
          0,
          1,
          2,
          3,
          4,
          5,
          6,
          7
         ],
         "xaxis": "x",
         "y": [
          -0.8343784030959726,
          -0.8046946508738043,
          -0.7556091394303259,
          -0.8487343034219594,
          -0.8001277275345888,
          -0.819263731145699,
          -0.7983073115911657,
          -0.8056447412139626
         ],
         "yaxis": "y"
        }
       ],
       "layout": {
        "legend": {
         "title": {
          "text": "Region"
         },
         "tracegroupgap": 0
        },
        "template": {
         "data": {
          "bar": [
           {
            "error_x": {
             "color": "#2a3f5f"
            },
            "error_y": {
             "color": "#2a3f5f"
            },
            "marker": {
             "line": {
              "color": "#E5ECF6",
              "width": 0.5
             },
             "pattern": {
              "fillmode": "overlay",
              "size": 10,
              "solidity": 0.2
             }
            },
            "type": "bar"
           }
          ],
          "barpolar": [
           {
            "marker": {
             "line": {
              "color": "#E5ECF6",
              "width": 0.5
             },
             "pattern": {
              "fillmode": "overlay",
              "size": 10,
              "solidity": 0.2
             }
            },
            "type": "barpolar"
           }
          ],
          "carpet": [
           {
            "aaxis": {
             "endlinecolor": "#2a3f5f",
             "gridcolor": "white",
             "linecolor": "white",
             "minorgridcolor": "white",
             "startlinecolor": "#2a3f5f"
            },
            "baxis": {
             "endlinecolor": "#2a3f5f",
             "gridcolor": "white",
             "linecolor": "white",
             "minorgridcolor": "white",
             "startlinecolor": "#2a3f5f"
            },
            "type": "carpet"
           }
          ],
          "choropleth": [
           {
            "colorbar": {
             "outlinewidth": 0,
             "ticks": ""
            },
            "type": "choropleth"
           }
          ],
          "contour": [
           {
            "colorbar": {
             "outlinewidth": 0,
             "ticks": ""
            },
            "colorscale": [
             [
              0,
              "#0d0887"
             ],
             [
              0.1111111111111111,
              "#46039f"
             ],
             [
              0.2222222222222222,
              "#7201a8"
             ],
             [
              0.3333333333333333,
              "#9c179e"
             ],
             [
              0.4444444444444444,
              "#bd3786"
             ],
             [
              0.5555555555555556,
              "#d8576b"
             ],
             [
              0.6666666666666666,
              "#ed7953"
             ],
             [
              0.7777777777777778,
              "#fb9f3a"
             ],
             [
              0.8888888888888888,
              "#fdca26"
             ],
             [
              1,
              "#f0f921"
             ]
            ],
            "type": "contour"
           }
          ],
          "contourcarpet": [
           {
            "colorbar": {
             "outlinewidth": 0,
             "ticks": ""
            },
            "type": "contourcarpet"
           }
          ],
          "heatmap": [
           {
            "colorbar": {
             "outlinewidth": 0,
             "ticks": ""
            },
            "colorscale": [
             [
              0,
              "#0d0887"
             ],
             [
              0.1111111111111111,
              "#46039f"
             ],
             [
              0.2222222222222222,
              "#7201a8"
             ],
             [
              0.3333333333333333,
              "#9c179e"
             ],
             [
              0.4444444444444444,
              "#bd3786"
             ],
             [
              0.5555555555555556,
              "#d8576b"
             ],
             [
              0.6666666666666666,
              "#ed7953"
             ],
             [
              0.7777777777777778,
              "#fb9f3a"
             ],
             [
              0.8888888888888888,
              "#fdca26"
             ],
             [
              1,
              "#f0f921"
             ]
            ],
            "type": "heatmap"
           }
          ],
          "heatmapgl": [
           {
            "colorbar": {
             "outlinewidth": 0,
             "ticks": ""
            },
            "colorscale": [
             [
              0,
              "#0d0887"
             ],
             [
              0.1111111111111111,
              "#46039f"
             ],
             [
              0.2222222222222222,
              "#7201a8"
             ],
             [
              0.3333333333333333,
              "#9c179e"
             ],
             [
              0.4444444444444444,
              "#bd3786"
             ],
             [
              0.5555555555555556,
              "#d8576b"
             ],
             [
              0.6666666666666666,
              "#ed7953"
             ],
             [
              0.7777777777777778,
              "#fb9f3a"
             ],
             [
              0.8888888888888888,
              "#fdca26"
             ],
             [
              1,
              "#f0f921"
             ]
            ],
            "type": "heatmapgl"
           }
          ],
          "histogram": [
           {
            "marker": {
             "pattern": {
              "fillmode": "overlay",
              "size": 10,
              "solidity": 0.2
             }
            },
            "type": "histogram"
           }
          ],
          "histogram2d": [
           {
            "colorbar": {
             "outlinewidth": 0,
             "ticks": ""
            },
            "colorscale": [
             [
              0,
              "#0d0887"
             ],
             [
              0.1111111111111111,
              "#46039f"
             ],
             [
              0.2222222222222222,
              "#7201a8"
             ],
             [
              0.3333333333333333,
              "#9c179e"
             ],
             [
              0.4444444444444444,
              "#bd3786"
             ],
             [
              0.5555555555555556,
              "#d8576b"
             ],
             [
              0.6666666666666666,
              "#ed7953"
             ],
             [
              0.7777777777777778,
              "#fb9f3a"
             ],
             [
              0.8888888888888888,
              "#fdca26"
             ],
             [
              1,
              "#f0f921"
             ]
            ],
            "type": "histogram2d"
           }
          ],
          "histogram2dcontour": [
           {
            "colorbar": {
             "outlinewidth": 0,
             "ticks": ""
            },
            "colorscale": [
             [
              0,
              "#0d0887"
             ],
             [
              0.1111111111111111,
              "#46039f"
             ],
             [
              0.2222222222222222,
              "#7201a8"
             ],
             [
              0.3333333333333333,
              "#9c179e"
             ],
             [
              0.4444444444444444,
              "#bd3786"
             ],
             [
              0.5555555555555556,
              "#d8576b"
             ],
             [
              0.6666666666666666,
              "#ed7953"
             ],
             [
              0.7777777777777778,
              "#fb9f3a"
             ],
             [
              0.8888888888888888,
              "#fdca26"
             ],
             [
              1,
              "#f0f921"
             ]
            ],
            "type": "histogram2dcontour"
           }
          ],
          "mesh3d": [
           {
            "colorbar": {
             "outlinewidth": 0,
             "ticks": ""
            },
            "type": "mesh3d"
           }
          ],
          "parcoords": [
           {
            "line": {
             "colorbar": {
              "outlinewidth": 0,
              "ticks": ""
             }
            },
            "type": "parcoords"
           }
          ],
          "pie": [
           {
            "automargin": true,
            "type": "pie"
           }
          ],
          "scatter": [
           {
            "fillpattern": {
             "fillmode": "overlay",
             "size": 10,
             "solidity": 0.2
            },
            "type": "scatter"
           }
          ],
          "scatter3d": [
           {
            "line": {
             "colorbar": {
              "outlinewidth": 0,
              "ticks": ""
             }
            },
            "marker": {
             "colorbar": {
              "outlinewidth": 0,
              "ticks": ""
             }
            },
            "type": "scatter3d"
           }
          ],
          "scattercarpet": [
           {
            "marker": {
             "colorbar": {
              "outlinewidth": 0,
              "ticks": ""
             }
            },
            "type": "scattercarpet"
           }
          ],
          "scattergeo": [
           {
            "marker": {
             "colorbar": {
              "outlinewidth": 0,
              "ticks": ""
             }
            },
            "type": "scattergeo"
           }
          ],
          "scattergl": [
           {
            "marker": {
             "colorbar": {
              "outlinewidth": 0,
              "ticks": ""
             }
            },
            "type": "scattergl"
           }
          ],
          "scattermapbox": [
           {
            "marker": {
             "colorbar": {
              "outlinewidth": 0,
              "ticks": ""
             }
            },
            "type": "scattermapbox"
           }
          ],
          "scatterpolar": [
           {
            "marker": {
             "colorbar": {
              "outlinewidth": 0,
              "ticks": ""
             }
            },
            "type": "scatterpolar"
           }
          ],
          "scatterpolargl": [
           {
            "marker": {
             "colorbar": {
              "outlinewidth": 0,
              "ticks": ""
             }
            },
            "type": "scatterpolargl"
           }
          ],
          "scatterternary": [
           {
            "marker": {
             "colorbar": {
              "outlinewidth": 0,
              "ticks": ""
             }
            },
            "type": "scatterternary"
           }
          ],
          "surface": [
           {
            "colorbar": {
             "outlinewidth": 0,
             "ticks": ""
            },
            "colorscale": [
             [
              0,
              "#0d0887"
             ],
             [
              0.1111111111111111,
              "#46039f"
             ],
             [
              0.2222222222222222,
              "#7201a8"
             ],
             [
              0.3333333333333333,
              "#9c179e"
             ],
             [
              0.4444444444444444,
              "#bd3786"
             ],
             [
              0.5555555555555556,
              "#d8576b"
             ],
             [
              0.6666666666666666,
              "#ed7953"
             ],
             [
              0.7777777777777778,
              "#fb9f3a"
             ],
             [
              0.8888888888888888,
              "#fdca26"
             ],
             [
              1,
              "#f0f921"
             ]
            ],
            "type": "surface"
           }
          ],
          "table": [
           {
            "cells": {
             "fill": {
              "color": "#EBF0F8"
             },
             "line": {
              "color": "white"
             }
            },
            "header": {
             "fill": {
              "color": "#C8D4E3"
             },
             "line": {
              "color": "white"
             }
            },
            "type": "table"
           }
          ]
         },
         "layout": {
          "annotationdefaults": {
           "arrowcolor": "#2a3f5f",
           "arrowhead": 0,
           "arrowwidth": 1
          },
          "autotypenumbers": "strict",
          "coloraxis": {
           "colorbar": {
            "outlinewidth": 0,
            "ticks": ""
           }
          },
          "colorscale": {
           "diverging": [
            [
             0,
             "#8e0152"
            ],
            [
             0.1,
             "#c51b7d"
            ],
            [
             0.2,
             "#de77ae"
            ],
            [
             0.3,
             "#f1b6da"
            ],
            [
             0.4,
             "#fde0ef"
            ],
            [
             0.5,
             "#f7f7f7"
            ],
            [
             0.6,
             "#e6f5d0"
            ],
            [
             0.7,
             "#b8e186"
            ],
            [
             0.8,
             "#7fbc41"
            ],
            [
             0.9,
             "#4d9221"
            ],
            [
             1,
             "#276419"
            ]
           ],
           "sequential": [
            [
             0,
             "#0d0887"
            ],
            [
             0.1111111111111111,
             "#46039f"
            ],
            [
             0.2222222222222222,
             "#7201a8"
            ],
            [
             0.3333333333333333,
             "#9c179e"
            ],
            [
             0.4444444444444444,
             "#bd3786"
            ],
            [
             0.5555555555555556,
             "#d8576b"
            ],
            [
             0.6666666666666666,
             "#ed7953"
            ],
            [
             0.7777777777777778,
             "#fb9f3a"
            ],
            [
             0.8888888888888888,
             "#fdca26"
            ],
            [
             1,
             "#f0f921"
            ]
           ],
           "sequentialminus": [
            [
             0,
             "#0d0887"
            ],
            [
             0.1111111111111111,
             "#46039f"
            ],
            [
             0.2222222222222222,
             "#7201a8"
            ],
            [
             0.3333333333333333,
             "#9c179e"
            ],
            [
             0.4444444444444444,
             "#bd3786"
            ],
            [
             0.5555555555555556,
             "#d8576b"
            ],
            [
             0.6666666666666666,
             "#ed7953"
            ],
            [
             0.7777777777777778,
             "#fb9f3a"
            ],
            [
             0.8888888888888888,
             "#fdca26"
            ],
            [
             1,
             "#f0f921"
            ]
           ]
          },
          "colorway": [
           "#636efa",
           "#EF553B",
           "#00cc96",
           "#ab63fa",
           "#FFA15A",
           "#19d3f3",
           "#FF6692",
           "#B6E880",
           "#FF97FF",
           "#FECB52"
          ],
          "font": {
           "color": "#2a3f5f"
          },
          "geo": {
           "bgcolor": "white",
           "lakecolor": "white",
           "landcolor": "#E5ECF6",
           "showlakes": true,
           "showland": true,
           "subunitcolor": "white"
          },
          "hoverlabel": {
           "align": "left"
          },
          "hovermode": "closest",
          "mapbox": {
           "style": "light"
          },
          "paper_bgcolor": "white",
          "plot_bgcolor": "#E5ECF6",
          "polar": {
           "angularaxis": {
            "gridcolor": "white",
            "linecolor": "white",
            "ticks": ""
           },
           "bgcolor": "#E5ECF6",
           "radialaxis": {
            "gridcolor": "white",
            "linecolor": "white",
            "ticks": ""
           }
          },
          "scene": {
           "xaxis": {
            "backgroundcolor": "#E5ECF6",
            "gridcolor": "white",
            "gridwidth": 2,
            "linecolor": "white",
            "showbackground": true,
            "ticks": "",
            "zerolinecolor": "white"
           },
           "yaxis": {
            "backgroundcolor": "#E5ECF6",
            "gridcolor": "white",
            "gridwidth": 2,
            "linecolor": "white",
            "showbackground": true,
            "ticks": "",
            "zerolinecolor": "white"
           },
           "zaxis": {
            "backgroundcolor": "#E5ECF6",
            "gridcolor": "white",
            "gridwidth": 2,
            "linecolor": "white",
            "showbackground": true,
            "ticks": "",
            "zerolinecolor": "white"
           }
          },
          "shapedefaults": {
           "line": {
            "color": "#2a3f5f"
           }
          },
          "ternary": {
           "aaxis": {
            "gridcolor": "white",
            "linecolor": "white",
            "ticks": ""
           },
           "baxis": {
            "gridcolor": "white",
            "linecolor": "white",
            "ticks": ""
           },
           "bgcolor": "#E5ECF6",
           "caxis": {
            "gridcolor": "white",
            "linecolor": "white",
            "ticks": ""
           }
          },
          "title": {
           "x": 0.05
          },
          "xaxis": {
           "automargin": true,
           "gridcolor": "white",
           "linecolor": "white",
           "ticks": "",
           "title": {
            "standoff": 15
           },
           "zerolinecolor": "white",
           "zerolinewidth": 2
          },
          "yaxis": {
           "automargin": true,
           "gridcolor": "white",
           "linecolor": "white",
           "ticks": "",
           "title": {
            "standoff": 15
           },
           "zerolinecolor": "white",
           "zerolinewidth": 2
          }
         }
        },
        "title": {
         "text": "Effect of Shipping Delay on Normalized Sales per Region"
        },
        "xaxis": {
         "anchor": "y",
         "domain": [
          0,
          1
         ],
         "title": {
          "text": "Shipping Delay (Days)"
         }
        },
        "yaxis": {
         "anchor": "x",
         "domain": [
          0,
          1
         ],
         "title": {
          "text": "Avg Normalized Sales"
         }
        }
       }
      }
     },
     "metadata": {},
     "output_type": "display_data"
    },
    {
     "data": {
      "application/vnd.plotly.v1+json": {
       "config": {
        "plotlyServerURL": "https://plot.ly"
       },
       "data": [
        {
         "hovertemplate": "Region=Central<br>Shipping Delay (Days)=%{x}<br>Avg Normalized Profit=%{y}<extra></extra>",
         "legendgroup": "Central",
         "line": {
          "color": "#636efa",
          "dash": "solid"
         },
         "marker": {
          "symbol": "circle"
         },
         "mode": "lines+markers",
         "name": "Central",
         "orientation": "v",
         "showlegend": true,
         "type": "scatter",
         "x": [
          0,
          1,
          2,
          3,
          4,
          5,
          6,
          7
         ],
         "xaxis": "x",
         "y": [
          -0.16368697668593807,
          -0.16821839219509374,
          -0.1422834266443188,
          -0.18095059717196357,
          -0.14579640319385193,
          -0.2024437090030813,
          -0.14779017655953314,
          -0.14268617431003652
         ],
         "yaxis": "y"
        },
        {
         "hovertemplate": "Region=East<br>Shipping Delay (Days)=%{x}<br>Avg Normalized Profit=%{y}<extra></extra>",
         "legendgroup": "East",
         "line": {
          "color": "#EF553B",
          "dash": "solid"
         },
         "marker": {
          "symbol": "circle"
         },
         "mode": "lines+markers",
         "name": "East",
         "orientation": "v",
         "showlegend": true,
         "type": "scatter",
         "x": [
          0,
          1,
          2,
          3,
          4,
          5,
          6,
          7
         ],
         "xaxis": "x",
         "y": [
          0.24552181891765446,
          0.23220746038061627,
          0.2568754359164486,
          0.2599374093275622,
          0.23330010603079876,
          0.23843679060945588,
          0.2773430647481421,
          0.2577332390603288
         ],
         "yaxis": "y"
        },
        {
         "hovertemplate": "Region=South<br>Shipping Delay (Days)=%{x}<br>Avg Normalized Profit=%{y}<extra></extra>",
         "legendgroup": "South",
         "line": {
          "color": "#00cc96",
          "dash": "solid"
         },
         "marker": {
          "symbol": "circle"
         },
         "mode": "lines+markers",
         "name": "South",
         "orientation": "v",
         "showlegend": true,
         "type": "scatter",
         "x": [
          0,
          1,
          2,
          3,
          4,
          5,
          6,
          7
         ],
         "xaxis": "x",
         "y": [
          0.43353040432504913,
          0.47353621607548885,
          0.47654879518803245,
          0.39601519674024194,
          0.4580378123086306,
          0.44373623840824133,
          0.4281577570004189,
          0.41313532826957683
         ],
         "yaxis": "y"
        },
        {
         "hovertemplate": "Region=West<br>Shipping Delay (Days)=%{x}<br>Avg Normalized Profit=%{y}<extra></extra>",
         "legendgroup": "West",
         "line": {
          "color": "#ab63fa",
          "dash": "solid"
         },
         "marker": {
          "symbol": "circle"
         },
         "mode": "lines+markers",
         "name": "West",
         "orientation": "v",
         "showlegend": true,
         "type": "scatter",
         "x": [
          0,
          1,
          2,
          3,
          4,
          5,
          6,
          7
         ],
         "xaxis": "x",
         "y": [
          0.14694660452175606,
          0.1497539856786303,
          0.1624742862894183,
          0.14478898595896875,
          0.15133196921765027,
          0.15192079374146183,
          0.14589485846633105,
          0.14052871676764653
         ],
         "yaxis": "y"
        }
       ],
       "layout": {
        "legend": {
         "title": {
          "text": "Region"
         },
         "tracegroupgap": 0
        },
        "template": {
         "data": {
          "bar": [
           {
            "error_x": {
             "color": "#2a3f5f"
            },
            "error_y": {
             "color": "#2a3f5f"
            },
            "marker": {
             "line": {
              "color": "#E5ECF6",
              "width": 0.5
             },
             "pattern": {
              "fillmode": "overlay",
              "size": 10,
              "solidity": 0.2
             }
            },
            "type": "bar"
           }
          ],
          "barpolar": [
           {
            "marker": {
             "line": {
              "color": "#E5ECF6",
              "width": 0.5
             },
             "pattern": {
              "fillmode": "overlay",
              "size": 10,
              "solidity": 0.2
             }
            },
            "type": "barpolar"
           }
          ],
          "carpet": [
           {
            "aaxis": {
             "endlinecolor": "#2a3f5f",
             "gridcolor": "white",
             "linecolor": "white",
             "minorgridcolor": "white",
             "startlinecolor": "#2a3f5f"
            },
            "baxis": {
             "endlinecolor": "#2a3f5f",
             "gridcolor": "white",
             "linecolor": "white",
             "minorgridcolor": "white",
             "startlinecolor": "#2a3f5f"
            },
            "type": "carpet"
           }
          ],
          "choropleth": [
           {
            "colorbar": {
             "outlinewidth": 0,
             "ticks": ""
            },
            "type": "choropleth"
           }
          ],
          "contour": [
           {
            "colorbar": {
             "outlinewidth": 0,
             "ticks": ""
            },
            "colorscale": [
             [
              0,
              "#0d0887"
             ],
             [
              0.1111111111111111,
              "#46039f"
             ],
             [
              0.2222222222222222,
              "#7201a8"
             ],
             [
              0.3333333333333333,
              "#9c179e"
             ],
             [
              0.4444444444444444,
              "#bd3786"
             ],
             [
              0.5555555555555556,
              "#d8576b"
             ],
             [
              0.6666666666666666,
              "#ed7953"
             ],
             [
              0.7777777777777778,
              "#fb9f3a"
             ],
             [
              0.8888888888888888,
              "#fdca26"
             ],
             [
              1,
              "#f0f921"
             ]
            ],
            "type": "contour"
           }
          ],
          "contourcarpet": [
           {
            "colorbar": {
             "outlinewidth": 0,
             "ticks": ""
            },
            "type": "contourcarpet"
           }
          ],
          "heatmap": [
           {
            "colorbar": {
             "outlinewidth": 0,
             "ticks": ""
            },
            "colorscale": [
             [
              0,
              "#0d0887"
             ],
             [
              0.1111111111111111,
              "#46039f"
             ],
             [
              0.2222222222222222,
              "#7201a8"
             ],
             [
              0.3333333333333333,
              "#9c179e"
             ],
             [
              0.4444444444444444,
              "#bd3786"
             ],
             [
              0.5555555555555556,
              "#d8576b"
             ],
             [
              0.6666666666666666,
              "#ed7953"
             ],
             [
              0.7777777777777778,
              "#fb9f3a"
             ],
             [
              0.8888888888888888,
              "#fdca26"
             ],
             [
              1,
              "#f0f921"
             ]
            ],
            "type": "heatmap"
           }
          ],
          "heatmapgl": [
           {
            "colorbar": {
             "outlinewidth": 0,
             "ticks": ""
            },
            "colorscale": [
             [
              0,
              "#0d0887"
             ],
             [
              0.1111111111111111,
              "#46039f"
             ],
             [
              0.2222222222222222,
              "#7201a8"
             ],
             [
              0.3333333333333333,
              "#9c179e"
             ],
             [
              0.4444444444444444,
              "#bd3786"
             ],
             [
              0.5555555555555556,
              "#d8576b"
             ],
             [
              0.6666666666666666,
              "#ed7953"
             ],
             [
              0.7777777777777778,
              "#fb9f3a"
             ],
             [
              0.8888888888888888,
              "#fdca26"
             ],
             [
              1,
              "#f0f921"
             ]
            ],
            "type": "heatmapgl"
           }
          ],
          "histogram": [
           {
            "marker": {
             "pattern": {
              "fillmode": "overlay",
              "size": 10,
              "solidity": 0.2
             }
            },
            "type": "histogram"
           }
          ],
          "histogram2d": [
           {
            "colorbar": {
             "outlinewidth": 0,
             "ticks": ""
            },
            "colorscale": [
             [
              0,
              "#0d0887"
             ],
             [
              0.1111111111111111,
              "#46039f"
             ],
             [
              0.2222222222222222,
              "#7201a8"
             ],
             [
              0.3333333333333333,
              "#9c179e"
             ],
             [
              0.4444444444444444,
              "#bd3786"
             ],
             [
              0.5555555555555556,
              "#d8576b"
             ],
             [
              0.6666666666666666,
              "#ed7953"
             ],
             [
              0.7777777777777778,
              "#fb9f3a"
             ],
             [
              0.8888888888888888,
              "#fdca26"
             ],
             [
              1,
              "#f0f921"
             ]
            ],
            "type": "histogram2d"
           }
          ],
          "histogram2dcontour": [
           {
            "colorbar": {
             "outlinewidth": 0,
             "ticks": ""
            },
            "colorscale": [
             [
              0,
              "#0d0887"
             ],
             [
              0.1111111111111111,
              "#46039f"
             ],
             [
              0.2222222222222222,
              "#7201a8"
             ],
             [
              0.3333333333333333,
              "#9c179e"
             ],
             [
              0.4444444444444444,
              "#bd3786"
             ],
             [
              0.5555555555555556,
              "#d8576b"
             ],
             [
              0.6666666666666666,
              "#ed7953"
             ],
             [
              0.7777777777777778,
              "#fb9f3a"
             ],
             [
              0.8888888888888888,
              "#fdca26"
             ],
             [
              1,
              "#f0f921"
             ]
            ],
            "type": "histogram2dcontour"
           }
          ],
          "mesh3d": [
           {
            "colorbar": {
             "outlinewidth": 0,
             "ticks": ""
            },
            "type": "mesh3d"
           }
          ],
          "parcoords": [
           {
            "line": {
             "colorbar": {
              "outlinewidth": 0,
              "ticks": ""
             }
            },
            "type": "parcoords"
           }
          ],
          "pie": [
           {
            "automargin": true,
            "type": "pie"
           }
          ],
          "scatter": [
           {
            "fillpattern": {
             "fillmode": "overlay",
             "size": 10,
             "solidity": 0.2
            },
            "type": "scatter"
           }
          ],
          "scatter3d": [
           {
            "line": {
             "colorbar": {
              "outlinewidth": 0,
              "ticks": ""
             }
            },
            "marker": {
             "colorbar": {
              "outlinewidth": 0,
              "ticks": ""
             }
            },
            "type": "scatter3d"
           }
          ],
          "scattercarpet": [
           {
            "marker": {
             "colorbar": {
              "outlinewidth": 0,
              "ticks": ""
             }
            },
            "type": "scattercarpet"
           }
          ],
          "scattergeo": [
           {
            "marker": {
             "colorbar": {
              "outlinewidth": 0,
              "ticks": ""
             }
            },
            "type": "scattergeo"
           }
          ],
          "scattergl": [
           {
            "marker": {
             "colorbar": {
              "outlinewidth": 0,
              "ticks": ""
             }
            },
            "type": "scattergl"
           }
          ],
          "scattermapbox": [
           {
            "marker": {
             "colorbar": {
              "outlinewidth": 0,
              "ticks": ""
             }
            },
            "type": "scattermapbox"
           }
          ],
          "scatterpolar": [
           {
            "marker": {
             "colorbar": {
              "outlinewidth": 0,
              "ticks": ""
             }
            },
            "type": "scatterpolar"
           }
          ],
          "scatterpolargl": [
           {
            "marker": {
             "colorbar": {
              "outlinewidth": 0,
              "ticks": ""
             }
            },
            "type": "scatterpolargl"
           }
          ],
          "scatterternary": [
           {
            "marker": {
             "colorbar": {
              "outlinewidth": 0,
              "ticks": ""
             }
            },
            "type": "scatterternary"
           }
          ],
          "surface": [
           {
            "colorbar": {
             "outlinewidth": 0,
             "ticks": ""
            },
            "colorscale": [
             [
              0,
              "#0d0887"
             ],
             [
              0.1111111111111111,
              "#46039f"
             ],
             [
              0.2222222222222222,
              "#7201a8"
             ],
             [
              0.3333333333333333,
              "#9c179e"
             ],
             [
              0.4444444444444444,
              "#bd3786"
             ],
             [
              0.5555555555555556,
              "#d8576b"
             ],
             [
              0.6666666666666666,
              "#ed7953"
             ],
             [
              0.7777777777777778,
              "#fb9f3a"
             ],
             [
              0.8888888888888888,
              "#fdca26"
             ],
             [
              1,
              "#f0f921"
             ]
            ],
            "type": "surface"
           }
          ],
          "table": [
           {
            "cells": {
             "fill": {
              "color": "#EBF0F8"
             },
             "line": {
              "color": "white"
             }
            },
            "header": {
             "fill": {
              "color": "#C8D4E3"
             },
             "line": {
              "color": "white"
             }
            },
            "type": "table"
           }
          ]
         },
         "layout": {
          "annotationdefaults": {
           "arrowcolor": "#2a3f5f",
           "arrowhead": 0,
           "arrowwidth": 1
          },
          "autotypenumbers": "strict",
          "coloraxis": {
           "colorbar": {
            "outlinewidth": 0,
            "ticks": ""
           }
          },
          "colorscale": {
           "diverging": [
            [
             0,
             "#8e0152"
            ],
            [
             0.1,
             "#c51b7d"
            ],
            [
             0.2,
             "#de77ae"
            ],
            [
             0.3,
             "#f1b6da"
            ],
            [
             0.4,
             "#fde0ef"
            ],
            [
             0.5,
             "#f7f7f7"
            ],
            [
             0.6,
             "#e6f5d0"
            ],
            [
             0.7,
             "#b8e186"
            ],
            [
             0.8,
             "#7fbc41"
            ],
            [
             0.9,
             "#4d9221"
            ],
            [
             1,
             "#276419"
            ]
           ],
           "sequential": [
            [
             0,
             "#0d0887"
            ],
            [
             0.1111111111111111,
             "#46039f"
            ],
            [
             0.2222222222222222,
             "#7201a8"
            ],
            [
             0.3333333333333333,
             "#9c179e"
            ],
            [
             0.4444444444444444,
             "#bd3786"
            ],
            [
             0.5555555555555556,
             "#d8576b"
            ],
            [
             0.6666666666666666,
             "#ed7953"
            ],
            [
             0.7777777777777778,
             "#fb9f3a"
            ],
            [
             0.8888888888888888,
             "#fdca26"
            ],
            [
             1,
             "#f0f921"
            ]
           ],
           "sequentialminus": [
            [
             0,
             "#0d0887"
            ],
            [
             0.1111111111111111,
             "#46039f"
            ],
            [
             0.2222222222222222,
             "#7201a8"
            ],
            [
             0.3333333333333333,
             "#9c179e"
            ],
            [
             0.4444444444444444,
             "#bd3786"
            ],
            [
             0.5555555555555556,
             "#d8576b"
            ],
            [
             0.6666666666666666,
             "#ed7953"
            ],
            [
             0.7777777777777778,
             "#fb9f3a"
            ],
            [
             0.8888888888888888,
             "#fdca26"
            ],
            [
             1,
             "#f0f921"
            ]
           ]
          },
          "colorway": [
           "#636efa",
           "#EF553B",
           "#00cc96",
           "#ab63fa",
           "#FFA15A",
           "#19d3f3",
           "#FF6692",
           "#B6E880",
           "#FF97FF",
           "#FECB52"
          ],
          "font": {
           "color": "#2a3f5f"
          },
          "geo": {
           "bgcolor": "white",
           "lakecolor": "white",
           "landcolor": "#E5ECF6",
           "showlakes": true,
           "showland": true,
           "subunitcolor": "white"
          },
          "hoverlabel": {
           "align": "left"
          },
          "hovermode": "closest",
          "mapbox": {
           "style": "light"
          },
          "paper_bgcolor": "white",
          "plot_bgcolor": "#E5ECF6",
          "polar": {
           "angularaxis": {
            "gridcolor": "white",
            "linecolor": "white",
            "ticks": ""
           },
           "bgcolor": "#E5ECF6",
           "radialaxis": {
            "gridcolor": "white",
            "linecolor": "white",
            "ticks": ""
           }
          },
          "scene": {
           "xaxis": {
            "backgroundcolor": "#E5ECF6",
            "gridcolor": "white",
            "gridwidth": 2,
            "linecolor": "white",
            "showbackground": true,
            "ticks": "",
            "zerolinecolor": "white"
           },
           "yaxis": {
            "backgroundcolor": "#E5ECF6",
            "gridcolor": "white",
            "gridwidth": 2,
            "linecolor": "white",
            "showbackground": true,
            "ticks": "",
            "zerolinecolor": "white"
           },
           "zaxis": {
            "backgroundcolor": "#E5ECF6",
            "gridcolor": "white",
            "gridwidth": 2,
            "linecolor": "white",
            "showbackground": true,
            "ticks": "",
            "zerolinecolor": "white"
           }
          },
          "shapedefaults": {
           "line": {
            "color": "#2a3f5f"
           }
          },
          "ternary": {
           "aaxis": {
            "gridcolor": "white",
            "linecolor": "white",
            "ticks": ""
           },
           "baxis": {
            "gridcolor": "white",
            "linecolor": "white",
            "ticks": ""
           },
           "bgcolor": "#E5ECF6",
           "caxis": {
            "gridcolor": "white",
            "linecolor": "white",
            "ticks": ""
           }
          },
          "title": {
           "x": 0.05
          },
          "xaxis": {
           "automargin": true,
           "gridcolor": "white",
           "linecolor": "white",
           "ticks": "",
           "title": {
            "standoff": 15
           },
           "zerolinecolor": "white",
           "zerolinewidth": 2
          },
          "yaxis": {
           "automargin": true,
           "gridcolor": "white",
           "linecolor": "white",
           "ticks": "",
           "title": {
            "standoff": 15
           },
           "zerolinecolor": "white",
           "zerolinewidth": 2
          }
         }
        },
        "title": {
         "text": "Effect of Shipping Delay on Normalized Profit per Region"
        },
        "xaxis": {
         "anchor": "y",
         "domain": [
          0,
          1
         ],
         "title": {
          "text": "Shipping Delay (Days)"
         }
        },
        "yaxis": {
         "anchor": "x",
         "domain": [
          0,
          1
         ],
         "title": {
          "text": "Avg Normalized Profit"
         }
        }
       }
      }
     },
     "metadata": {},
     "output_type": "display_data"
    }
   ],
   "source": [
    "import plotly.express as px\n",
    "import pandas as pd\n",
    "from sklearn.preprocessing import MinMaxScaler\n",
    "\n",
    "def visualize_shipping_delay_effect(df):\n",
    "    \"\"\"\n",
    "    Visualizes the effect of shipping delay on normalized Sales and Profit per region using Plotly.\n",
    "    \n",
    "    Parameters:\n",
    "    df (pd.DataFrame): The dataset with 'Order Date', 'Ship Date', 'Region', 'Sales', and 'Profit'.\n",
    "    \"\"\"\n",
    "    # Ensure dates are in datetime format\n",
    "    df['Order Date'] = pd.to_datetime(df['Order Date'])\n",
    "    df['Ship Date'] = pd.to_datetime(df['Ship Date'])\n",
    "    \n",
    "    # Calculate shipping delay\n",
    "    df['Shipping Delay (Days)'] = (df['Ship Date'] - df['Order Date']).dt.days\n",
    "    df = df[df['Shipping Delay (Days)'] >= 0]  # Remove negative values\n",
    "    \n",
    "    # Normalize sales and profit per region between -1 and 1\n",
    "    def normalize_region(column):\n",
    "        scaler = MinMaxScaler(feature_range=(-1, 1))\n",
    "        return df.groupby('Region')[column].transform(lambda x: scaler.fit_transform(x.values.reshape(-1, 1)).flatten())\n",
    "    \n",
    "    df['Normalized Sales'] = normalize_region('Sales')\n",
    "    df['Normalized Profit'] = normalize_region('Profit')\n",
    "    \n",
    "    # Group data by shipping delay and region\n",
    "    delay_grouped = df.groupby(['Shipping Delay (Days)', 'Region'])[['Normalized Sales', 'Normalized Profit']].mean().reset_index()\n",
    "    \n",
    "    # Plot Sales effect\n",
    "    fig_sales = px.line(delay_grouped, x='Shipping Delay (Days)', y='Normalized Sales', color='Region',\n",
    "                         title='Effect of Shipping Delay on Normalized Sales per Region',\n",
    "                         markers=True, labels={'Normalized Sales': 'Avg Normalized Sales'})\n",
    "    \n",
    "    # Plot Profit effect\n",
    "    fig_profit = px.line(delay_grouped, x='Shipping Delay (Days)', y='Normalized Profit', color='Region',\n",
    "                          title='Effect of Shipping Delay on Normalized Profit per Region',\n",
    "                          markers=True, labels={'Normalized Profit': 'Avg Normalized Profit'})\n",
    "    \n",
    "    # Show plots\n",
    "    fig_sales.show()\n",
    "    fig_profit.show()\n",
    "\n",
    "# Example usage\n",
    "visualize_shipping_delay_effect(df)\n"
   ]
  },
  {
   "cell_type": "code",
   "execution_count": 170,
   "metadata": {},
   "outputs": [
    {
     "data": {
      "application/vnd.plotly.v1+json": {
       "config": {
        "plotlyServerURL": "https://plot.ly"
       },
       "data": [
        {
         "hovertemplate": "Region=Central<br>Shipping Delay (Days)=%{x}<br>Average Sales=%{y}<extra></extra>",
         "legendgroup": "Central",
         "line": {
          "color": "#636efa",
          "dash": "solid"
         },
         "marker": {
          "symbol": "circle"
         },
         "mode": "lines+markers",
         "name": "Central",
         "orientation": "v",
         "showlegend": true,
         "type": "scatter",
         "x": [
          0,
          1,
          2,
          3,
          4,
          5,
          6,
          7
         ],
         "xaxis": "x",
         "y": [
          327.24437037037035,
          223.44024615384615,
          382.1109523809524,
          300.87979428571424,
          346.81370573248404,
          369.284942,
          283.07076333333333,
          349.6372307692308
         ],
         "yaxis": "y"
        },
        {
         "hovertemplate": "Region=East<br>Shipping Delay (Days)=%{x}<br>Average Sales=%{y}<extra></extra>",
         "legendgroup": "East",
         "line": {
          "color": "#EF553B",
          "dash": "solid"
         },
         "marker": {
          "symbol": "circle"
         },
         "mode": "lines+markers",
         "name": "East",
         "orientation": "v",
         "showlegend": true,
         "type": "scatter",
         "x": [
          0,
          1,
          2,
          3,
          4,
          5,
          6,
          7
         ],
         "xaxis": "x",
         "y": [
          367.2163142857143,
          206.4565714285714,
          350.60417204301075,
          283.17687037037035,
          358.15326011560694,
          352.1501640625,
          427.49792424242423,
          256.60348387096775
         ],
         "yaxis": "y"
        },
        {
         "hovertemplate": "Region=South<br>Shipping Delay (Days)=%{x}<br>Average Sales=%{y}<extra></extra>",
         "legendgroup": "South",
         "line": {
          "color": "#00cc96",
          "dash": "solid"
         },
         "marker": {
          "symbol": "circle"
         },
         "mode": "lines+markers",
         "name": "South",
         "orientation": "v",
         "showlegend": true,
         "type": "scatter",
         "x": [
          0,
          1,
          2,
          3,
          4,
          5,
          6,
          7
         ],
         "xaxis": "x",
         "y": [
          225.07261538461537,
          553.9263076923078,
          439.14307317073167,
          425.8882162162162,
          331.7427388888889,
          340.84926582278484,
          236.97873684210523,
          362.84940476190474
         ],
         "yaxis": "y"
        },
        {
         "hovertemplate": "Region=West<br>Shipping Delay (Days)=%{x}<br>Average Sales=%{y}<extra></extra>",
         "legendgroup": "West",
         "line": {
          "color": "#ab63fa",
          "dash": "solid"
         },
         "marker": {
          "symbol": "circle"
         },
         "mode": "lines+markers",
         "name": "West",
         "orientation": "v",
         "showlegend": true,
         "type": "scatter",
         "x": [
          0,
          1,
          2,
          3,
          4,
          5,
          6,
          7
         ],
         "xaxis": "x",
         "y": [
          302.2090243902439,
          355.74913333333336,
          444.28388495575217,
          276.31551666666667,
          363.98641988950277,
          329.47111635220125,
          367.269875,
          354.03547058823534
         ],
         "yaxis": "y"
        }
       ],
       "layout": {
        "legend": {
         "title": {
          "text": "Region"
         },
         "tracegroupgap": 0
        },
        "template": {
         "data": {
          "bar": [
           {
            "error_x": {
             "color": "#2a3f5f"
            },
            "error_y": {
             "color": "#2a3f5f"
            },
            "marker": {
             "line": {
              "color": "#E5ECF6",
              "width": 0.5
             },
             "pattern": {
              "fillmode": "overlay",
              "size": 10,
              "solidity": 0.2
             }
            },
            "type": "bar"
           }
          ],
          "barpolar": [
           {
            "marker": {
             "line": {
              "color": "#E5ECF6",
              "width": 0.5
             },
             "pattern": {
              "fillmode": "overlay",
              "size": 10,
              "solidity": 0.2
             }
            },
            "type": "barpolar"
           }
          ],
          "carpet": [
           {
            "aaxis": {
             "endlinecolor": "#2a3f5f",
             "gridcolor": "white",
             "linecolor": "white",
             "minorgridcolor": "white",
             "startlinecolor": "#2a3f5f"
            },
            "baxis": {
             "endlinecolor": "#2a3f5f",
             "gridcolor": "white",
             "linecolor": "white",
             "minorgridcolor": "white",
             "startlinecolor": "#2a3f5f"
            },
            "type": "carpet"
           }
          ],
          "choropleth": [
           {
            "colorbar": {
             "outlinewidth": 0,
             "ticks": ""
            },
            "type": "choropleth"
           }
          ],
          "contour": [
           {
            "colorbar": {
             "outlinewidth": 0,
             "ticks": ""
            },
            "colorscale": [
             [
              0,
              "#0d0887"
             ],
             [
              0.1111111111111111,
              "#46039f"
             ],
             [
              0.2222222222222222,
              "#7201a8"
             ],
             [
              0.3333333333333333,
              "#9c179e"
             ],
             [
              0.4444444444444444,
              "#bd3786"
             ],
             [
              0.5555555555555556,
              "#d8576b"
             ],
             [
              0.6666666666666666,
              "#ed7953"
             ],
             [
              0.7777777777777778,
              "#fb9f3a"
             ],
             [
              0.8888888888888888,
              "#fdca26"
             ],
             [
              1,
              "#f0f921"
             ]
            ],
            "type": "contour"
           }
          ],
          "contourcarpet": [
           {
            "colorbar": {
             "outlinewidth": 0,
             "ticks": ""
            },
            "type": "contourcarpet"
           }
          ],
          "heatmap": [
           {
            "colorbar": {
             "outlinewidth": 0,
             "ticks": ""
            },
            "colorscale": [
             [
              0,
              "#0d0887"
             ],
             [
              0.1111111111111111,
              "#46039f"
             ],
             [
              0.2222222222222222,
              "#7201a8"
             ],
             [
              0.3333333333333333,
              "#9c179e"
             ],
             [
              0.4444444444444444,
              "#bd3786"
             ],
             [
              0.5555555555555556,
              "#d8576b"
             ],
             [
              0.6666666666666666,
              "#ed7953"
             ],
             [
              0.7777777777777778,
              "#fb9f3a"
             ],
             [
              0.8888888888888888,
              "#fdca26"
             ],
             [
              1,
              "#f0f921"
             ]
            ],
            "type": "heatmap"
           }
          ],
          "heatmapgl": [
           {
            "colorbar": {
             "outlinewidth": 0,
             "ticks": ""
            },
            "colorscale": [
             [
              0,
              "#0d0887"
             ],
             [
              0.1111111111111111,
              "#46039f"
             ],
             [
              0.2222222222222222,
              "#7201a8"
             ],
             [
              0.3333333333333333,
              "#9c179e"
             ],
             [
              0.4444444444444444,
              "#bd3786"
             ],
             [
              0.5555555555555556,
              "#d8576b"
             ],
             [
              0.6666666666666666,
              "#ed7953"
             ],
             [
              0.7777777777777778,
              "#fb9f3a"
             ],
             [
              0.8888888888888888,
              "#fdca26"
             ],
             [
              1,
              "#f0f921"
             ]
            ],
            "type": "heatmapgl"
           }
          ],
          "histogram": [
           {
            "marker": {
             "pattern": {
              "fillmode": "overlay",
              "size": 10,
              "solidity": 0.2
             }
            },
            "type": "histogram"
           }
          ],
          "histogram2d": [
           {
            "colorbar": {
             "outlinewidth": 0,
             "ticks": ""
            },
            "colorscale": [
             [
              0,
              "#0d0887"
             ],
             [
              0.1111111111111111,
              "#46039f"
             ],
             [
              0.2222222222222222,
              "#7201a8"
             ],
             [
              0.3333333333333333,
              "#9c179e"
             ],
             [
              0.4444444444444444,
              "#bd3786"
             ],
             [
              0.5555555555555556,
              "#d8576b"
             ],
             [
              0.6666666666666666,
              "#ed7953"
             ],
             [
              0.7777777777777778,
              "#fb9f3a"
             ],
             [
              0.8888888888888888,
              "#fdca26"
             ],
             [
              1,
              "#f0f921"
             ]
            ],
            "type": "histogram2d"
           }
          ],
          "histogram2dcontour": [
           {
            "colorbar": {
             "outlinewidth": 0,
             "ticks": ""
            },
            "colorscale": [
             [
              0,
              "#0d0887"
             ],
             [
              0.1111111111111111,
              "#46039f"
             ],
             [
              0.2222222222222222,
              "#7201a8"
             ],
             [
              0.3333333333333333,
              "#9c179e"
             ],
             [
              0.4444444444444444,
              "#bd3786"
             ],
             [
              0.5555555555555556,
              "#d8576b"
             ],
             [
              0.6666666666666666,
              "#ed7953"
             ],
             [
              0.7777777777777778,
              "#fb9f3a"
             ],
             [
              0.8888888888888888,
              "#fdca26"
             ],
             [
              1,
              "#f0f921"
             ]
            ],
            "type": "histogram2dcontour"
           }
          ],
          "mesh3d": [
           {
            "colorbar": {
             "outlinewidth": 0,
             "ticks": ""
            },
            "type": "mesh3d"
           }
          ],
          "parcoords": [
           {
            "line": {
             "colorbar": {
              "outlinewidth": 0,
              "ticks": ""
             }
            },
            "type": "parcoords"
           }
          ],
          "pie": [
           {
            "automargin": true,
            "type": "pie"
           }
          ],
          "scatter": [
           {
            "fillpattern": {
             "fillmode": "overlay",
             "size": 10,
             "solidity": 0.2
            },
            "type": "scatter"
           }
          ],
          "scatter3d": [
           {
            "line": {
             "colorbar": {
              "outlinewidth": 0,
              "ticks": ""
             }
            },
            "marker": {
             "colorbar": {
              "outlinewidth": 0,
              "ticks": ""
             }
            },
            "type": "scatter3d"
           }
          ],
          "scattercarpet": [
           {
            "marker": {
             "colorbar": {
              "outlinewidth": 0,
              "ticks": ""
             }
            },
            "type": "scattercarpet"
           }
          ],
          "scattergeo": [
           {
            "marker": {
             "colorbar": {
              "outlinewidth": 0,
              "ticks": ""
             }
            },
            "type": "scattergeo"
           }
          ],
          "scattergl": [
           {
            "marker": {
             "colorbar": {
              "outlinewidth": 0,
              "ticks": ""
             }
            },
            "type": "scattergl"
           }
          ],
          "scattermapbox": [
           {
            "marker": {
             "colorbar": {
              "outlinewidth": 0,
              "ticks": ""
             }
            },
            "type": "scattermapbox"
           }
          ],
          "scatterpolar": [
           {
            "marker": {
             "colorbar": {
              "outlinewidth": 0,
              "ticks": ""
             }
            },
            "type": "scatterpolar"
           }
          ],
          "scatterpolargl": [
           {
            "marker": {
             "colorbar": {
              "outlinewidth": 0,
              "ticks": ""
             }
            },
            "type": "scatterpolargl"
           }
          ],
          "scatterternary": [
           {
            "marker": {
             "colorbar": {
              "outlinewidth": 0,
              "ticks": ""
             }
            },
            "type": "scatterternary"
           }
          ],
          "surface": [
           {
            "colorbar": {
             "outlinewidth": 0,
             "ticks": ""
            },
            "colorscale": [
             [
              0,
              "#0d0887"
             ],
             [
              0.1111111111111111,
              "#46039f"
             ],
             [
              0.2222222222222222,
              "#7201a8"
             ],
             [
              0.3333333333333333,
              "#9c179e"
             ],
             [
              0.4444444444444444,
              "#bd3786"
             ],
             [
              0.5555555555555556,
              "#d8576b"
             ],
             [
              0.6666666666666666,
              "#ed7953"
             ],
             [
              0.7777777777777778,
              "#fb9f3a"
             ],
             [
              0.8888888888888888,
              "#fdca26"
             ],
             [
              1,
              "#f0f921"
             ]
            ],
            "type": "surface"
           }
          ],
          "table": [
           {
            "cells": {
             "fill": {
              "color": "#EBF0F8"
             },
             "line": {
              "color": "white"
             }
            },
            "header": {
             "fill": {
              "color": "#C8D4E3"
             },
             "line": {
              "color": "white"
             }
            },
            "type": "table"
           }
          ]
         },
         "layout": {
          "annotationdefaults": {
           "arrowcolor": "#2a3f5f",
           "arrowhead": 0,
           "arrowwidth": 1
          },
          "autotypenumbers": "strict",
          "coloraxis": {
           "colorbar": {
            "outlinewidth": 0,
            "ticks": ""
           }
          },
          "colorscale": {
           "diverging": [
            [
             0,
             "#8e0152"
            ],
            [
             0.1,
             "#c51b7d"
            ],
            [
             0.2,
             "#de77ae"
            ],
            [
             0.3,
             "#f1b6da"
            ],
            [
             0.4,
             "#fde0ef"
            ],
            [
             0.5,
             "#f7f7f7"
            ],
            [
             0.6,
             "#e6f5d0"
            ],
            [
             0.7,
             "#b8e186"
            ],
            [
             0.8,
             "#7fbc41"
            ],
            [
             0.9,
             "#4d9221"
            ],
            [
             1,
             "#276419"
            ]
           ],
           "sequential": [
            [
             0,
             "#0d0887"
            ],
            [
             0.1111111111111111,
             "#46039f"
            ],
            [
             0.2222222222222222,
             "#7201a8"
            ],
            [
             0.3333333333333333,
             "#9c179e"
            ],
            [
             0.4444444444444444,
             "#bd3786"
            ],
            [
             0.5555555555555556,
             "#d8576b"
            ],
            [
             0.6666666666666666,
             "#ed7953"
            ],
            [
             0.7777777777777778,
             "#fb9f3a"
            ],
            [
             0.8888888888888888,
             "#fdca26"
            ],
            [
             1,
             "#f0f921"
            ]
           ],
           "sequentialminus": [
            [
             0,
             "#0d0887"
            ],
            [
             0.1111111111111111,
             "#46039f"
            ],
            [
             0.2222222222222222,
             "#7201a8"
            ],
            [
             0.3333333333333333,
             "#9c179e"
            ],
            [
             0.4444444444444444,
             "#bd3786"
            ],
            [
             0.5555555555555556,
             "#d8576b"
            ],
            [
             0.6666666666666666,
             "#ed7953"
            ],
            [
             0.7777777777777778,
             "#fb9f3a"
            ],
            [
             0.8888888888888888,
             "#fdca26"
            ],
            [
             1,
             "#f0f921"
            ]
           ]
          },
          "colorway": [
           "#636efa",
           "#EF553B",
           "#00cc96",
           "#ab63fa",
           "#FFA15A",
           "#19d3f3",
           "#FF6692",
           "#B6E880",
           "#FF97FF",
           "#FECB52"
          ],
          "font": {
           "color": "#2a3f5f"
          },
          "geo": {
           "bgcolor": "white",
           "lakecolor": "white",
           "landcolor": "#E5ECF6",
           "showlakes": true,
           "showland": true,
           "subunitcolor": "white"
          },
          "hoverlabel": {
           "align": "left"
          },
          "hovermode": "closest",
          "mapbox": {
           "style": "light"
          },
          "paper_bgcolor": "white",
          "plot_bgcolor": "#E5ECF6",
          "polar": {
           "angularaxis": {
            "gridcolor": "white",
            "linecolor": "white",
            "ticks": ""
           },
           "bgcolor": "#E5ECF6",
           "radialaxis": {
            "gridcolor": "white",
            "linecolor": "white",
            "ticks": ""
           }
          },
          "scene": {
           "xaxis": {
            "backgroundcolor": "#E5ECF6",
            "gridcolor": "white",
            "gridwidth": 2,
            "linecolor": "white",
            "showbackground": true,
            "ticks": "",
            "zerolinecolor": "white"
           },
           "yaxis": {
            "backgroundcolor": "#E5ECF6",
            "gridcolor": "white",
            "gridwidth": 2,
            "linecolor": "white",
            "showbackground": true,
            "ticks": "",
            "zerolinecolor": "white"
           },
           "zaxis": {
            "backgroundcolor": "#E5ECF6",
            "gridcolor": "white",
            "gridwidth": 2,
            "linecolor": "white",
            "showbackground": true,
            "ticks": "",
            "zerolinecolor": "white"
           }
          },
          "shapedefaults": {
           "line": {
            "color": "#2a3f5f"
           }
          },
          "ternary": {
           "aaxis": {
            "gridcolor": "white",
            "linecolor": "white",
            "ticks": ""
           },
           "baxis": {
            "gridcolor": "white",
            "linecolor": "white",
            "ticks": ""
           },
           "bgcolor": "#E5ECF6",
           "caxis": {
            "gridcolor": "white",
            "linecolor": "white",
            "ticks": ""
           }
          },
          "title": {
           "x": 0.05
          },
          "xaxis": {
           "automargin": true,
           "gridcolor": "white",
           "linecolor": "white",
           "ticks": "",
           "title": {
            "standoff": 15
           },
           "zerolinecolor": "white",
           "zerolinewidth": 2
          },
          "yaxis": {
           "automargin": true,
           "gridcolor": "white",
           "linecolor": "white",
           "ticks": "",
           "title": {
            "standoff": 15
           },
           "zerolinecolor": "white",
           "zerolinewidth": 2
          }
         }
        },
        "title": {
         "text": "Effect of Shipping Delay on Sales per Region"
        },
        "xaxis": {
         "anchor": "y",
         "domain": [
          0,
          1
         ],
         "title": {
          "text": "Shipping Delay (Days)"
         }
        },
        "yaxis": {
         "anchor": "x",
         "domain": [
          0,
          1
         ],
         "title": {
          "text": "Average Sales"
         }
        }
       }
      }
     },
     "metadata": {},
     "output_type": "display_data"
    },
    {
     "data": {
      "application/vnd.plotly.v1+json": {
       "config": {
        "plotlyServerURL": "https://plot.ly"
       },
       "data": [
        {
         "hovertemplate": "Region=Central<br>Shipping Delay (Days)=%{x}<br>Average Profit=%{y}<extra></extra>",
         "legendgroup": "Central",
         "line": {
          "color": "#636efa",
          "dash": "solid"
         },
         "marker": {
          "symbol": "circle"
         },
         "mode": "lines+markers",
         "name": "Central",
         "orientation": "v",
         "showlegend": true,
         "type": "scatter",
         "x": [
          0,
          1,
          2,
          3,
          4,
          5,
          6,
          7
         ],
         "xaxis": "x",
         "y": [
          -7.522996296296295,
          -10.552053846153845,
          6.784361904761906,
          -19.062988571428573,
          4.436087261146497,
          -33.430215,
          3.103334999999999,
          6.515142307692306
         ],
         "yaxis": "y"
        },
        {
         "hovertemplate": "Region=East<br>Shipping Delay (Days)=%{x}<br>Average Profit=%{y}<extra></extra>",
         "legendgroup": "East",
         "line": {
          "color": "#EF553B",
          "dash": "solid"
         },
         "marker": {
          "symbol": "circle"
         },
         "mode": "lines+markers",
         "name": "East",
         "orientation": "v",
         "showlegend": true,
         "type": "scatter",
         "x": [
          0,
          1,
          2,
          3,
          4,
          5,
          6,
          7
         ],
         "xaxis": "x",
         "y": [
          2.813114285714288,
          -15.016004761904762,
          18.016624731182795,
          22.11688148148148,
          -13.552854335260115,
          -6.674373437499999,
          45.42461363636364,
          19.1653
         ],
         "yaxis": "y"
        },
        {
         "hovertemplate": "Region=South<br>Shipping Delay (Days)=%{x}<br>Average Profit=%{y}<extra></extra>",
         "legendgroup": "South",
         "line": {
          "color": "#00cc96",
          "dash": "solid"
         },
         "marker": {
          "symbol": "circle"
         },
         "mode": "lines+markers",
         "name": "South",
         "orientation": "v",
         "showlegend": true,
         "type": "scatter",
         "x": [
          0,
          1,
          2,
          3,
          4,
          5,
          6,
          7
         ],
         "xaxis": "x",
         "y": [
          7.527461538461537,
          59.70944615384615,
          63.63893414634146,
          -41.405878378378375,
          39.493946666666666,
          20.83954430379747,
          0.5195947368421066,
          -19.075061904761906
         ],
         "yaxis": "y"
        },
        {
         "hovertemplate": "Region=West<br>Shipping Delay (Days)=%{x}<br>Average Profit=%{y}<extra></extra>",
         "legendgroup": "West",
         "line": {
          "color": "#ab63fa",
          "dash": "solid"
         },
         "marker": {
          "symbol": "circle"
         },
         "mode": "lines+markers",
         "name": "West",
         "orientation": "v",
         "showlegend": true,
         "type": "scatter",
         "x": [
          0,
          1,
          2,
          3,
          4,
          5,
          6,
          7
         ],
         "xaxis": "x",
         "y": [
          13.32161219512195,
          15.34783,
          24.528663716814158,
          11.764358333333336,
          16.486734254143645,
          16.911716352201257,
          12.562518055555554,
          8.689523529411764
         ],
         "yaxis": "y"
        }
       ],
       "layout": {
        "legend": {
         "title": {
          "text": "Region"
         },
         "tracegroupgap": 0
        },
        "template": {
         "data": {
          "bar": [
           {
            "error_x": {
             "color": "#2a3f5f"
            },
            "error_y": {
             "color": "#2a3f5f"
            },
            "marker": {
             "line": {
              "color": "#E5ECF6",
              "width": 0.5
             },
             "pattern": {
              "fillmode": "overlay",
              "size": 10,
              "solidity": 0.2
             }
            },
            "type": "bar"
           }
          ],
          "barpolar": [
           {
            "marker": {
             "line": {
              "color": "#E5ECF6",
              "width": 0.5
             },
             "pattern": {
              "fillmode": "overlay",
              "size": 10,
              "solidity": 0.2
             }
            },
            "type": "barpolar"
           }
          ],
          "carpet": [
           {
            "aaxis": {
             "endlinecolor": "#2a3f5f",
             "gridcolor": "white",
             "linecolor": "white",
             "minorgridcolor": "white",
             "startlinecolor": "#2a3f5f"
            },
            "baxis": {
             "endlinecolor": "#2a3f5f",
             "gridcolor": "white",
             "linecolor": "white",
             "minorgridcolor": "white",
             "startlinecolor": "#2a3f5f"
            },
            "type": "carpet"
           }
          ],
          "choropleth": [
           {
            "colorbar": {
             "outlinewidth": 0,
             "ticks": ""
            },
            "type": "choropleth"
           }
          ],
          "contour": [
           {
            "colorbar": {
             "outlinewidth": 0,
             "ticks": ""
            },
            "colorscale": [
             [
              0,
              "#0d0887"
             ],
             [
              0.1111111111111111,
              "#46039f"
             ],
             [
              0.2222222222222222,
              "#7201a8"
             ],
             [
              0.3333333333333333,
              "#9c179e"
             ],
             [
              0.4444444444444444,
              "#bd3786"
             ],
             [
              0.5555555555555556,
              "#d8576b"
             ],
             [
              0.6666666666666666,
              "#ed7953"
             ],
             [
              0.7777777777777778,
              "#fb9f3a"
             ],
             [
              0.8888888888888888,
              "#fdca26"
             ],
             [
              1,
              "#f0f921"
             ]
            ],
            "type": "contour"
           }
          ],
          "contourcarpet": [
           {
            "colorbar": {
             "outlinewidth": 0,
             "ticks": ""
            },
            "type": "contourcarpet"
           }
          ],
          "heatmap": [
           {
            "colorbar": {
             "outlinewidth": 0,
             "ticks": ""
            },
            "colorscale": [
             [
              0,
              "#0d0887"
             ],
             [
              0.1111111111111111,
              "#46039f"
             ],
             [
              0.2222222222222222,
              "#7201a8"
             ],
             [
              0.3333333333333333,
              "#9c179e"
             ],
             [
              0.4444444444444444,
              "#bd3786"
             ],
             [
              0.5555555555555556,
              "#d8576b"
             ],
             [
              0.6666666666666666,
              "#ed7953"
             ],
             [
              0.7777777777777778,
              "#fb9f3a"
             ],
             [
              0.8888888888888888,
              "#fdca26"
             ],
             [
              1,
              "#f0f921"
             ]
            ],
            "type": "heatmap"
           }
          ],
          "heatmapgl": [
           {
            "colorbar": {
             "outlinewidth": 0,
             "ticks": ""
            },
            "colorscale": [
             [
              0,
              "#0d0887"
             ],
             [
              0.1111111111111111,
              "#46039f"
             ],
             [
              0.2222222222222222,
              "#7201a8"
             ],
             [
              0.3333333333333333,
              "#9c179e"
             ],
             [
              0.4444444444444444,
              "#bd3786"
             ],
             [
              0.5555555555555556,
              "#d8576b"
             ],
             [
              0.6666666666666666,
              "#ed7953"
             ],
             [
              0.7777777777777778,
              "#fb9f3a"
             ],
             [
              0.8888888888888888,
              "#fdca26"
             ],
             [
              1,
              "#f0f921"
             ]
            ],
            "type": "heatmapgl"
           }
          ],
          "histogram": [
           {
            "marker": {
             "pattern": {
              "fillmode": "overlay",
              "size": 10,
              "solidity": 0.2
             }
            },
            "type": "histogram"
           }
          ],
          "histogram2d": [
           {
            "colorbar": {
             "outlinewidth": 0,
             "ticks": ""
            },
            "colorscale": [
             [
              0,
              "#0d0887"
             ],
             [
              0.1111111111111111,
              "#46039f"
             ],
             [
              0.2222222222222222,
              "#7201a8"
             ],
             [
              0.3333333333333333,
              "#9c179e"
             ],
             [
              0.4444444444444444,
              "#bd3786"
             ],
             [
              0.5555555555555556,
              "#d8576b"
             ],
             [
              0.6666666666666666,
              "#ed7953"
             ],
             [
              0.7777777777777778,
              "#fb9f3a"
             ],
             [
              0.8888888888888888,
              "#fdca26"
             ],
             [
              1,
              "#f0f921"
             ]
            ],
            "type": "histogram2d"
           }
          ],
          "histogram2dcontour": [
           {
            "colorbar": {
             "outlinewidth": 0,
             "ticks": ""
            },
            "colorscale": [
             [
              0,
              "#0d0887"
             ],
             [
              0.1111111111111111,
              "#46039f"
             ],
             [
              0.2222222222222222,
              "#7201a8"
             ],
             [
              0.3333333333333333,
              "#9c179e"
             ],
             [
              0.4444444444444444,
              "#bd3786"
             ],
             [
              0.5555555555555556,
              "#d8576b"
             ],
             [
              0.6666666666666666,
              "#ed7953"
             ],
             [
              0.7777777777777778,
              "#fb9f3a"
             ],
             [
              0.8888888888888888,
              "#fdca26"
             ],
             [
              1,
              "#f0f921"
             ]
            ],
            "type": "histogram2dcontour"
           }
          ],
          "mesh3d": [
           {
            "colorbar": {
             "outlinewidth": 0,
             "ticks": ""
            },
            "type": "mesh3d"
           }
          ],
          "parcoords": [
           {
            "line": {
             "colorbar": {
              "outlinewidth": 0,
              "ticks": ""
             }
            },
            "type": "parcoords"
           }
          ],
          "pie": [
           {
            "automargin": true,
            "type": "pie"
           }
          ],
          "scatter": [
           {
            "fillpattern": {
             "fillmode": "overlay",
             "size": 10,
             "solidity": 0.2
            },
            "type": "scatter"
           }
          ],
          "scatter3d": [
           {
            "line": {
             "colorbar": {
              "outlinewidth": 0,
              "ticks": ""
             }
            },
            "marker": {
             "colorbar": {
              "outlinewidth": 0,
              "ticks": ""
             }
            },
            "type": "scatter3d"
           }
          ],
          "scattercarpet": [
           {
            "marker": {
             "colorbar": {
              "outlinewidth": 0,
              "ticks": ""
             }
            },
            "type": "scattercarpet"
           }
          ],
          "scattergeo": [
           {
            "marker": {
             "colorbar": {
              "outlinewidth": 0,
              "ticks": ""
             }
            },
            "type": "scattergeo"
           }
          ],
          "scattergl": [
           {
            "marker": {
             "colorbar": {
              "outlinewidth": 0,
              "ticks": ""
             }
            },
            "type": "scattergl"
           }
          ],
          "scattermapbox": [
           {
            "marker": {
             "colorbar": {
              "outlinewidth": 0,
              "ticks": ""
             }
            },
            "type": "scattermapbox"
           }
          ],
          "scatterpolar": [
           {
            "marker": {
             "colorbar": {
              "outlinewidth": 0,
              "ticks": ""
             }
            },
            "type": "scatterpolar"
           }
          ],
          "scatterpolargl": [
           {
            "marker": {
             "colorbar": {
              "outlinewidth": 0,
              "ticks": ""
             }
            },
            "type": "scatterpolargl"
           }
          ],
          "scatterternary": [
           {
            "marker": {
             "colorbar": {
              "outlinewidth": 0,
              "ticks": ""
             }
            },
            "type": "scatterternary"
           }
          ],
          "surface": [
           {
            "colorbar": {
             "outlinewidth": 0,
             "ticks": ""
            },
            "colorscale": [
             [
              0,
              "#0d0887"
             ],
             [
              0.1111111111111111,
              "#46039f"
             ],
             [
              0.2222222222222222,
              "#7201a8"
             ],
             [
              0.3333333333333333,
              "#9c179e"
             ],
             [
              0.4444444444444444,
              "#bd3786"
             ],
             [
              0.5555555555555556,
              "#d8576b"
             ],
             [
              0.6666666666666666,
              "#ed7953"
             ],
             [
              0.7777777777777778,
              "#fb9f3a"
             ],
             [
              0.8888888888888888,
              "#fdca26"
             ],
             [
              1,
              "#f0f921"
             ]
            ],
            "type": "surface"
           }
          ],
          "table": [
           {
            "cells": {
             "fill": {
              "color": "#EBF0F8"
             },
             "line": {
              "color": "white"
             }
            },
            "header": {
             "fill": {
              "color": "#C8D4E3"
             },
             "line": {
              "color": "white"
             }
            },
            "type": "table"
           }
          ]
         },
         "layout": {
          "annotationdefaults": {
           "arrowcolor": "#2a3f5f",
           "arrowhead": 0,
           "arrowwidth": 1
          },
          "autotypenumbers": "strict",
          "coloraxis": {
           "colorbar": {
            "outlinewidth": 0,
            "ticks": ""
           }
          },
          "colorscale": {
           "diverging": [
            [
             0,
             "#8e0152"
            ],
            [
             0.1,
             "#c51b7d"
            ],
            [
             0.2,
             "#de77ae"
            ],
            [
             0.3,
             "#f1b6da"
            ],
            [
             0.4,
             "#fde0ef"
            ],
            [
             0.5,
             "#f7f7f7"
            ],
            [
             0.6,
             "#e6f5d0"
            ],
            [
             0.7,
             "#b8e186"
            ],
            [
             0.8,
             "#7fbc41"
            ],
            [
             0.9,
             "#4d9221"
            ],
            [
             1,
             "#276419"
            ]
           ],
           "sequential": [
            [
             0,
             "#0d0887"
            ],
            [
             0.1111111111111111,
             "#46039f"
            ],
            [
             0.2222222222222222,
             "#7201a8"
            ],
            [
             0.3333333333333333,
             "#9c179e"
            ],
            [
             0.4444444444444444,
             "#bd3786"
            ],
            [
             0.5555555555555556,
             "#d8576b"
            ],
            [
             0.6666666666666666,
             "#ed7953"
            ],
            [
             0.7777777777777778,
             "#fb9f3a"
            ],
            [
             0.8888888888888888,
             "#fdca26"
            ],
            [
             1,
             "#f0f921"
            ]
           ],
           "sequentialminus": [
            [
             0,
             "#0d0887"
            ],
            [
             0.1111111111111111,
             "#46039f"
            ],
            [
             0.2222222222222222,
             "#7201a8"
            ],
            [
             0.3333333333333333,
             "#9c179e"
            ],
            [
             0.4444444444444444,
             "#bd3786"
            ],
            [
             0.5555555555555556,
             "#d8576b"
            ],
            [
             0.6666666666666666,
             "#ed7953"
            ],
            [
             0.7777777777777778,
             "#fb9f3a"
            ],
            [
             0.8888888888888888,
             "#fdca26"
            ],
            [
             1,
             "#f0f921"
            ]
           ]
          },
          "colorway": [
           "#636efa",
           "#EF553B",
           "#00cc96",
           "#ab63fa",
           "#FFA15A",
           "#19d3f3",
           "#FF6692",
           "#B6E880",
           "#FF97FF",
           "#FECB52"
          ],
          "font": {
           "color": "#2a3f5f"
          },
          "geo": {
           "bgcolor": "white",
           "lakecolor": "white",
           "landcolor": "#E5ECF6",
           "showlakes": true,
           "showland": true,
           "subunitcolor": "white"
          },
          "hoverlabel": {
           "align": "left"
          },
          "hovermode": "closest",
          "mapbox": {
           "style": "light"
          },
          "paper_bgcolor": "white",
          "plot_bgcolor": "#E5ECF6",
          "polar": {
           "angularaxis": {
            "gridcolor": "white",
            "linecolor": "white",
            "ticks": ""
           },
           "bgcolor": "#E5ECF6",
           "radialaxis": {
            "gridcolor": "white",
            "linecolor": "white",
            "ticks": ""
           }
          },
          "scene": {
           "xaxis": {
            "backgroundcolor": "#E5ECF6",
            "gridcolor": "white",
            "gridwidth": 2,
            "linecolor": "white",
            "showbackground": true,
            "ticks": "",
            "zerolinecolor": "white"
           },
           "yaxis": {
            "backgroundcolor": "#E5ECF6",
            "gridcolor": "white",
            "gridwidth": 2,
            "linecolor": "white",
            "showbackground": true,
            "ticks": "",
            "zerolinecolor": "white"
           },
           "zaxis": {
            "backgroundcolor": "#E5ECF6",
            "gridcolor": "white",
            "gridwidth": 2,
            "linecolor": "white",
            "showbackground": true,
            "ticks": "",
            "zerolinecolor": "white"
           }
          },
          "shapedefaults": {
           "line": {
            "color": "#2a3f5f"
           }
          },
          "ternary": {
           "aaxis": {
            "gridcolor": "white",
            "linecolor": "white",
            "ticks": ""
           },
           "baxis": {
            "gridcolor": "white",
            "linecolor": "white",
            "ticks": ""
           },
           "bgcolor": "#E5ECF6",
           "caxis": {
            "gridcolor": "white",
            "linecolor": "white",
            "ticks": ""
           }
          },
          "title": {
           "x": 0.05
          },
          "xaxis": {
           "automargin": true,
           "gridcolor": "white",
           "linecolor": "white",
           "ticks": "",
           "title": {
            "standoff": 15
           },
           "zerolinecolor": "white",
           "zerolinewidth": 2
          },
          "yaxis": {
           "automargin": true,
           "gridcolor": "white",
           "linecolor": "white",
           "ticks": "",
           "title": {
            "standoff": 15
           },
           "zerolinecolor": "white",
           "zerolinewidth": 2
          }
         }
        },
        "title": {
         "text": "Effect of Shipping Delay on Profit per Region"
        },
        "xaxis": {
         "anchor": "y",
         "domain": [
          0,
          1
         ],
         "title": {
          "text": "Shipping Delay (Days)"
         }
        },
        "yaxis": {
         "anchor": "x",
         "domain": [
          0,
          1
         ],
         "title": {
          "text": "Average Profit"
         }
        }
       }
      }
     },
     "metadata": {},
     "output_type": "display_data"
    }
   ],
   "source": [
    "import plotly.express as px\n",
    "import pandas as pd\n",
    "\n",
    "def visualize_shipping_delay_effect(df):\n",
    "    \"\"\"\n",
    "    Visualizes the effect of shipping delay on Sales and Profit per region using Plotly.\n",
    "    \n",
    "    Parameters:\n",
    "    df (pd.DataFrame): The dataset with 'Order Date', 'Ship Date', 'Region', 'Sales', and 'Profit'.\n",
    "    \"\"\"\n",
    "    # Ensure dates are in datetime format\n",
    "    df['Order Date'] = pd.to_datetime(df['Order Date'])\n",
    "    df['Ship Date'] = pd.to_datetime(df['Ship Date'])\n",
    "    \n",
    "    # Calculate shipping delay\n",
    "    df['Shipping Delay (Days)'] = (df['Ship Date'] - df['Order Date']).dt.days\n",
    "    df = df[df['Shipping Delay (Days)'] >= 0]  # Remove negative values\n",
    "    \n",
    "    # Group data by shipping delay and region\n",
    "    delay_grouped = df.groupby(['Shipping Delay (Days)', 'Region'])[['Sales', 'Profit']].mean().reset_index()\n",
    "    \n",
    "    # Plot Sales effect\n",
    "    fig_sales = px.line(delay_grouped, x='Shipping Delay (Days)', y='Sales', color='Region',\n",
    "                         title='Effect of Shipping Delay on Sales per Region',\n",
    "                         markers=True, labels={'Sales': 'Average Sales'})\n",
    "    \n",
    "    # Plot Profit effect\n",
    "    fig_profit = px.line(delay_grouped, x='Shipping Delay (Days)', y='Profit', color='Region',\n",
    "                          title='Effect of Shipping Delay on Profit per Region',\n",
    "                          markers=True, labels={'Profit': 'Average Profit'})\n",
    "    \n",
    "    # Show plots\n",
    "    fig_sales.show()\n",
    "    fig_profit.show()\n",
    "\n",
    "# Example usage\n",
    "visualize_shipping_delay_effect(df)\n"
   ]
  },
  {
   "cell_type": "code",
   "execution_count": null,
   "metadata": {},
   "outputs": [],
   "source": [
    "import plotly.express as px\n",
    "import pandas as pd\n",
    "\n",
    "def visualize_shipping_delay_effect(df):\n",
    "    \"\"\"\n",
    "    Visualizes the effect of shipping delay on Sales and Profit per region using Plotly.\n",
    "    \n",
    "    Parameters:\n",
    "    df (pd.DataFrame): The dataset with 'Order Date', 'Ship Date', 'Region', 'Sales', and 'Profit'.\n",
    "    \"\"\"\n",
    "    # Ensure dates are in datetime format\n",
    "    df['Order Date'] = pd.to_datetime(df['Order Date'])\n",
    "    df['Ship Date'] = pd.to_datetime(df['Ship Date'])\n",
    "    \n",
    "    # Calculate shipping delay\n",
    "    df['Shipping Delay (Days)'] = (df['Ship Date'] - df['Order Date']).dt.days\n",
    "    df = df[df['Shipping Delay (Days)'] >= 0]  # Remove negative values\n",
    "    \n",
    "    # Group data by shipping delay and region\n",
    "    delay_grouped = df.groupby(['Shipping Delay (Days)', 'Sub-Category'])[['Sales', 'Profit']].mean().reset_index()\n",
    "    \n",
    "    # Plot Sales effect\n",
    "    fig_sales = px.line(delay_grouped, x='Shipping Delay (Days)', y='Sales', color='Sub-Category',\n",
    "                         title='Effect of Shipping Delay on Sales per Sub-Category',\n",
    "                         markers=True, labels={'Sales': 'Average Sales'})\n",
    "    \n",
    "    # Plot Profit effect\n",
    "    fig_profit = px.line(delay_grouped, x='Shipping Delay (Days)', y='Profit', color='Sub-Category',\n",
    "                          title='Effect of Shipping Delay on Profit per Sub-Category',\n",
    "                          markers=True, labels={'Profit': 'Average Profit'})\n",
    "    \n",
    "    # Show plots\n",
    "    fig_sales.show()\n",
    "    fig_profit.show()\n",
    "\n",
    "# Example usage\n",
    "visualize_shipping_delay_effect(df)\n"
   ]
  },
  {
   "cell_type": "markdown",
   "metadata": {},
   "source": [
    "Shouldn't this analysis be done regarding the type of products that is being delay? "
   ]
  },
  {
   "cell_type": "markdown",
   "metadata": {},
   "source": [
    "**Discount's effect**"
   ]
  },
  {
   "cell_type": "code",
   "execution_count": 164,
   "metadata": {},
   "outputs": [
    {
     "data": {
      "application/vnd.plotly.v1+json": {
       "config": {
        "plotlyServerURL": "https://plot.ly"
       },
       "data": [
        {
         "hovertemplate": "Region=Central<br>Discount (%)=%{x}<br>Average Sales=%{y}<extra></extra>",
         "legendgroup": "Central",
         "line": {
          "color": "#636efa",
          "dash": "solid"
         },
         "marker": {
          "symbol": "circle"
         },
         "mode": "lines+markers",
         "name": "Central",
         "orientation": "v",
         "showlegend": true,
         "type": "scatter",
         "x": [
          0,
          0.3,
          0.32,
          0.5,
          0.6
         ],
         "xaxis": "x",
         "y": [
          480.3163461538462,
          430.83792253521125,
          536.7947703703704,
          363.92611111111114,
          48.15
         ],
         "yaxis": "y"
        },
        {
         "hovertemplate": "Region=East<br>Discount (%)=%{x}<br>Average Sales=%{y}<extra></extra>",
         "legendgroup": "East",
         "line": {
          "color": "#EF553B",
          "dash": "solid"
         },
         "marker": {
          "symbol": "circle"
         },
         "mode": "lines+markers",
         "name": "East",
         "orientation": "v",
         "showlegend": true,
         "type": "scatter",
         "x": [
          0,
          0.1,
          0.2,
          0.3,
          0.4,
          0.5
         ],
         "xaxis": "x",
         "y": [
          230.64261061946905,
          613.6085131578948,
          240.94073239436622,
          478.64206249999995,
          503.70030508474576,
          406.02555555555557
         ],
         "yaxis": "y"
        },
        {
         "hovertemplate": "Region=South<br>Discount (%)=%{x}<br>Average Sales=%{y}<extra></extra>",
         "legendgroup": "South",
         "line": {
          "color": "#00cc96",
          "dash": "solid"
         },
         "marker": {
          "symbol": "circle"
         },
         "mode": "lines+markers",
         "name": "South",
         "orientation": "v",
         "showlegend": true,
         "type": "scatter",
         "x": [
          0,
          0.2,
          0.4,
          0.45
         ],
         "xaxis": "x",
         "y": [
          410.30893749999996,
          208.74615172413792,
          993.5055,
          498.634
         ],
         "yaxis": "y"
        },
        {
         "hovertemplate": "Region=West<br>Discount (%)=%{x}<br>Average Sales=%{y}<extra></extra>",
         "legendgroup": "West",
         "line": {
          "color": "#ab63fa",
          "dash": "solid"
         },
         "marker": {
          "symbol": "circle"
         },
         "mode": "lines+markers",
         "name": "West",
         "orientation": "v",
         "showlegend": true,
         "type": "scatter",
         "x": [
          0,
          0.15,
          0.2,
          0.5,
          0.7
         ],
         "xaxis": "x",
         "y": [
          215.37843537414966,
          529.9715673076923,
          463.8696341463414,
          395.7966666666667,
          163.9588
         ],
         "yaxis": "y"
        }
       ],
       "layout": {
        "legend": {
         "title": {
          "text": "Region"
         },
         "tracegroupgap": 0
        },
        "template": {
         "data": {
          "bar": [
           {
            "error_x": {
             "color": "#2a3f5f"
            },
            "error_y": {
             "color": "#2a3f5f"
            },
            "marker": {
             "line": {
              "color": "#E5ECF6",
              "width": 0.5
             },
             "pattern": {
              "fillmode": "overlay",
              "size": 10,
              "solidity": 0.2
             }
            },
            "type": "bar"
           }
          ],
          "barpolar": [
           {
            "marker": {
             "line": {
              "color": "#E5ECF6",
              "width": 0.5
             },
             "pattern": {
              "fillmode": "overlay",
              "size": 10,
              "solidity": 0.2
             }
            },
            "type": "barpolar"
           }
          ],
          "carpet": [
           {
            "aaxis": {
             "endlinecolor": "#2a3f5f",
             "gridcolor": "white",
             "linecolor": "white",
             "minorgridcolor": "white",
             "startlinecolor": "#2a3f5f"
            },
            "baxis": {
             "endlinecolor": "#2a3f5f",
             "gridcolor": "white",
             "linecolor": "white",
             "minorgridcolor": "white",
             "startlinecolor": "#2a3f5f"
            },
            "type": "carpet"
           }
          ],
          "choropleth": [
           {
            "colorbar": {
             "outlinewidth": 0,
             "ticks": ""
            },
            "type": "choropleth"
           }
          ],
          "contour": [
           {
            "colorbar": {
             "outlinewidth": 0,
             "ticks": ""
            },
            "colorscale": [
             [
              0,
              "#0d0887"
             ],
             [
              0.1111111111111111,
              "#46039f"
             ],
             [
              0.2222222222222222,
              "#7201a8"
             ],
             [
              0.3333333333333333,
              "#9c179e"
             ],
             [
              0.4444444444444444,
              "#bd3786"
             ],
             [
              0.5555555555555556,
              "#d8576b"
             ],
             [
              0.6666666666666666,
              "#ed7953"
             ],
             [
              0.7777777777777778,
              "#fb9f3a"
             ],
             [
              0.8888888888888888,
              "#fdca26"
             ],
             [
              1,
              "#f0f921"
             ]
            ],
            "type": "contour"
           }
          ],
          "contourcarpet": [
           {
            "colorbar": {
             "outlinewidth": 0,
             "ticks": ""
            },
            "type": "contourcarpet"
           }
          ],
          "heatmap": [
           {
            "colorbar": {
             "outlinewidth": 0,
             "ticks": ""
            },
            "colorscale": [
             [
              0,
              "#0d0887"
             ],
             [
              0.1111111111111111,
              "#46039f"
             ],
             [
              0.2222222222222222,
              "#7201a8"
             ],
             [
              0.3333333333333333,
              "#9c179e"
             ],
             [
              0.4444444444444444,
              "#bd3786"
             ],
             [
              0.5555555555555556,
              "#d8576b"
             ],
             [
              0.6666666666666666,
              "#ed7953"
             ],
             [
              0.7777777777777778,
              "#fb9f3a"
             ],
             [
              0.8888888888888888,
              "#fdca26"
             ],
             [
              1,
              "#f0f921"
             ]
            ],
            "type": "heatmap"
           }
          ],
          "heatmapgl": [
           {
            "colorbar": {
             "outlinewidth": 0,
             "ticks": ""
            },
            "colorscale": [
             [
              0,
              "#0d0887"
             ],
             [
              0.1111111111111111,
              "#46039f"
             ],
             [
              0.2222222222222222,
              "#7201a8"
             ],
             [
              0.3333333333333333,
              "#9c179e"
             ],
             [
              0.4444444444444444,
              "#bd3786"
             ],
             [
              0.5555555555555556,
              "#d8576b"
             ],
             [
              0.6666666666666666,
              "#ed7953"
             ],
             [
              0.7777777777777778,
              "#fb9f3a"
             ],
             [
              0.8888888888888888,
              "#fdca26"
             ],
             [
              1,
              "#f0f921"
             ]
            ],
            "type": "heatmapgl"
           }
          ],
          "histogram": [
           {
            "marker": {
             "pattern": {
              "fillmode": "overlay",
              "size": 10,
              "solidity": 0.2
             }
            },
            "type": "histogram"
           }
          ],
          "histogram2d": [
           {
            "colorbar": {
             "outlinewidth": 0,
             "ticks": ""
            },
            "colorscale": [
             [
              0,
              "#0d0887"
             ],
             [
              0.1111111111111111,
              "#46039f"
             ],
             [
              0.2222222222222222,
              "#7201a8"
             ],
             [
              0.3333333333333333,
              "#9c179e"
             ],
             [
              0.4444444444444444,
              "#bd3786"
             ],
             [
              0.5555555555555556,
              "#d8576b"
             ],
             [
              0.6666666666666666,
              "#ed7953"
             ],
             [
              0.7777777777777778,
              "#fb9f3a"
             ],
             [
              0.8888888888888888,
              "#fdca26"
             ],
             [
              1,
              "#f0f921"
             ]
            ],
            "type": "histogram2d"
           }
          ],
          "histogram2dcontour": [
           {
            "colorbar": {
             "outlinewidth": 0,
             "ticks": ""
            },
            "colorscale": [
             [
              0,
              "#0d0887"
             ],
             [
              0.1111111111111111,
              "#46039f"
             ],
             [
              0.2222222222222222,
              "#7201a8"
             ],
             [
              0.3333333333333333,
              "#9c179e"
             ],
             [
              0.4444444444444444,
              "#bd3786"
             ],
             [
              0.5555555555555556,
              "#d8576b"
             ],
             [
              0.6666666666666666,
              "#ed7953"
             ],
             [
              0.7777777777777778,
              "#fb9f3a"
             ],
             [
              0.8888888888888888,
              "#fdca26"
             ],
             [
              1,
              "#f0f921"
             ]
            ],
            "type": "histogram2dcontour"
           }
          ],
          "mesh3d": [
           {
            "colorbar": {
             "outlinewidth": 0,
             "ticks": ""
            },
            "type": "mesh3d"
           }
          ],
          "parcoords": [
           {
            "line": {
             "colorbar": {
              "outlinewidth": 0,
              "ticks": ""
             }
            },
            "type": "parcoords"
           }
          ],
          "pie": [
           {
            "automargin": true,
            "type": "pie"
           }
          ],
          "scatter": [
           {
            "fillpattern": {
             "fillmode": "overlay",
             "size": 10,
             "solidity": 0.2
            },
            "type": "scatter"
           }
          ],
          "scatter3d": [
           {
            "line": {
             "colorbar": {
              "outlinewidth": 0,
              "ticks": ""
             }
            },
            "marker": {
             "colorbar": {
              "outlinewidth": 0,
              "ticks": ""
             }
            },
            "type": "scatter3d"
           }
          ],
          "scattercarpet": [
           {
            "marker": {
             "colorbar": {
              "outlinewidth": 0,
              "ticks": ""
             }
            },
            "type": "scattercarpet"
           }
          ],
          "scattergeo": [
           {
            "marker": {
             "colorbar": {
              "outlinewidth": 0,
              "ticks": ""
             }
            },
            "type": "scattergeo"
           }
          ],
          "scattergl": [
           {
            "marker": {
             "colorbar": {
              "outlinewidth": 0,
              "ticks": ""
             }
            },
            "type": "scattergl"
           }
          ],
          "scattermapbox": [
           {
            "marker": {
             "colorbar": {
              "outlinewidth": 0,
              "ticks": ""
             }
            },
            "type": "scattermapbox"
           }
          ],
          "scatterpolar": [
           {
            "marker": {
             "colorbar": {
              "outlinewidth": 0,
              "ticks": ""
             }
            },
            "type": "scatterpolar"
           }
          ],
          "scatterpolargl": [
           {
            "marker": {
             "colorbar": {
              "outlinewidth": 0,
              "ticks": ""
             }
            },
            "type": "scatterpolargl"
           }
          ],
          "scatterternary": [
           {
            "marker": {
             "colorbar": {
              "outlinewidth": 0,
              "ticks": ""
             }
            },
            "type": "scatterternary"
           }
          ],
          "surface": [
           {
            "colorbar": {
             "outlinewidth": 0,
             "ticks": ""
            },
            "colorscale": [
             [
              0,
              "#0d0887"
             ],
             [
              0.1111111111111111,
              "#46039f"
             ],
             [
              0.2222222222222222,
              "#7201a8"
             ],
             [
              0.3333333333333333,
              "#9c179e"
             ],
             [
              0.4444444444444444,
              "#bd3786"
             ],
             [
              0.5555555555555556,
              "#d8576b"
             ],
             [
              0.6666666666666666,
              "#ed7953"
             ],
             [
              0.7777777777777778,
              "#fb9f3a"
             ],
             [
              0.8888888888888888,
              "#fdca26"
             ],
             [
              1,
              "#f0f921"
             ]
            ],
            "type": "surface"
           }
          ],
          "table": [
           {
            "cells": {
             "fill": {
              "color": "#EBF0F8"
             },
             "line": {
              "color": "white"
             }
            },
            "header": {
             "fill": {
              "color": "#C8D4E3"
             },
             "line": {
              "color": "white"
             }
            },
            "type": "table"
           }
          ]
         },
         "layout": {
          "annotationdefaults": {
           "arrowcolor": "#2a3f5f",
           "arrowhead": 0,
           "arrowwidth": 1
          },
          "autotypenumbers": "strict",
          "coloraxis": {
           "colorbar": {
            "outlinewidth": 0,
            "ticks": ""
           }
          },
          "colorscale": {
           "diverging": [
            [
             0,
             "#8e0152"
            ],
            [
             0.1,
             "#c51b7d"
            ],
            [
             0.2,
             "#de77ae"
            ],
            [
             0.3,
             "#f1b6da"
            ],
            [
             0.4,
             "#fde0ef"
            ],
            [
             0.5,
             "#f7f7f7"
            ],
            [
             0.6,
             "#e6f5d0"
            ],
            [
             0.7,
             "#b8e186"
            ],
            [
             0.8,
             "#7fbc41"
            ],
            [
             0.9,
             "#4d9221"
            ],
            [
             1,
             "#276419"
            ]
           ],
           "sequential": [
            [
             0,
             "#0d0887"
            ],
            [
             0.1111111111111111,
             "#46039f"
            ],
            [
             0.2222222222222222,
             "#7201a8"
            ],
            [
             0.3333333333333333,
             "#9c179e"
            ],
            [
             0.4444444444444444,
             "#bd3786"
            ],
            [
             0.5555555555555556,
             "#d8576b"
            ],
            [
             0.6666666666666666,
             "#ed7953"
            ],
            [
             0.7777777777777778,
             "#fb9f3a"
            ],
            [
             0.8888888888888888,
             "#fdca26"
            ],
            [
             1,
             "#f0f921"
            ]
           ],
           "sequentialminus": [
            [
             0,
             "#0d0887"
            ],
            [
             0.1111111111111111,
             "#46039f"
            ],
            [
             0.2222222222222222,
             "#7201a8"
            ],
            [
             0.3333333333333333,
             "#9c179e"
            ],
            [
             0.4444444444444444,
             "#bd3786"
            ],
            [
             0.5555555555555556,
             "#d8576b"
            ],
            [
             0.6666666666666666,
             "#ed7953"
            ],
            [
             0.7777777777777778,
             "#fb9f3a"
            ],
            [
             0.8888888888888888,
             "#fdca26"
            ],
            [
             1,
             "#f0f921"
            ]
           ]
          },
          "colorway": [
           "#636efa",
           "#EF553B",
           "#00cc96",
           "#ab63fa",
           "#FFA15A",
           "#19d3f3",
           "#FF6692",
           "#B6E880",
           "#FF97FF",
           "#FECB52"
          ],
          "font": {
           "color": "#2a3f5f"
          },
          "geo": {
           "bgcolor": "white",
           "lakecolor": "white",
           "landcolor": "#E5ECF6",
           "showlakes": true,
           "showland": true,
           "subunitcolor": "white"
          },
          "hoverlabel": {
           "align": "left"
          },
          "hovermode": "closest",
          "mapbox": {
           "style": "light"
          },
          "paper_bgcolor": "white",
          "plot_bgcolor": "#E5ECF6",
          "polar": {
           "angularaxis": {
            "gridcolor": "white",
            "linecolor": "white",
            "ticks": ""
           },
           "bgcolor": "#E5ECF6",
           "radialaxis": {
            "gridcolor": "white",
            "linecolor": "white",
            "ticks": ""
           }
          },
          "scene": {
           "xaxis": {
            "backgroundcolor": "#E5ECF6",
            "gridcolor": "white",
            "gridwidth": 2,
            "linecolor": "white",
            "showbackground": true,
            "ticks": "",
            "zerolinecolor": "white"
           },
           "yaxis": {
            "backgroundcolor": "#E5ECF6",
            "gridcolor": "white",
            "gridwidth": 2,
            "linecolor": "white",
            "showbackground": true,
            "ticks": "",
            "zerolinecolor": "white"
           },
           "zaxis": {
            "backgroundcolor": "#E5ECF6",
            "gridcolor": "white",
            "gridwidth": 2,
            "linecolor": "white",
            "showbackground": true,
            "ticks": "",
            "zerolinecolor": "white"
           }
          },
          "shapedefaults": {
           "line": {
            "color": "#2a3f5f"
           }
          },
          "ternary": {
           "aaxis": {
            "gridcolor": "white",
            "linecolor": "white",
            "ticks": ""
           },
           "baxis": {
            "gridcolor": "white",
            "linecolor": "white",
            "ticks": ""
           },
           "bgcolor": "#E5ECF6",
           "caxis": {
            "gridcolor": "white",
            "linecolor": "white",
            "ticks": ""
           }
          },
          "title": {
           "x": 0.05
          },
          "xaxis": {
           "automargin": true,
           "gridcolor": "white",
           "linecolor": "white",
           "ticks": "",
           "title": {
            "standoff": 15
           },
           "zerolinecolor": "white",
           "zerolinewidth": 2
          },
          "yaxis": {
           "automargin": true,
           "gridcolor": "white",
           "linecolor": "white",
           "ticks": "",
           "title": {
            "standoff": 15
           },
           "zerolinecolor": "white",
           "zerolinewidth": 2
          }
         }
        },
        "title": {
         "text": "Effect of Discount on Sales per Region"
        },
        "xaxis": {
         "anchor": "y",
         "domain": [
          0,
          1
         ],
         "title": {
          "text": "Discount (%)"
         }
        },
        "yaxis": {
         "anchor": "x",
         "domain": [
          0,
          1
         ],
         "title": {
          "text": "Average Sales"
         }
        }
       }
      }
     },
     "metadata": {},
     "output_type": "display_data"
    },
    {
     "data": {
      "application/vnd.plotly.v1+json": {
       "config": {
        "plotlyServerURL": "https://plot.ly"
       },
       "data": [
        {
         "hovertemplate": "Region=Central<br>Discount (%)=%{x}<br>Average Profit=%{y}<extra></extra>",
         "legendgroup": "Central",
         "line": {
          "color": "#636efa",
          "dash": "solid"
         },
         "marker": {
          "symbol": "circle"
         },
         "mode": "lines+markers",
         "name": "Central",
         "orientation": "v",
         "showlegend": true,
         "type": "scatter",
         "x": [
          0,
          0.3,
          0.32,
          0.5,
          0.6
         ],
         "xaxis": "x",
         "y": [
          106.67552500000001,
          -48.35840633802817,
          -88.56065555555557,
          -239.43026111111112,
          -43.0772115942029
         ],
         "yaxis": "y"
        },
        {
         "hovertemplate": "Region=East<br>Discount (%)=%{x}<br>Average Profit=%{y}<extra></extra>",
         "legendgroup": "East",
         "line": {
          "color": "#EF553B",
          "dash": "solid"
         },
         "marker": {
          "symbol": "circle"
         },
         "mode": "lines+markers",
         "name": "East",
         "orientation": "v",
         "showlegend": true,
         "type": "scatter",
         "x": [
          0,
          0.1,
          0.2,
          0.3,
          0.4,
          0.5
         ],
         "xaxis": "x",
         "y": [
          56.2327982300885,
          93.56594605263159,
          8.102151408450704,
          -47.85529,
          -166.77506949152544,
          -236.43398333333334
         ],
         "yaxis": "y"
        },
        {
         "hovertemplate": "Region=South<br>Discount (%)=%{x}<br>Average Profit=%{y}<extra></extra>",
         "legendgroup": "South",
         "line": {
          "color": "#00cc96",
          "dash": "solid"
         },
         "marker": {
          "symbol": "circle"
         },
         "mode": "lines+markers",
         "name": "South",
         "orientation": "v",
         "showlegend": true,
         "type": "scatter",
         "x": [
          0,
          0.2,
          0.4,
          0.45
         ],
         "xaxis": "x",
         "y": [
          92.00799500000001,
          6.142797931034482,
          -396.72923125,
          -226.64646363636365
         ],
         "yaxis": "y"
        },
        {
         "hovertemplate": "Region=West<br>Discount (%)=%{x}<br>Average Profit=%{y}<extra></extra>",
         "legendgroup": "West",
         "line": {
          "color": "#ab63fa",
          "dash": "solid"
         },
         "marker": {
          "symbol": "circle"
         },
         "mode": "lines+markers",
         "name": "West",
         "orientation": "v",
         "showlegend": true,
         "type": "scatter",
         "x": [
          0,
          0.15,
          0.2,
          0.5,
          0.7
         ],
         "xaxis": "x",
         "y": [
          47.82926156462585,
          27.288298076923077,
          12.880298475609756,
          -239.20236666666668,
          -259.66262666666665
         ],
         "yaxis": "y"
        }
       ],
       "layout": {
        "legend": {
         "title": {
          "text": "Region"
         },
         "tracegroupgap": 0
        },
        "template": {
         "data": {
          "bar": [
           {
            "error_x": {
             "color": "#2a3f5f"
            },
            "error_y": {
             "color": "#2a3f5f"
            },
            "marker": {
             "line": {
              "color": "#E5ECF6",
              "width": 0.5
             },
             "pattern": {
              "fillmode": "overlay",
              "size": 10,
              "solidity": 0.2
             }
            },
            "type": "bar"
           }
          ],
          "barpolar": [
           {
            "marker": {
             "line": {
              "color": "#E5ECF6",
              "width": 0.5
             },
             "pattern": {
              "fillmode": "overlay",
              "size": 10,
              "solidity": 0.2
             }
            },
            "type": "barpolar"
           }
          ],
          "carpet": [
           {
            "aaxis": {
             "endlinecolor": "#2a3f5f",
             "gridcolor": "white",
             "linecolor": "white",
             "minorgridcolor": "white",
             "startlinecolor": "#2a3f5f"
            },
            "baxis": {
             "endlinecolor": "#2a3f5f",
             "gridcolor": "white",
             "linecolor": "white",
             "minorgridcolor": "white",
             "startlinecolor": "#2a3f5f"
            },
            "type": "carpet"
           }
          ],
          "choropleth": [
           {
            "colorbar": {
             "outlinewidth": 0,
             "ticks": ""
            },
            "type": "choropleth"
           }
          ],
          "contour": [
           {
            "colorbar": {
             "outlinewidth": 0,
             "ticks": ""
            },
            "colorscale": [
             [
              0,
              "#0d0887"
             ],
             [
              0.1111111111111111,
              "#46039f"
             ],
             [
              0.2222222222222222,
              "#7201a8"
             ],
             [
              0.3333333333333333,
              "#9c179e"
             ],
             [
              0.4444444444444444,
              "#bd3786"
             ],
             [
              0.5555555555555556,
              "#d8576b"
             ],
             [
              0.6666666666666666,
              "#ed7953"
             ],
             [
              0.7777777777777778,
              "#fb9f3a"
             ],
             [
              0.8888888888888888,
              "#fdca26"
             ],
             [
              1,
              "#f0f921"
             ]
            ],
            "type": "contour"
           }
          ],
          "contourcarpet": [
           {
            "colorbar": {
             "outlinewidth": 0,
             "ticks": ""
            },
            "type": "contourcarpet"
           }
          ],
          "heatmap": [
           {
            "colorbar": {
             "outlinewidth": 0,
             "ticks": ""
            },
            "colorscale": [
             [
              0,
              "#0d0887"
             ],
             [
              0.1111111111111111,
              "#46039f"
             ],
             [
              0.2222222222222222,
              "#7201a8"
             ],
             [
              0.3333333333333333,
              "#9c179e"
             ],
             [
              0.4444444444444444,
              "#bd3786"
             ],
             [
              0.5555555555555556,
              "#d8576b"
             ],
             [
              0.6666666666666666,
              "#ed7953"
             ],
             [
              0.7777777777777778,
              "#fb9f3a"
             ],
             [
              0.8888888888888888,
              "#fdca26"
             ],
             [
              1,
              "#f0f921"
             ]
            ],
            "type": "heatmap"
           }
          ],
          "heatmapgl": [
           {
            "colorbar": {
             "outlinewidth": 0,
             "ticks": ""
            },
            "colorscale": [
             [
              0,
              "#0d0887"
             ],
             [
              0.1111111111111111,
              "#46039f"
             ],
             [
              0.2222222222222222,
              "#7201a8"
             ],
             [
              0.3333333333333333,
              "#9c179e"
             ],
             [
              0.4444444444444444,
              "#bd3786"
             ],
             [
              0.5555555555555556,
              "#d8576b"
             ],
             [
              0.6666666666666666,
              "#ed7953"
             ],
             [
              0.7777777777777778,
              "#fb9f3a"
             ],
             [
              0.8888888888888888,
              "#fdca26"
             ],
             [
              1,
              "#f0f921"
             ]
            ],
            "type": "heatmapgl"
           }
          ],
          "histogram": [
           {
            "marker": {
             "pattern": {
              "fillmode": "overlay",
              "size": 10,
              "solidity": 0.2
             }
            },
            "type": "histogram"
           }
          ],
          "histogram2d": [
           {
            "colorbar": {
             "outlinewidth": 0,
             "ticks": ""
            },
            "colorscale": [
             [
              0,
              "#0d0887"
             ],
             [
              0.1111111111111111,
              "#46039f"
             ],
             [
              0.2222222222222222,
              "#7201a8"
             ],
             [
              0.3333333333333333,
              "#9c179e"
             ],
             [
              0.4444444444444444,
              "#bd3786"
             ],
             [
              0.5555555555555556,
              "#d8576b"
             ],
             [
              0.6666666666666666,
              "#ed7953"
             ],
             [
              0.7777777777777778,
              "#fb9f3a"
             ],
             [
              0.8888888888888888,
              "#fdca26"
             ],
             [
              1,
              "#f0f921"
             ]
            ],
            "type": "histogram2d"
           }
          ],
          "histogram2dcontour": [
           {
            "colorbar": {
             "outlinewidth": 0,
             "ticks": ""
            },
            "colorscale": [
             [
              0,
              "#0d0887"
             ],
             [
              0.1111111111111111,
              "#46039f"
             ],
             [
              0.2222222222222222,
              "#7201a8"
             ],
             [
              0.3333333333333333,
              "#9c179e"
             ],
             [
              0.4444444444444444,
              "#bd3786"
             ],
             [
              0.5555555555555556,
              "#d8576b"
             ],
             [
              0.6666666666666666,
              "#ed7953"
             ],
             [
              0.7777777777777778,
              "#fb9f3a"
             ],
             [
              0.8888888888888888,
              "#fdca26"
             ],
             [
              1,
              "#f0f921"
             ]
            ],
            "type": "histogram2dcontour"
           }
          ],
          "mesh3d": [
           {
            "colorbar": {
             "outlinewidth": 0,
             "ticks": ""
            },
            "type": "mesh3d"
           }
          ],
          "parcoords": [
           {
            "line": {
             "colorbar": {
              "outlinewidth": 0,
              "ticks": ""
             }
            },
            "type": "parcoords"
           }
          ],
          "pie": [
           {
            "automargin": true,
            "type": "pie"
           }
          ],
          "scatter": [
           {
            "fillpattern": {
             "fillmode": "overlay",
             "size": 10,
             "solidity": 0.2
            },
            "type": "scatter"
           }
          ],
          "scatter3d": [
           {
            "line": {
             "colorbar": {
              "outlinewidth": 0,
              "ticks": ""
             }
            },
            "marker": {
             "colorbar": {
              "outlinewidth": 0,
              "ticks": ""
             }
            },
            "type": "scatter3d"
           }
          ],
          "scattercarpet": [
           {
            "marker": {
             "colorbar": {
              "outlinewidth": 0,
              "ticks": ""
             }
            },
            "type": "scattercarpet"
           }
          ],
          "scattergeo": [
           {
            "marker": {
             "colorbar": {
              "outlinewidth": 0,
              "ticks": ""
             }
            },
            "type": "scattergeo"
           }
          ],
          "scattergl": [
           {
            "marker": {
             "colorbar": {
              "outlinewidth": 0,
              "ticks": ""
             }
            },
            "type": "scattergl"
           }
          ],
          "scattermapbox": [
           {
            "marker": {
             "colorbar": {
              "outlinewidth": 0,
              "ticks": ""
             }
            },
            "type": "scattermapbox"
           }
          ],
          "scatterpolar": [
           {
            "marker": {
             "colorbar": {
              "outlinewidth": 0,
              "ticks": ""
             }
            },
            "type": "scatterpolar"
           }
          ],
          "scatterpolargl": [
           {
            "marker": {
             "colorbar": {
              "outlinewidth": 0,
              "ticks": ""
             }
            },
            "type": "scatterpolargl"
           }
          ],
          "scatterternary": [
           {
            "marker": {
             "colorbar": {
              "outlinewidth": 0,
              "ticks": ""
             }
            },
            "type": "scatterternary"
           }
          ],
          "surface": [
           {
            "colorbar": {
             "outlinewidth": 0,
             "ticks": ""
            },
            "colorscale": [
             [
              0,
              "#0d0887"
             ],
             [
              0.1111111111111111,
              "#46039f"
             ],
             [
              0.2222222222222222,
              "#7201a8"
             ],
             [
              0.3333333333333333,
              "#9c179e"
             ],
             [
              0.4444444444444444,
              "#bd3786"
             ],
             [
              0.5555555555555556,
              "#d8576b"
             ],
             [
              0.6666666666666666,
              "#ed7953"
             ],
             [
              0.7777777777777778,
              "#fb9f3a"
             ],
             [
              0.8888888888888888,
              "#fdca26"
             ],
             [
              1,
              "#f0f921"
             ]
            ],
            "type": "surface"
           }
          ],
          "table": [
           {
            "cells": {
             "fill": {
              "color": "#EBF0F8"
             },
             "line": {
              "color": "white"
             }
            },
            "header": {
             "fill": {
              "color": "#C8D4E3"
             },
             "line": {
              "color": "white"
             }
            },
            "type": "table"
           }
          ]
         },
         "layout": {
          "annotationdefaults": {
           "arrowcolor": "#2a3f5f",
           "arrowhead": 0,
           "arrowwidth": 1
          },
          "autotypenumbers": "strict",
          "coloraxis": {
           "colorbar": {
            "outlinewidth": 0,
            "ticks": ""
           }
          },
          "colorscale": {
           "diverging": [
            [
             0,
             "#8e0152"
            ],
            [
             0.1,
             "#c51b7d"
            ],
            [
             0.2,
             "#de77ae"
            ],
            [
             0.3,
             "#f1b6da"
            ],
            [
             0.4,
             "#fde0ef"
            ],
            [
             0.5,
             "#f7f7f7"
            ],
            [
             0.6,
             "#e6f5d0"
            ],
            [
             0.7,
             "#b8e186"
            ],
            [
             0.8,
             "#7fbc41"
            ],
            [
             0.9,
             "#4d9221"
            ],
            [
             1,
             "#276419"
            ]
           ],
           "sequential": [
            [
             0,
             "#0d0887"
            ],
            [
             0.1111111111111111,
             "#46039f"
            ],
            [
             0.2222222222222222,
             "#7201a8"
            ],
            [
             0.3333333333333333,
             "#9c179e"
            ],
            [
             0.4444444444444444,
             "#bd3786"
            ],
            [
             0.5555555555555556,
             "#d8576b"
            ],
            [
             0.6666666666666666,
             "#ed7953"
            ],
            [
             0.7777777777777778,
             "#fb9f3a"
            ],
            [
             0.8888888888888888,
             "#fdca26"
            ],
            [
             1,
             "#f0f921"
            ]
           ],
           "sequentialminus": [
            [
             0,
             "#0d0887"
            ],
            [
             0.1111111111111111,
             "#46039f"
            ],
            [
             0.2222222222222222,
             "#7201a8"
            ],
            [
             0.3333333333333333,
             "#9c179e"
            ],
            [
             0.4444444444444444,
             "#bd3786"
            ],
            [
             0.5555555555555556,
             "#d8576b"
            ],
            [
             0.6666666666666666,
             "#ed7953"
            ],
            [
             0.7777777777777778,
             "#fb9f3a"
            ],
            [
             0.8888888888888888,
             "#fdca26"
            ],
            [
             1,
             "#f0f921"
            ]
           ]
          },
          "colorway": [
           "#636efa",
           "#EF553B",
           "#00cc96",
           "#ab63fa",
           "#FFA15A",
           "#19d3f3",
           "#FF6692",
           "#B6E880",
           "#FF97FF",
           "#FECB52"
          ],
          "font": {
           "color": "#2a3f5f"
          },
          "geo": {
           "bgcolor": "white",
           "lakecolor": "white",
           "landcolor": "#E5ECF6",
           "showlakes": true,
           "showland": true,
           "subunitcolor": "white"
          },
          "hoverlabel": {
           "align": "left"
          },
          "hovermode": "closest",
          "mapbox": {
           "style": "light"
          },
          "paper_bgcolor": "white",
          "plot_bgcolor": "#E5ECF6",
          "polar": {
           "angularaxis": {
            "gridcolor": "white",
            "linecolor": "white",
            "ticks": ""
           },
           "bgcolor": "#E5ECF6",
           "radialaxis": {
            "gridcolor": "white",
            "linecolor": "white",
            "ticks": ""
           }
          },
          "scene": {
           "xaxis": {
            "backgroundcolor": "#E5ECF6",
            "gridcolor": "white",
            "gridwidth": 2,
            "linecolor": "white",
            "showbackground": true,
            "ticks": "",
            "zerolinecolor": "white"
           },
           "yaxis": {
            "backgroundcolor": "#E5ECF6",
            "gridcolor": "white",
            "gridwidth": 2,
            "linecolor": "white",
            "showbackground": true,
            "ticks": "",
            "zerolinecolor": "white"
           },
           "zaxis": {
            "backgroundcolor": "#E5ECF6",
            "gridcolor": "white",
            "gridwidth": 2,
            "linecolor": "white",
            "showbackground": true,
            "ticks": "",
            "zerolinecolor": "white"
           }
          },
          "shapedefaults": {
           "line": {
            "color": "#2a3f5f"
           }
          },
          "ternary": {
           "aaxis": {
            "gridcolor": "white",
            "linecolor": "white",
            "ticks": ""
           },
           "baxis": {
            "gridcolor": "white",
            "linecolor": "white",
            "ticks": ""
           },
           "bgcolor": "#E5ECF6",
           "caxis": {
            "gridcolor": "white",
            "linecolor": "white",
            "ticks": ""
           }
          },
          "title": {
           "x": 0.05
          },
          "xaxis": {
           "automargin": true,
           "gridcolor": "white",
           "linecolor": "white",
           "ticks": "",
           "title": {
            "standoff": 15
           },
           "zerolinecolor": "white",
           "zerolinewidth": 2
          },
          "yaxis": {
           "automargin": true,
           "gridcolor": "white",
           "linecolor": "white",
           "ticks": "",
           "title": {
            "standoff": 15
           },
           "zerolinecolor": "white",
           "zerolinewidth": 2
          }
         }
        },
        "title": {
         "text": "Effect of Discount on Profit per Region"
        },
        "xaxis": {
         "anchor": "y",
         "domain": [
          0,
          1
         ],
         "title": {
          "text": "Discount (%)"
         }
        },
        "yaxis": {
         "anchor": "x",
         "domain": [
          0,
          1
         ],
         "title": {
          "text": "Average Profit"
         }
        }
       }
      }
     },
     "metadata": {},
     "output_type": "display_data"
    }
   ],
   "source": [
    "import plotly.express as px\n",
    "import pandas as pd\n",
    "\n",
    "def visualize_discount_effect(df):\n",
    "    \"\"\"\n",
    "    Visualizes the effect of Discount on Sales and Profit per region using Plotly.\n",
    "    \n",
    "    Parameters:\n",
    "    df (pd.DataFrame): The dataset with 'Discount', 'Region', 'Sales', and 'Profit'.\n",
    "    \"\"\"\n",
    "    # Group data by discount and region\n",
    "    discount_grouped = df.groupby(['Discount', 'Region'])[['Sales', 'Profit']].mean().reset_index()\n",
    "    \n",
    "    # Plot Sales effect\n",
    "    fig_sales = px.line(discount_grouped, x='Discount', y='Sales', color='Region',\n",
    "                         title='Effect of Discount on Sales per Region',\n",
    "                         markers=True, labels={'Sales': 'Average Sales', 'Discount': 'Discount (%)'})\n",
    "    \n",
    "    # Plot Profit effect\n",
    "    fig_profit = px.line(discount_grouped, x='Discount', y='Profit', color='Region',\n",
    "                          title='Effect of Discount on Profit per Region',\n",
    "                          markers=True, labels={'Profit': 'Average Profit', 'Discount': 'Discount (%)'})\n",
    "    \n",
    "    # Show plots\n",
    "    fig_sales.show()\n",
    "    fig_profit.show()\n",
    "\n",
    "# Example usage\n",
    "visualize_discount_effect(df)\n"
   ]
  },
  {
   "cell_type": "markdown",
   "metadata": {},
   "source": [
    "Analysis of if a discount is useful"
   ]
  },
  {
   "cell_type": "code",
   "execution_count": 165,
   "metadata": {},
   "outputs": [
    {
     "data": {
      "application/vnd.plotly.v1+json": {
       "config": {
        "plotlyServerURL": "https://plot.ly"
       },
       "data": [
        {
         "hovertemplate": "Region=South<br>Order Date=%{x}<br>Sales_Change_After_Discount=%{y}<extra></extra>",
         "legendgroup": "South",
         "line": {
          "color": "#636efa",
          "dash": "solid"
         },
         "marker": {
          "symbol": "circle"
         },
         "mode": "lines+markers",
         "name": "South",
         "showlegend": true,
         "type": "scattergl",
         "x": [
          "2014-01-06T00:00:00",
          "2014-01-10T00:00:00",
          "2014-01-13T00:00:00",
          "2014-01-20T00:00:00",
          "2014-01-20T00:00:00",
          "2014-01-21T00:00:00",
          "2014-01-26T00:00:00",
          "2014-01-26T00:00:00",
          "2014-02-11T00:00:00",
          "2014-03-14T00:00:00",
          "2014-03-15T00:00:00",
          "2014-03-18T00:00:00",
          "2014-03-18T00:00:00",
          "2014-03-19T00:00:00",
          "2014-03-19T00:00:00",
          "2014-03-21T00:00:00",
          "2014-03-21T00:00:00",
          "2014-03-31T00:00:00",
          "2014-04-02T00:00:00",
          "2014-04-07T00:00:00",
          "2014-04-08T00:00:00",
          "2014-04-29T00:00:00",
          "2014-04-29T00:00:00",
          "2014-05-14T00:00:00",
          "2014-06-01T00:00:00",
          "2014-06-08T00:00:00",
          "2014-06-09T00:00:00",
          "2014-06-21T00:00:00",
          "2014-06-27T00:00:00",
          "2014-07-05T00:00:00",
          "2014-07-05T00:00:00",
          "2014-07-26T00:00:00",
          "2014-07-26T00:00:00",
          "2014-07-28T00:00:00",
          "2014-08-01T00:00:00",
          "2014-08-08T00:00:00",
          "2014-08-19T00:00:00",
          "2014-08-20T00:00:00",
          "2014-08-27T00:00:00",
          "2014-08-27T00:00:00",
          "2014-08-29T00:00:00",
          "2014-09-05T00:00:00",
          "2014-09-14T00:00:00",
          "2014-09-14T00:00:00",
          "2014-09-28T00:00:00",
          "2014-10-11T00:00:00",
          "2014-10-15T00:00:00",
          "2014-10-18T00:00:00",
          "2014-10-18T00:00:00",
          "2014-10-20T00:00:00",
          "2014-10-21T00:00:00",
          "2014-10-22T00:00:00",
          "2014-11-03T00:00:00",
          "2014-11-03T00:00:00",
          "2014-11-05T00:00:00",
          "2014-11-24T00:00:00",
          "2014-11-28T00:00:00",
          "2014-12-14T00:00:00",
          "2014-12-16T00:00:00",
          "2014-12-16T00:00:00",
          "2014-12-19T00:00:00",
          "2014-12-20T00:00:00",
          "2014-12-20T00:00:00",
          "2014-12-20T00:00:00",
          "2014-12-23T00:00:00",
          "2015-01-04T00:00:00",
          "2015-01-28T00:00:00",
          "2015-02-28T00:00:00",
          "2015-02-28T00:00:00",
          "2015-03-12T00:00:00",
          "2015-03-12T00:00:00",
          "2015-03-29T00:00:00",
          "2015-04-11T00:00:00",
          "2015-04-11T00:00:00",
          "2015-04-16T00:00:00",
          "2015-04-16T00:00:00",
          "2015-04-20T00:00:00",
          "2015-04-21T00:00:00",
          "2015-04-21T00:00:00",
          "2015-04-26T00:00:00",
          "2015-04-26T00:00:00",
          "2015-04-26T00:00:00",
          "2015-05-01T00:00:00",
          "2015-05-20T00:00:00",
          "2015-06-08T00:00:00",
          "2015-06-11T00:00:00",
          "2015-06-11T00:00:00",
          "2015-06-11T00:00:00",
          "2015-06-18T00:00:00",
          "2015-06-18T00:00:00",
          "2015-06-23T00:00:00",
          "2015-06-26T00:00:00",
          "2015-07-02T00:00:00",
          "2015-07-03T00:00:00",
          "2015-07-05T00:00:00",
          "2015-07-05T00:00:00",
          "2015-07-17T00:00:00",
          "2015-07-24T00:00:00",
          "2015-07-25T00:00:00",
          "2015-08-11T00:00:00",
          "2015-09-05T00:00:00",
          "2015-09-06T00:00:00",
          "2015-09-08T00:00:00",
          "2015-09-13T00:00:00",
          "2015-09-15T00:00:00",
          "2015-09-15T00:00:00",
          "2015-09-15T00:00:00",
          "2015-09-15T00:00:00",
          "2015-09-19T00:00:00",
          "2015-09-21T00:00:00",
          "2015-09-22T00:00:00",
          "2015-09-24T00:00:00",
          "2015-10-04T00:00:00",
          "2015-10-11T00:00:00",
          "2015-10-13T00:00:00",
          "2015-10-28T00:00:00",
          "2015-10-28T00:00:00",
          "2015-11-01T00:00:00",
          "2015-11-05T00:00:00",
          "2015-11-08T00:00:00",
          "2015-11-08T00:00:00",
          "2015-11-12T00:00:00",
          "2015-11-12T00:00:00",
          "2015-11-15T00:00:00",
          "2015-11-20T00:00:00",
          "2015-11-21T00:00:00",
          "2015-11-26T00:00:00",
          "2015-11-27T00:00:00",
          "2015-11-30T00:00:00",
          "2015-11-30T00:00:00",
          "2015-12-03T00:00:00",
          "2015-12-05T00:00:00",
          "2015-12-07T00:00:00",
          "2015-12-14T00:00:00",
          "2015-12-18T00:00:00",
          "2015-12-25T00:00:00",
          "2015-12-27T00:00:00",
          "2015-12-27T00:00:00",
          "2016-01-14T00:00:00",
          "2016-01-22T00:00:00",
          "2016-01-22T00:00:00",
          "2016-02-02T00:00:00",
          "2016-02-03T00:00:00",
          "2016-02-05T00:00:00",
          "2016-02-05T00:00:00",
          "2016-02-06T00:00:00",
          "2016-02-16T00:00:00",
          "2016-03-08T00:00:00",
          "2016-03-11T00:00:00",
          "2016-03-13T00:00:00",
          "2016-03-18T00:00:00",
          "2016-03-20T00:00:00",
          "2016-03-27T00:00:00",
          "2016-03-27T00:00:00",
          "2016-04-01T00:00:00",
          "2016-04-08T00:00:00",
          "2016-04-08T00:00:00",
          "2016-04-12T00:00:00",
          "2016-04-17T00:00:00",
          "2016-04-17T00:00:00",
          "2016-05-01T00:00:00",
          "2016-05-02T00:00:00",
          "2016-05-05T00:00:00",
          "2016-05-14T00:00:00",
          "2016-05-19T00:00:00",
          "2016-05-25T00:00:00",
          "2016-05-28T00:00:00",
          "2016-05-29T00:00:00",
          "2016-05-30T00:00:00",
          "2016-06-30T00:00:00",
          "2016-07-14T00:00:00",
          "2016-07-18T00:00:00",
          "2016-07-19T00:00:00",
          "2016-07-19T00:00:00",
          "2016-07-21T00:00:00",
          "2016-07-25T00:00:00",
          "2016-08-04T00:00:00",
          "2016-08-12T00:00:00",
          "2016-08-15T00:00:00",
          "2016-08-26T00:00:00",
          "2016-09-02T00:00:00",
          "2016-09-04T00:00:00",
          "2016-09-05T00:00:00",
          "2016-09-12T00:00:00",
          "2016-09-16T00:00:00",
          "2016-09-18T00:00:00",
          "2016-09-18T00:00:00",
          "2016-09-20T00:00:00",
          "2016-09-20T00:00:00",
          "2016-09-22T00:00:00",
          "2016-09-23T00:00:00",
          "2016-10-04T00:00:00",
          "2016-10-14T00:00:00",
          "2016-10-20T00:00:00",
          "2016-10-21T00:00:00",
          "2016-10-22T00:00:00",
          "2016-10-27T00:00:00",
          "2016-10-28T00:00:00",
          "2016-10-28T00:00:00",
          "2016-10-28T00:00:00",
          "2016-11-03T00:00:00",
          "2016-11-03T00:00:00",
          "2016-11-04T00:00:00",
          "2016-11-04T00:00:00",
          "2016-11-05T00:00:00",
          "2016-11-05T00:00:00",
          "2016-11-06T00:00:00",
          "2016-11-06T00:00:00",
          "2016-11-08T00:00:00",
          "2016-11-08T00:00:00",
          "2016-11-15T00:00:00",
          "2016-11-20T00:00:00",
          "2016-11-24T00:00:00",
          "2016-11-27T00:00:00",
          "2016-11-28T00:00:00",
          "2016-12-05T00:00:00",
          "2016-12-09T00:00:00",
          "2016-12-09T00:00:00",
          "2016-12-14T00:00:00",
          "2016-12-20T00:00:00",
          "2016-12-23T00:00:00",
          "2016-12-23T00:00:00",
          "2016-12-25T00:00:00",
          "2017-01-26T00:00:00",
          "2017-01-30T00:00:00",
          "2017-02-06T00:00:00",
          "2017-02-25T00:00:00",
          "2017-02-25T00:00:00",
          "2017-03-27T00:00:00",
          "2017-03-31T00:00:00",
          "2017-04-01T00:00:00",
          "2017-04-01T00:00:00",
          "2017-04-02T00:00:00",
          "2017-04-07T00:00:00",
          "2017-04-07T00:00:00",
          "2017-04-07T00:00:00",
          "2017-04-08T00:00:00",
          "2017-04-10T00:00:00",
          "2017-04-14T00:00:00",
          "2017-04-23T00:00:00",
          "2017-04-23T00:00:00",
          "2017-04-30T00:00:00",
          "2017-04-30T00:00:00",
          "2017-05-01T00:00:00",
          "2017-05-01T00:00:00",
          "2017-05-01T00:00:00",
          "2017-05-09T00:00:00",
          "2017-05-18T00:00:00",
          "2017-05-19T00:00:00",
          "2017-05-19T00:00:00",
          "2017-05-28T00:00:00",
          "2017-05-30T00:00:00",
          "2017-05-30T00:00:00",
          "2017-06-03T00:00:00",
          "2017-06-03T00:00:00",
          "2017-06-04T00:00:00",
          "2017-06-12T00:00:00",
          "2017-06-12T00:00:00",
          "2017-06-15T00:00:00",
          "2017-06-15T00:00:00",
          "2017-06-15T00:00:00",
          "2017-06-15T00:00:00",
          "2017-06-16T00:00:00",
          "2017-06-26T00:00:00",
          "2017-06-30T00:00:00",
          "2017-07-03T00:00:00",
          "2017-07-06T00:00:00",
          "2017-07-10T00:00:00",
          "2017-07-15T00:00:00",
          "2017-07-16T00:00:00",
          "2017-07-17T00:00:00",
          "2017-07-21T00:00:00",
          "2017-07-21T00:00:00",
          "2017-07-27T00:00:00",
          "2017-07-27T00:00:00",
          "2017-08-06T00:00:00",
          "2017-08-06T00:00:00",
          "2017-08-13T00:00:00",
          "2017-08-13T00:00:00",
          "2017-08-21T00:00:00",
          "2017-08-23T00:00:00",
          "2017-09-04T00:00:00",
          "2017-09-09T00:00:00",
          "2017-09-11T00:00:00",
          "2017-09-17T00:00:00",
          "2017-09-18T00:00:00",
          "2017-09-26T00:00:00",
          "2017-10-02T00:00:00",
          "2017-10-02T00:00:00",
          "2017-10-02T00:00:00",
          "2017-10-02T00:00:00",
          "2017-10-02T00:00:00",
          "2017-10-07T00:00:00",
          "2017-10-13T00:00:00",
          "2017-10-16T00:00:00",
          "2017-10-20T00:00:00",
          "2017-10-21T00:00:00",
          "2017-10-21T00:00:00",
          "2017-10-26T00:00:00",
          "2017-10-28T00:00:00",
          "2017-10-30T00:00:00",
          "2017-11-02T00:00:00",
          "2017-11-03T00:00:00",
          "2017-11-04T00:00:00",
          "2017-11-06T00:00:00",
          "2017-11-11T00:00:00",
          "2017-11-15T00:00:00",
          "2017-11-15T00:00:00",
          "2017-11-19T00:00:00",
          "2017-11-20T00:00:00",
          "2017-11-20T00:00:00",
          "2017-11-25T00:00:00",
          "2017-11-25T00:00:00",
          "2017-11-29T00:00:00",
          "2017-11-29T00:00:00",
          "2017-11-30T00:00:00",
          "2017-12-02T00:00:00",
          "2017-12-07T00:00:00",
          "2017-12-10T00:00:00",
          "2017-12-10T00:00:00",
          "2017-12-11T00:00:00",
          "2017-12-11T00:00:00",
          "2017-12-17T00:00:00",
          "2017-12-22T00:00:00",
          "2017-12-22T00:00:00",
          "2017-12-23T00:00:00",
          "2017-12-24T00:00:00",
          "2017-12-25T00:00:00",
          "2017-12-25T00:00:00",
          "2017-12-29T00:00:00",
          "2017-12-29T00:00:00",
          "2017-12-29T00:00:00"
         ],
         "xaxis": "x",
         "y": [
          null,
          null,
          null,
          null,
          null,
          null,
          null,
          null,
          null,
          null,
          null,
          null,
          null,
          -0.5555185630161094,
          null,
          null,
          null,
          null,
          null,
          null,
          null,
          null,
          null,
          null,
          null,
          null,
          null,
          null,
          null,
          null,
          null,
          null,
          null,
          null,
          null,
          null,
          null,
          null,
          null,
          null,
          null,
          null,
          -0.26221477912241353,
          0.04891506720954089,
          null,
          null,
          null,
          null,
          null,
          null,
          null,
          null,
          -0.0738144414202059,
          -0.31764874060096643,
          null,
          -0.17291792934648026,
          -0.16647366775714717,
          -0.861349298452666,
          0.10361746998197212,
          -0.12948728557057068,
          null,
          null,
          null,
          null,
          null,
          null,
          null,
          null,
          null,
          null,
          null,
          null,
          null,
          null,
          null,
          null,
          null,
          null,
          null,
          null,
          null,
          null,
          null,
          null,
          null,
          null,
          null,
          null,
          null,
          null,
          null,
          null,
          null,
          null,
          null,
          null,
          null,
          null,
          null,
          null,
          null,
          null,
          null,
          null,
          -0.09779756712243139,
          -0.33962452811494115,
          1.1058727984748473,
          null,
          -0.003359078205374659,
          null,
          null,
          null,
          null,
          null,
          null,
          null,
          null,
          null,
          null,
          null,
          1.9317988591239745,
          null,
          null,
          0.056074812917883264,
          null,
          -0.10352395062253131,
          null,
          null,
          -0.014400472749313779,
          0.08727937632056303,
          null,
          -0.30605228055794104,
          0.40743263448184164,
          null,
          null,
          0.02758933326291406,
          -0.16170537669660132,
          null,
          null,
          null,
          null,
          null,
          null,
          null,
          null,
          null,
          null,
          null,
          null,
          -0.1698524978481448,
          null,
          null,
          null,
          null,
          null,
          null,
          null,
          null,
          null,
          null,
          null,
          null,
          null,
          null,
          null,
          null,
          0.0011686125674098434,
          0.0715020900006385,
          -0.25190448408068006,
          null,
          null,
          0.038278897314557546,
          0.24813068365771487,
          null,
          null,
          null,
          null,
          null,
          null,
          null,
          null,
          -0.4355105771589431,
          1.9981655016336557,
          null,
          null,
          -0.3417048648715043,
          -0.03235524761517157,
          -0.14501968121013675,
          -0.17835176450585388,
          null,
          null,
          null,
          null,
          null,
          -0.01651137447544902,
          -0.5302505330490401,
          null,
          null,
          null,
          null,
          null,
          null,
          0.025531285822992522,
          -0.17973701432719708,
          0.035386400817327655,
          -0.015642294395496033,
          -0.4799138040852691,
          -0.38800146412661574,
          0.3027540575897413,
          null,
          null,
          -0.07208833420998097,
          0.8790532699221768,
          -0.2162651314130879,
          -0.19135770362682078,
          -0.12871341732437858,
          null,
          null,
          -0.07305061509023827,
          null,
          null,
          null,
          0.5864501923212518,
          null,
          null,
          null,
          null,
          null,
          0.3675880696068217,
          null,
          null,
          null,
          0.17576175320086565,
          null,
          null,
          null,
          null,
          null,
          null,
          0.19869271664301988,
          -0.5389528832599212,
          null,
          null,
          null,
          null,
          null,
          -0.0770115456054465,
          null,
          null,
          null,
          null,
          -0.3436379974591233,
          -0.4100644232535031,
          null,
          null,
          null,
          null,
          -0.04431690959610642,
          null,
          null,
          null,
          null,
          null,
          null,
          0.05142699085084806,
          null,
          null,
          null,
          null,
          -0.017337385897185142,
          -0.14310211085469887,
          null,
          null,
          null,
          null,
          null,
          null,
          null,
          null,
          null,
          null,
          null,
          0.011082222410954173,
          1.6383810209515586,
          0.888250641244399,
          -0.12080141166737816,
          -0.12476623125371691,
          null,
          null,
          null,
          null,
          -0.10799000273362741,
          0.045323760847183335,
          null,
          null,
          null,
          0.7475930878635497,
          0.17007585545374918,
          null,
          null,
          null,
          null,
          null,
          0.1981486051170188,
          -0.6489192278672439,
          -0.07975606394824354,
          0.09939820079860388,
          0.09949759868829511,
          0.7485230509832113,
          -0.03922776275330641,
          -0.049897652235216215,
          0.6480009659858079,
          -0.1281807888429872,
          0.09018311421145757,
          0.15963623650151873,
          -0.21523656557957188,
          0.32880222048252783,
          null,
          -0.04641670407641335,
          -0.19862601185642206,
          0.41723235641834766,
          null,
          0.28659193227538526,
          null,
          -0.15334373085981653,
          -0.198610143654287,
          -0.6095964735714645,
          0.16456295109245328,
          null,
          1.1283817956877962,
          0.23130521588275776,
          0.21274688114061166
         ],
         "yaxis": "y"
        },
        {
         "hovertemplate": "Region=Central<br>Order Date=%{x}<br>Sales_Change_After_Discount=%{y}<extra></extra>",
         "legendgroup": "Central",
         "line": {
          "color": "#EF553B",
          "dash": "solid"
         },
         "marker": {
          "symbol": "circle"
         },
         "mode": "lines+markers",
         "name": "Central",
         "showlegend": true,
         "type": "scattergl",
         "x": [
          "2014-01-07T00:00:00",
          "2014-01-20T00:00:00",
          "2014-01-20T00:00:00",
          "2014-01-26T00:00:00",
          "2014-02-11T00:00:00",
          "2014-02-11T00:00:00",
          "2014-02-18T00:00:00",
          "2014-02-20T00:00:00",
          "2014-03-01T00:00:00",
          "2014-03-01T00:00:00",
          "2014-03-01T00:00:00",
          "2014-03-01T00:00:00",
          "2014-03-28T00:00:00",
          "2014-03-29T00:00:00",
          "2014-03-30T00:00:00",
          "2014-04-04T00:00:00",
          "2014-04-18T00:00:00",
          "2014-04-20T00:00:00",
          "2014-04-20T00:00:00",
          "2014-05-05T00:00:00",
          "2014-05-11T00:00:00",
          "2014-05-11T00:00:00",
          "2014-05-12T00:00:00",
          "2014-05-20T00:00:00",
          "2014-05-21T00:00:00",
          "2014-05-25T00:00:00",
          "2014-05-26T00:00:00",
          "2014-05-30T00:00:00",
          "2014-06-01T00:00:00",
          "2014-06-03T00:00:00",
          "2014-06-07T00:00:00",
          "2014-06-14T00:00:00",
          "2014-06-15T00:00:00",
          "2014-06-15T00:00:00",
          "2014-06-16T00:00:00",
          "2014-06-20T00:00:00",
          "2014-07-12T00:00:00",
          "2014-07-20T00:00:00",
          "2014-07-20T00:00:00",
          "2014-07-21T00:00:00",
          "2014-07-26T00:00:00",
          "2014-08-05T00:00:00",
          "2014-08-08T00:00:00",
          "2014-08-20T00:00:00",
          "2014-09-07T00:00:00",
          "2014-09-07T00:00:00",
          "2014-09-07T00:00:00",
          "2014-09-07T00:00:00",
          "2014-09-07T00:00:00",
          "2014-09-08T00:00:00",
          "2014-09-08T00:00:00",
          "2014-09-12T00:00:00",
          "2014-09-13T00:00:00",
          "2014-09-14T00:00:00",
          "2014-09-20T00:00:00",
          "2014-09-20T00:00:00",
          "2014-09-21T00:00:00",
          "2014-09-25T00:00:00",
          "2014-10-03T00:00:00",
          "2014-10-03T00:00:00",
          "2014-10-17T00:00:00",
          "2014-11-07T00:00:00",
          "2014-11-10T00:00:00",
          "2014-11-11T00:00:00",
          "2014-11-11T00:00:00",
          "2014-11-12T00:00:00",
          "2014-11-12T00:00:00",
          "2014-11-16T00:00:00",
          "2014-11-17T00:00:00",
          "2014-11-18T00:00:00",
          "2014-11-18T00:00:00",
          "2014-11-18T00:00:00",
          "2014-11-18T00:00:00",
          "2014-11-23T00:00:00",
          "2014-11-23T00:00:00",
          "2014-11-25T00:00:00",
          "2014-11-25T00:00:00",
          "2014-11-26T00:00:00",
          "2014-12-01T00:00:00",
          "2014-12-01T00:00:00",
          "2014-12-02T00:00:00",
          "2014-12-02T00:00:00",
          "2014-12-06T00:00:00",
          "2014-12-06T00:00:00",
          "2014-12-06T00:00:00",
          "2014-12-13T00:00:00",
          "2014-12-15T00:00:00",
          "2014-12-15T00:00:00",
          "2014-12-16T00:00:00",
          "2014-12-16T00:00:00",
          "2014-12-26T00:00:00",
          "2014-12-27T00:00:00",
          "2014-12-29T00:00:00",
          "2014-12-29T00:00:00",
          "2015-01-03T00:00:00",
          "2015-01-17T00:00:00",
          "2015-01-19T00:00:00",
          "2015-01-19T00:00:00",
          "2015-01-31T00:00:00",
          "2015-02-03T00:00:00",
          "2015-02-09T00:00:00",
          "2015-03-01T00:00:00",
          "2015-03-05T00:00:00",
          "2015-03-08T00:00:00",
          "2015-03-08T00:00:00",
          "2015-03-08T00:00:00",
          "2015-03-19T00:00:00",
          "2015-03-23T00:00:00",
          "2015-03-24T00:00:00",
          "2015-03-30T00:00:00",
          "2015-03-31T00:00:00",
          "2015-04-13T00:00:00",
          "2015-04-13T00:00:00",
          "2015-04-18T00:00:00",
          "2015-04-18T00:00:00",
          "2015-04-18T00:00:00",
          "2015-04-25T00:00:00",
          "2015-04-26T00:00:00",
          "2015-04-30T00:00:00",
          "2015-05-04T00:00:00",
          "2015-05-07T00:00:00",
          "2015-05-08T00:00:00",
          "2015-05-12T00:00:00",
          "2015-05-23T00:00:00",
          "2015-05-24T00:00:00",
          "2015-05-26T00:00:00",
          "2015-05-26T00:00:00",
          "2015-05-31T00:00:00",
          "2015-05-31T00:00:00",
          "2015-06-16T00:00:00",
          "2015-06-22T00:00:00",
          "2015-06-25T00:00:00",
          "2015-07-02T00:00:00",
          "2015-07-02T00:00:00",
          "2015-07-12T00:00:00",
          "2015-07-12T00:00:00",
          "2015-07-20T00:00:00",
          "2015-07-20T00:00:00",
          "2015-07-30T00:00:00",
          "2015-08-05T00:00:00",
          "2015-08-06T00:00:00",
          "2015-08-07T00:00:00",
          "2015-08-09T00:00:00",
          "2015-08-09T00:00:00",
          "2015-08-24T00:00:00",
          "2015-08-25T00:00:00",
          "2015-08-25T00:00:00",
          "2015-08-28T00:00:00",
          "2015-09-05T00:00:00",
          "2015-09-07T00:00:00",
          "2015-09-10T00:00:00",
          "2015-09-13T00:00:00",
          "2015-09-13T00:00:00",
          "2015-09-17T00:00:00",
          "2015-09-21T00:00:00",
          "2015-09-21T00:00:00",
          "2015-09-24T00:00:00",
          "2015-09-27T00:00:00",
          "2015-10-08T00:00:00",
          "2015-10-09T00:00:00",
          "2015-10-15T00:00:00",
          "2015-10-15T00:00:00",
          "2015-10-15T00:00:00",
          "2015-10-24T00:00:00",
          "2015-11-07T00:00:00",
          "2015-11-09T00:00:00",
          "2015-11-10T00:00:00",
          "2015-11-13T00:00:00",
          "2015-11-13T00:00:00",
          "2015-11-16T00:00:00",
          "2015-11-16T00:00:00",
          "2015-11-16T00:00:00",
          "2015-11-16T00:00:00",
          "2015-11-17T00:00:00",
          "2015-11-21T00:00:00",
          "2015-11-22T00:00:00",
          "2015-11-28T00:00:00",
          "2015-11-28T00:00:00",
          "2015-11-29T00:00:00",
          "2015-11-29T00:00:00",
          "2015-12-01T00:00:00",
          "2015-12-10T00:00:00",
          "2015-12-10T00:00:00",
          "2015-12-17T00:00:00",
          "2015-12-17T00:00:00",
          "2015-12-17T00:00:00",
          "2015-12-17T00:00:00",
          "2015-12-17T00:00:00",
          "2015-12-20T00:00:00",
          "2015-12-21T00:00:00",
          "2015-12-24T00:00:00",
          "2015-12-25T00:00:00",
          "2015-12-26T00:00:00",
          "2015-12-27T00:00:00",
          "2015-12-27T00:00:00",
          "2015-12-31T00:00:00",
          "2016-01-03T00:00:00",
          "2016-01-07T00:00:00",
          "2016-01-08T00:00:00",
          "2016-01-30T00:00:00",
          "2016-02-02T00:00:00",
          "2016-02-08T00:00:00",
          "2016-02-16T00:00:00",
          "2016-02-27T00:00:00",
          "2016-03-03T00:00:00",
          "2016-03-03T00:00:00",
          "2016-03-06T00:00:00",
          "2016-03-06T00:00:00",
          "2016-03-13T00:00:00",
          "2016-03-14T00:00:00",
          "2016-03-14T00:00:00",
          "2016-03-15T00:00:00",
          "2016-03-20T00:00:00",
          "2016-03-21T00:00:00",
          "2016-03-21T00:00:00",
          "2016-03-29T00:00:00",
          "2016-04-02T00:00:00",
          "2016-04-03T00:00:00",
          "2016-04-08T00:00:00",
          "2016-04-18T00:00:00",
          "2016-04-18T00:00:00",
          "2016-04-22T00:00:00",
          "2016-04-28T00:00:00",
          "2016-04-30T00:00:00",
          "2016-05-02T00:00:00",
          "2016-05-17T00:00:00",
          "2016-05-26T00:00:00",
          "2016-05-26T00:00:00",
          "2016-05-27T00:00:00",
          "2016-05-27T00:00:00",
          "2016-05-27T00:00:00",
          "2016-05-30T00:00:00",
          "2016-05-31T00:00:00",
          "2016-05-31T00:00:00",
          "2016-06-04T00:00:00",
          "2016-06-04T00:00:00",
          "2016-06-04T00:00:00",
          "2016-06-04T00:00:00",
          "2016-06-09T00:00:00",
          "2016-06-11T00:00:00",
          "2016-06-12T00:00:00",
          "2016-06-12T00:00:00",
          "2016-06-20T00:00:00",
          "2016-06-25T00:00:00",
          "2016-06-25T00:00:00",
          "2016-06-27T00:00:00",
          "2016-07-02T00:00:00",
          "2016-07-07T00:00:00",
          "2016-07-07T00:00:00",
          "2016-07-16T00:00:00",
          "2016-07-25T00:00:00",
          "2016-07-25T00:00:00",
          "2016-07-28T00:00:00",
          "2016-07-28T00:00:00",
          "2016-07-31T00:00:00",
          "2016-08-13T00:00:00",
          "2016-08-18T00:00:00",
          "2016-08-18T00:00:00",
          "2016-08-23T00:00:00",
          "2016-08-26T00:00:00",
          "2016-08-26T00:00:00",
          "2016-08-28T00:00:00",
          "2016-09-02T00:00:00",
          "2016-09-03T00:00:00",
          "2016-09-03T00:00:00",
          "2016-09-05T00:00:00",
          "2016-09-05T00:00:00",
          "2016-09-05T00:00:00",
          "2016-09-05T00:00:00",
          "2016-09-08T00:00:00",
          "2016-09-08T00:00:00",
          "2016-09-08T00:00:00",
          "2016-09-09T00:00:00",
          "2016-09-10T00:00:00",
          "2016-09-13T00:00:00",
          "2016-09-19T00:00:00",
          "2016-09-22T00:00:00",
          "2016-09-24T00:00:00",
          "2016-09-25T00:00:00",
          "2016-09-25T00:00:00",
          "2016-09-26T00:00:00",
          "2016-09-26T00:00:00",
          "2016-09-27T00:00:00",
          "2016-10-01T00:00:00",
          "2016-10-03T00:00:00",
          "2016-10-08T00:00:00",
          "2016-10-10T00:00:00",
          "2016-10-13T00:00:00",
          "2016-10-20T00:00:00",
          "2016-10-22T00:00:00",
          "2016-10-23T00:00:00",
          "2016-10-29T00:00:00",
          "2016-10-31T00:00:00",
          "2016-11-04T00:00:00",
          "2016-11-04T00:00:00",
          "2016-11-05T00:00:00",
          "2016-11-05T00:00:00",
          "2016-11-07T00:00:00",
          "2016-11-10T00:00:00",
          "2016-11-10T00:00:00",
          "2016-11-11T00:00:00",
          "2016-11-11T00:00:00",
          "2016-11-12T00:00:00",
          "2016-11-13T00:00:00",
          "2016-11-18T00:00:00",
          "2016-11-18T00:00:00",
          "2016-11-19T00:00:00",
          "2016-11-20T00:00:00",
          "2016-11-20T00:00:00",
          "2016-11-25T00:00:00",
          "2016-11-29T00:00:00",
          "2016-11-30T00:00:00",
          "2016-12-01T00:00:00",
          "2016-12-01T00:00:00",
          "2016-12-01T00:00:00",
          "2016-12-02T00:00:00",
          "2016-12-03T00:00:00",
          "2016-12-03T00:00:00",
          "2016-12-05T00:00:00",
          "2016-12-08T00:00:00",
          "2016-12-08T00:00:00",
          "2016-12-08T00:00:00",
          "2016-12-10T00:00:00",
          "2016-12-12T00:00:00",
          "2016-12-15T00:00:00",
          "2016-12-18T00:00:00",
          "2016-12-18T00:00:00",
          "2016-12-23T00:00:00",
          "2016-12-23T00:00:00",
          "2016-12-27T00:00:00",
          "2016-12-29T00:00:00",
          "2016-12-29T00:00:00",
          "2017-01-01T00:00:00",
          "2017-01-01T00:00:00",
          "2017-01-02T00:00:00",
          "2017-01-13T00:00:00",
          "2017-01-14T00:00:00",
          "2017-01-16T00:00:00",
          "2017-01-23T00:00:00",
          "2017-01-29T00:00:00",
          "2017-01-30T00:00:00",
          "2017-01-30T00:00:00",
          "2017-02-03T00:00:00",
          "2017-02-09T00:00:00",
          "2017-02-16T00:00:00",
          "2017-02-16T00:00:00",
          "2017-02-17T00:00:00",
          "2017-02-17T00:00:00",
          "2017-03-03T00:00:00",
          "2017-03-04T00:00:00",
          "2017-03-10T00:00:00",
          "2017-03-13T00:00:00",
          "2017-03-18T00:00:00",
          "2017-03-20T00:00:00",
          "2017-03-21T00:00:00",
          "2017-03-25T00:00:00",
          "2017-03-25T00:00:00",
          "2017-03-25T00:00:00",
          "2017-03-26T00:00:00",
          "2017-03-27T00:00:00",
          "2017-03-27T00:00:00",
          "2017-03-27T00:00:00",
          "2017-03-31T00:00:00",
          "2017-04-08T00:00:00",
          "2017-04-08T00:00:00",
          "2017-04-20T00:00:00",
          "2017-04-20T00:00:00",
          "2017-04-20T00:00:00",
          "2017-04-26T00:00:00",
          "2017-04-27T00:00:00",
          "2017-05-06T00:00:00",
          "2017-05-07T00:00:00",
          "2017-05-07T00:00:00",
          "2017-05-07T00:00:00",
          "2017-05-11T00:00:00",
          "2017-05-14T00:00:00",
          "2017-05-18T00:00:00",
          "2017-05-18T00:00:00",
          "2017-05-22T00:00:00",
          "2017-05-27T00:00:00",
          "2017-05-28T00:00:00",
          "2017-05-29T00:00:00",
          "2017-05-29T00:00:00",
          "2017-05-30T00:00:00",
          "2017-06-01T00:00:00",
          "2017-06-04T00:00:00",
          "2017-06-09T00:00:00",
          "2017-06-09T00:00:00",
          "2017-06-12T00:00:00",
          "2017-06-13T00:00:00",
          "2017-06-19T00:00:00",
          "2017-06-22T00:00:00",
          "2017-06-26T00:00:00",
          "2017-06-29T00:00:00",
          "2017-06-29T00:00:00",
          "2017-06-30T00:00:00",
          "2017-06-30T00:00:00",
          "2017-07-05T00:00:00",
          "2017-07-09T00:00:00",
          "2017-07-20T00:00:00",
          "2017-07-20T00:00:00",
          "2017-07-21T00:00:00",
          "2017-07-22T00:00:00",
          "2017-07-25T00:00:00",
          "2017-07-29T00:00:00",
          "2017-08-03T00:00:00",
          "2017-08-10T00:00:00",
          "2017-08-17T00:00:00",
          "2017-08-17T00:00:00",
          "2017-08-26T00:00:00",
          "2017-09-01T00:00:00",
          "2017-09-03T00:00:00",
          "2017-09-04T00:00:00",
          "2017-09-07T00:00:00",
          "2017-09-08T00:00:00",
          "2017-09-08T00:00:00",
          "2017-09-08T00:00:00",
          "2017-09-11T00:00:00",
          "2017-09-17T00:00:00",
          "2017-09-22T00:00:00",
          "2017-09-24T00:00:00",
          "2017-09-24T00:00:00",
          "2017-09-25T00:00:00",
          "2017-10-02T00:00:00",
          "2017-10-09T00:00:00",
          "2017-10-09T00:00:00",
          "2017-10-09T00:00:00",
          "2017-10-10T00:00:00",
          "2017-10-12T00:00:00",
          "2017-10-13T00:00:00",
          "2017-10-19T00:00:00",
          "2017-10-19T00:00:00",
          "2017-10-21T00:00:00",
          "2017-10-22T00:00:00",
          "2017-10-24T00:00:00",
          "2017-10-30T00:00:00",
          "2017-10-30T00:00:00",
          "2017-11-06T00:00:00",
          "2017-11-10T00:00:00",
          "2017-11-12T00:00:00",
          "2017-11-13T00:00:00",
          "2017-11-17T00:00:00",
          "2017-11-18T00:00:00",
          "2017-11-18T00:00:00",
          "2017-11-18T00:00:00",
          "2017-11-19T00:00:00",
          "2017-11-19T00:00:00",
          "2017-11-19T00:00:00",
          "2017-11-19T00:00:00",
          "2017-11-19T00:00:00",
          "2017-11-19T00:00:00",
          "2017-11-23T00:00:00",
          "2017-11-23T00:00:00",
          "2017-11-23T00:00:00",
          "2017-11-25T00:00:00",
          "2017-11-26T00:00:00",
          "2017-11-26T00:00:00",
          "2017-11-26T00:00:00",
          "2017-11-26T00:00:00",
          "2017-11-27T00:00:00",
          "2017-12-01T00:00:00",
          "2017-12-02T00:00:00",
          "2017-12-03T00:00:00",
          "2017-12-08T00:00:00",
          "2017-12-09T00:00:00",
          "2017-12-09T00:00:00",
          "2017-12-11T00:00:00",
          "2017-12-11T00:00:00",
          "2017-12-14T00:00:00",
          "2017-12-14T00:00:00",
          "2017-12-14T00:00:00",
          "2017-12-14T00:00:00",
          "2017-12-18T00:00:00",
          "2017-12-21T00:00:00",
          "2017-12-22T00:00:00",
          "2017-12-22T00:00:00",
          "2017-12-22T00:00:00",
          "2017-12-28T00:00:00",
          "2017-12-28T00:00:00",
          "2017-12-28T00:00:00",
          "2017-12-28T00:00:00"
         ],
         "xaxis": "x",
         "y": [
          null,
          null,
          null,
          null,
          null,
          null,
          null,
          null,
          null,
          null,
          null,
          null,
          null,
          null,
          null,
          null,
          null,
          null,
          null,
          null,
          null,
          null,
          null,
          null,
          null,
          null,
          null,
          null,
          null,
          null,
          null,
          null,
          null,
          null,
          null,
          null,
          null,
          null,
          null,
          0.4277503594733287,
          null,
          null,
          null,
          null,
          null,
          null,
          null,
          null,
          1.1239836286202805,
          1.4983048415774112,
          0.05922558312567445,
          0.9864209245055695,
          0.04782948606882771,
          -0.7733277110853425,
          null,
          null,
          -0.1861773200595761,
          null,
          null,
          null,
          null,
          null,
          null,
          0.3729315098180999,
          0.42836106674001123,
          -0.23086449560227623,
          null,
          null,
          null,
          -0.08391584627451858,
          -0.029756580252101362,
          0.006553754911163046,
          -0.7388639481477166,
          null,
          null,
          0.759051659967247,
          -0.09389801106572138,
          0.03486575008584903,
          null,
          null,
          0.012353621249834822,
          -0.3155276414118833,
          null,
          null,
          null,
          null,
          1.2512273983363493,
          0.27313455388339597,
          0.2738292137645296,
          null,
          null,
          null,
          null,
          null,
          null,
          null,
          null,
          null,
          null,
          null,
          null,
          null,
          null,
          null,
          null,
          null,
          null,
          null,
          null,
          null,
          null,
          null,
          null,
          null,
          null,
          null,
          null,
          null,
          null,
          null,
          null,
          null,
          null,
          null,
          null,
          null,
          null,
          null,
          null,
          null,
          null,
          null,
          null,
          null,
          null,
          null,
          null,
          null,
          null,
          null,
          null,
          null,
          null,
          0.06456936431207426,
          null,
          null,
          null,
          null,
          null,
          -0.4740203957943551,
          null,
          null,
          null,
          null,
          null,
          null,
          null,
          null,
          null,
          null,
          null,
          null,
          null,
          null,
          null,
          0.1733840650274403,
          null,
          null,
          null,
          -0.10738109908183477,
          -0.15836307431747082,
          0.2552606347430569,
          -0.3439368664362568,
          null,
          0.8088823939272732,
          null,
          null,
          -0.29375230043373757,
          0.8315319531953189,
          0.9680696366057971,
          0.6309857852411573,
          null,
          null,
          null,
          null,
          null,
          null,
          null,
          -0.03099184779093493,
          0.06649639254682653,
          null,
          null,
          -0.03618102874208807,
          0.10601856612557839,
          0.4592723434940416,
          null,
          null,
          null,
          null,
          null,
          null,
          null,
          null,
          null,
          null,
          null,
          null,
          null,
          0.12279429825603956,
          -0.18854566813295717,
          0.4378991310678331,
          null,
          null,
          -0.2599550031034021,
          0.003158713551154544,
          null,
          null,
          null,
          null,
          -0.3013736637011355,
          -0.6228744819923032,
          null,
          null,
          null,
          null,
          null,
          null,
          null,
          null,
          null,
          -0.0038994947158665547,
          -0.4703389445724597,
          -0.046267483613382045,
          null,
          null,
          null,
          null,
          null,
          null,
          null,
          null,
          null,
          null,
          null,
          null,
          null,
          null,
          null,
          null,
          null,
          null,
          null,
          null,
          null,
          null,
          null,
          null,
          null,
          null,
          null,
          null,
          null,
          null,
          0.11816251332454819,
          -0.23714686386485712,
          -0.13540503643527496,
          0.858658788074674,
          2.6037775986720826,
          -0.01128085815887326,
          null,
          null,
          null,
          null,
          null,
          null,
          0.4293581424483175,
          null,
          -0.15540320044180664,
          -0.046069262927575655,
          0.214720698775557,
          0.20784801686878185,
          0.29191302008431974,
          null,
          null,
          null,
          null,
          null,
          null,
          null,
          -0.15315587672633335,
          null,
          null,
          null,
          -0.25103436840304993,
          0.3507997515295045,
          0.93269704234832,
          0.12027112563811979,
          -0.18099086135755052,
          null,
          null,
          null,
          3.3184672456683932,
          -0.06379340450256801,
          -0.5998478105296637,
          null,
          null,
          null,
          null,
          null,
          0.696485668086632,
          -0.5928438878515437,
          -0.6695327775912326,
          -0.1935164083663729,
          -0.1322222554681188,
          -0.23694350222887287,
          0.912324479556001,
          0.28918726238172127,
          0.0845170040657122,
          0.8029100971290472,
          null,
          null,
          null,
          -0.04159008635372501,
          -0.26309749977873237,
          0.5675513032649467,
          -0.052232051248285415,
          -0.02884170712626457,
          null,
          0.39965496693433095,
          null,
          null,
          null,
          null,
          null,
          null,
          null,
          null,
          null,
          null,
          null,
          null,
          null,
          null,
          null,
          null,
          null,
          null,
          null,
          null,
          null,
          null,
          null,
          null,
          null,
          null,
          null,
          null,
          null,
          -0.11712946655774854,
          0.002427225352177437,
          -0.3057591487138223,
          -0.14849357006022043,
          null,
          null,
          null,
          null,
          null,
          null,
          null,
          null,
          -0.2561565779113302,
          0.5583130130768662,
          0.11335264830395099,
          0.040912485332471056,
          null,
          null,
          null,
          null,
          -0.34790757818972495,
          null,
          null,
          -0.3358534256003668,
          -0.39560105571087245,
          null,
          null,
          null,
          null,
          null,
          -0.059807942424280086,
          -0.014532402110382875,
          0.03697757525388395,
          null,
          null,
          null,
          null,
          null,
          -0.20888030642336208,
          null,
          0.48445589130227806,
          null,
          null,
          0.4264156692541791,
          null,
          null,
          null,
          null,
          null,
          null,
          null,
          null,
          null,
          -0.031967143289549804,
          0.5901494836655421,
          null,
          null,
          0.13064167407444535,
          0.25619462332076937,
          0.07085552497940148,
          -0.07259798468810695,
          null,
          null,
          0.5614552982226507,
          -0.0034271344917666743,
          null,
          0.15464679819489446,
          -0.10539454918778951,
          0.01836175852385343,
          null,
          null,
          null,
          null,
          null,
          0.41607927934549754,
          0.25297366131464155,
          null,
          null,
          0.1999524002470466,
          0.05255932835380452,
          0.015546999902117496,
          0.6469874840223885,
          0.010133259520996621,
          -0.022334362648010128,
          -0.2900756393794613,
          -0.02912554974111443,
          0.10789615968705489,
          0.1282524835830527,
          -0.10123052983386488,
          0.025319918922071742,
          1.1370104011740105,
          0.4224369489028836,
          0.015421504691198865,
          null,
          null,
          null,
          0.15306536123470055,
          -0.08875265198193764,
          -0.04679113852667649,
          0.1374872077080444,
          -0.03917359798020909,
          -0.5083114730051952,
          -0.0032503926750064283,
          0.08607544195352039,
          -0.2792567115055226,
          null,
          -0.4329246659630402,
          0.13432091422351533,
          -0.5270371232996873,
          -0.32898822019280904,
          null,
          null,
          null,
          null,
          -0.0013987221976818223,
          null,
          null,
          null,
          null,
          null,
          null,
          null,
          null
         ],
         "yaxis": "y"
        },
        {
         "hovertemplate": "Region=East<br>Order Date=%{x}<br>Sales_Change_After_Discount=%{y}<extra></extra>",
         "legendgroup": "East",
         "line": {
          "color": "#ab63fa",
          "dash": "solid"
         },
         "marker": {
          "symbol": "circle"
         },
         "mode": "lines+markers",
         "name": "East",
         "showlegend": true,
         "type": "scattergl",
         "x": [
          "2014-01-11T00:00:00",
          "2014-01-14T00:00:00",
          "2014-01-16T00:00:00",
          "2014-03-03T00:00:00",
          "2014-03-11T00:00:00",
          "2014-03-17T00:00:00",
          "2014-03-17T00:00:00",
          "2014-03-17T00:00:00",
          "2014-03-25T00:00:00",
          "2014-03-28T00:00:00",
          "2014-04-06T00:00:00",
          "2014-04-08T00:00:00",
          "2014-04-23T00:00:00",
          "2014-04-23T00:00:00",
          "2014-04-23T00:00:00",
          "2014-04-29T00:00:00",
          "2014-05-04T00:00:00",
          "2014-05-07T00:00:00",
          "2014-05-07T00:00:00",
          "2014-05-10T00:00:00",
          "2014-05-12T00:00:00",
          "2014-05-18T00:00:00",
          "2014-05-20T00:00:00",
          "2014-06-04T00:00:00",
          "2014-06-04T00:00:00",
          "2014-06-04T00:00:00",
          "2014-06-06T00:00:00",
          "2014-06-21T00:00:00",
          "2014-06-22T00:00:00",
          "2014-06-22T00:00:00",
          "2014-06-28T00:00:00",
          "2014-07-07T00:00:00",
          "2014-07-07T00:00:00",
          "2014-07-08T00:00:00",
          "2014-07-11T00:00:00",
          "2014-07-11T00:00:00",
          "2014-07-14T00:00:00",
          "2014-07-19T00:00:00",
          "2014-08-05T00:00:00",
          "2014-08-16T00:00:00",
          "2014-08-24T00:00:00",
          "2014-08-26T00:00:00",
          "2014-09-02T00:00:00",
          "2014-09-07T00:00:00",
          "2014-09-08T00:00:00",
          "2014-09-09T00:00:00",
          "2014-09-09T00:00:00",
          "2014-09-09T00:00:00",
          "2014-09-10T00:00:00",
          "2014-09-12T00:00:00",
          "2014-09-14T00:00:00",
          "2014-09-15T00:00:00",
          "2014-09-15T00:00:00",
          "2014-09-19T00:00:00",
          "2014-09-20T00:00:00",
          "2014-09-20T00:00:00",
          "2014-09-20T00:00:00",
          "2014-09-20T00:00:00",
          "2014-09-22T00:00:00",
          "2014-09-22T00:00:00",
          "2014-09-26T00:00:00",
          "2014-09-27T00:00:00",
          "2014-09-29T00:00:00",
          "2014-09-29T00:00:00",
          "2014-09-29T00:00:00",
          "2014-09-30T00:00:00",
          "2014-10-04T00:00:00",
          "2014-10-07T00:00:00",
          "2014-10-13T00:00:00",
          "2014-10-14T00:00:00",
          "2014-10-15T00:00:00",
          "2014-10-21T00:00:00",
          "2014-10-22T00:00:00",
          "2014-10-31T00:00:00",
          "2014-10-31T00:00:00",
          "2014-10-31T00:00:00",
          "2014-10-31T00:00:00",
          "2014-10-31T00:00:00",
          "2014-11-01T00:00:00",
          "2014-11-01T00:00:00",
          "2014-11-02T00:00:00",
          "2014-11-04T00:00:00",
          "2014-11-05T00:00:00",
          "2014-11-09T00:00:00",
          "2014-11-11T00:00:00",
          "2014-11-11T00:00:00",
          "2014-11-14T00:00:00",
          "2014-11-17T00:00:00",
          "2014-11-17T00:00:00",
          "2014-11-17T00:00:00",
          "2014-11-18T00:00:00",
          "2014-11-19T00:00:00",
          "2014-11-24T00:00:00",
          "2014-11-24T00:00:00",
          "2014-11-25T00:00:00",
          "2014-11-25T00:00:00",
          "2014-11-27T00:00:00",
          "2014-12-01T00:00:00",
          "2014-12-01T00:00:00",
          "2014-12-01T00:00:00",
          "2014-12-01T00:00:00",
          "2014-12-02T00:00:00",
          "2014-12-02T00:00:00",
          "2014-12-02T00:00:00",
          "2014-12-14T00:00:00",
          "2014-12-15T00:00:00",
          "2014-12-20T00:00:00",
          "2014-12-20T00:00:00",
          "2014-12-23T00:00:00",
          "2014-12-24T00:00:00",
          "2014-12-27T00:00:00",
          "2014-12-27T00:00:00",
          "2014-12-30T00:00:00",
          "2014-12-31T00:00:00",
          "2014-12-31T00:00:00",
          "2014-12-31T00:00:00",
          "2014-12-31T00:00:00",
          "2015-01-02T00:00:00",
          "2015-01-10T00:00:00",
          "2015-01-27T00:00:00",
          "2015-02-03T00:00:00",
          "2015-02-06T00:00:00",
          "2015-02-06T00:00:00",
          "2015-02-27T00:00:00",
          "2015-03-05T00:00:00",
          "2015-03-05T00:00:00",
          "2015-03-05T00:00:00",
          "2015-04-04T00:00:00",
          "2015-04-05T00:00:00",
          "2015-04-05T00:00:00",
          "2015-04-05T00:00:00",
          "2015-04-16T00:00:00",
          "2015-04-27T00:00:00",
          "2015-04-30T00:00:00",
          "2015-04-30T00:00:00",
          "2015-04-30T00:00:00",
          "2015-05-03T00:00:00",
          "2015-05-04T00:00:00",
          "2015-05-08T00:00:00",
          "2015-05-08T00:00:00",
          "2015-05-08T00:00:00",
          "2015-05-29T00:00:00",
          "2015-05-29T00:00:00",
          "2015-05-31T00:00:00",
          "2015-05-31T00:00:00",
          "2015-06-04T00:00:00",
          "2015-06-05T00:00:00",
          "2015-06-12T00:00:00",
          "2015-06-14T00:00:00",
          "2015-06-28T00:00:00",
          "2015-06-29T00:00:00",
          "2015-06-29T00:00:00",
          "2015-07-03T00:00:00",
          "2015-07-03T00:00:00",
          "2015-07-06T00:00:00",
          "2015-07-06T00:00:00",
          "2015-07-06T00:00:00",
          "2015-07-09T00:00:00",
          "2015-07-11T00:00:00",
          "2015-07-11T00:00:00",
          "2015-07-11T00:00:00",
          "2015-07-11T00:00:00",
          "2015-07-13T00:00:00",
          "2015-07-16T00:00:00",
          "2015-07-18T00:00:00",
          "2015-07-23T00:00:00",
          "2015-07-31T00:00:00",
          "2015-08-02T00:00:00",
          "2015-08-09T00:00:00",
          "2015-08-09T00:00:00",
          "2015-08-09T00:00:00",
          "2015-08-09T00:00:00",
          "2015-08-16T00:00:00",
          "2015-08-16T00:00:00",
          "2015-08-21T00:00:00",
          "2015-08-21T00:00:00",
          "2015-08-24T00:00:00",
          "2015-08-24T00:00:00",
          "2015-09-01T00:00:00",
          "2015-09-01T00:00:00",
          "2015-09-06T00:00:00",
          "2015-09-07T00:00:00",
          "2015-09-07T00:00:00",
          "2015-09-10T00:00:00",
          "2015-09-11T00:00:00",
          "2015-09-11T00:00:00",
          "2015-09-15T00:00:00",
          "2015-09-17T00:00:00",
          "2015-09-17T00:00:00",
          "2015-09-17T00:00:00",
          "2015-09-17T00:00:00",
          "2015-09-17T00:00:00",
          "2015-09-17T00:00:00",
          "2015-09-21T00:00:00",
          "2015-09-21T00:00:00",
          "2015-09-25T00:00:00",
          "2015-10-03T00:00:00",
          "2015-10-04T00:00:00",
          "2015-10-12T00:00:00",
          "2015-10-12T00:00:00",
          "2015-10-12T00:00:00",
          "2015-10-25T00:00:00",
          "2015-11-01T00:00:00",
          "2015-11-01T00:00:00",
          "2015-11-01T00:00:00",
          "2015-11-02T00:00:00",
          "2015-11-02T00:00:00",
          "2015-11-03T00:00:00",
          "2015-11-07T00:00:00",
          "2015-11-08T00:00:00",
          "2015-11-08T00:00:00",
          "2015-11-08T00:00:00",
          "2015-11-13T00:00:00",
          "2015-11-14T00:00:00",
          "2015-11-20T00:00:00",
          "2015-11-20T00:00:00",
          "2015-11-20T00:00:00",
          "2015-11-21T00:00:00",
          "2015-11-21T00:00:00",
          "2015-11-27T00:00:00",
          "2015-11-27T00:00:00",
          "2015-11-27T00:00:00",
          "2015-11-28T00:00:00",
          "2015-11-28T00:00:00",
          "2015-11-28T00:00:00",
          "2015-11-30T00:00:00",
          "2015-12-03T00:00:00",
          "2015-12-04T00:00:00",
          "2015-12-04T00:00:00",
          "2015-12-04T00:00:00",
          "2015-12-04T00:00:00",
          "2015-12-05T00:00:00",
          "2015-12-06T00:00:00",
          "2015-12-06T00:00:00",
          "2015-12-10T00:00:00",
          "2015-12-15T00:00:00",
          "2015-12-19T00:00:00",
          "2015-12-22T00:00:00",
          "2015-12-24T00:00:00",
          "2015-12-25T00:00:00",
          "2015-12-25T00:00:00",
          "2015-12-26T00:00:00",
          "2015-12-27T00:00:00",
          "2016-01-02T00:00:00",
          "2016-01-09T00:00:00",
          "2016-01-11T00:00:00",
          "2016-01-15T00:00:00",
          "2016-01-17T00:00:00",
          "2016-01-25T00:00:00",
          "2016-01-25T00:00:00",
          "2016-02-14T00:00:00",
          "2016-02-14T00:00:00",
          "2016-02-16T00:00:00",
          "2016-02-16T00:00:00",
          "2016-02-19T00:00:00",
          "2016-02-21T00:00:00",
          "2016-02-21T00:00:00",
          "2016-03-01T00:00:00",
          "2016-03-08T00:00:00",
          "2016-03-09T00:00:00",
          "2016-03-10T00:00:00",
          "2016-03-11T00:00:00",
          "2016-03-11T00:00:00",
          "2016-03-13T00:00:00",
          "2016-03-14T00:00:00",
          "2016-03-17T00:00:00",
          "2016-03-19T00:00:00",
          "2016-03-19T00:00:00",
          "2016-03-24T00:00:00",
          "2016-03-29T00:00:00",
          "2016-03-29T00:00:00",
          "2016-03-31T00:00:00",
          "2016-04-01T00:00:00",
          "2016-04-04T00:00:00",
          "2016-04-07T00:00:00",
          "2016-04-08T00:00:00",
          "2016-04-16T00:00:00",
          "2016-04-19T00:00:00",
          "2016-04-26T00:00:00",
          "2016-05-02T00:00:00",
          "2016-05-02T00:00:00",
          "2016-05-03T00:00:00",
          "2016-05-06T00:00:00",
          "2016-05-07T00:00:00",
          "2016-05-07T00:00:00",
          "2016-05-08T00:00:00",
          "2016-05-12T00:00:00",
          "2016-05-14T00:00:00",
          "2016-05-17T00:00:00",
          "2016-05-19T00:00:00",
          "2016-05-19T00:00:00",
          "2016-05-22T00:00:00",
          "2016-05-26T00:00:00",
          "2016-06-04T00:00:00",
          "2016-06-04T00:00:00",
          "2016-06-06T00:00:00",
          "2016-06-06T00:00:00",
          "2016-06-12T00:00:00",
          "2016-06-14T00:00:00",
          "2016-06-17T00:00:00",
          "2016-06-17T00:00:00",
          "2016-06-21T00:00:00",
          "2016-06-25T00:00:00",
          "2016-06-26T00:00:00",
          "2016-06-28T00:00:00",
          "2016-07-09T00:00:00",
          "2016-07-09T00:00:00",
          "2016-07-14T00:00:00",
          "2016-07-22T00:00:00",
          "2016-07-22T00:00:00",
          "2016-07-24T00:00:00",
          "2016-07-28T00:00:00",
          "2016-08-01T00:00:00",
          "2016-08-12T00:00:00",
          "2016-08-12T00:00:00",
          "2016-08-21T00:00:00",
          "2016-08-21T00:00:00",
          "2016-08-27T00:00:00",
          "2016-08-29T00:00:00",
          "2016-08-29T00:00:00",
          "2016-08-30T00:00:00",
          "2016-09-01T00:00:00",
          "2016-09-02T00:00:00",
          "2016-09-03T00:00:00",
          "2016-09-03T00:00:00",
          "2016-09-04T00:00:00",
          "2016-09-05T00:00:00",
          "2016-09-05T00:00:00",
          "2016-09-05T00:00:00",
          "2016-09-05T00:00:00",
          "2016-09-05T00:00:00",
          "2016-09-06T00:00:00",
          "2016-09-08T00:00:00",
          "2016-09-12T00:00:00",
          "2016-09-17T00:00:00",
          "2016-09-17T00:00:00",
          "2016-09-17T00:00:00",
          "2016-09-18T00:00:00",
          "2016-09-18T00:00:00",
          "2016-09-18T00:00:00",
          "2016-09-18T00:00:00",
          "2016-09-19T00:00:00",
          "2016-09-19T00:00:00",
          "2016-09-23T00:00:00",
          "2016-09-23T00:00:00",
          "2016-09-24T00:00:00",
          "2016-09-30T00:00:00",
          "2016-10-01T00:00:00",
          "2016-10-03T00:00:00",
          "2016-10-04T00:00:00",
          "2016-10-09T00:00:00",
          "2016-10-13T00:00:00",
          "2016-10-16T00:00:00",
          "2016-10-17T00:00:00",
          "2016-10-21T00:00:00",
          "2016-10-21T00:00:00",
          "2016-10-27T00:00:00",
          "2016-10-27T00:00:00",
          "2016-10-28T00:00:00",
          "2016-10-28T00:00:00",
          "2016-10-31T00:00:00",
          "2016-11-03T00:00:00",
          "2016-11-10T00:00:00",
          "2016-11-11T00:00:00",
          "2016-11-12T00:00:00",
          "2016-11-12T00:00:00",
          "2016-11-12T00:00:00",
          "2016-11-14T00:00:00",
          "2016-11-14T00:00:00",
          "2016-11-14T00:00:00",
          "2016-11-14T00:00:00",
          "2016-11-20T00:00:00",
          "2016-11-21T00:00:00",
          "2016-11-21T00:00:00",
          "2016-11-21T00:00:00",
          "2016-11-22T00:00:00",
          "2016-11-23T00:00:00",
          "2016-11-23T00:00:00",
          "2016-11-24T00:00:00",
          "2016-11-26T00:00:00",
          "2016-11-27T00:00:00",
          "2016-11-28T00:00:00",
          "2016-12-01T00:00:00",
          "2016-12-01T00:00:00",
          "2016-12-01T00:00:00",
          "2016-12-01T00:00:00",
          "2016-12-02T00:00:00",
          "2016-12-03T00:00:00",
          "2016-12-03T00:00:00",
          "2016-12-04T00:00:00",
          "2016-12-05T00:00:00",
          "2016-12-05T00:00:00",
          "2016-12-11T00:00:00",
          "2016-12-11T00:00:00",
          "2016-12-12T00:00:00",
          "2016-12-14T00:00:00",
          "2016-12-19T00:00:00",
          "2016-12-24T00:00:00",
          "2016-12-25T00:00:00",
          "2016-12-25T00:00:00",
          "2016-12-25T00:00:00",
          "2016-12-25T00:00:00",
          "2016-12-26T00:00:00",
          "2016-12-30T00:00:00",
          "2017-01-01T00:00:00",
          "2017-01-12T00:00:00",
          "2017-01-19T00:00:00",
          "2017-01-19T00:00:00",
          "2017-01-20T00:00:00",
          "2017-02-06T00:00:00",
          "2017-02-11T00:00:00",
          "2017-02-17T00:00:00",
          "2017-02-17T00:00:00",
          "2017-02-17T00:00:00",
          "2017-03-02T00:00:00",
          "2017-03-06T00:00:00",
          "2017-03-10T00:00:00",
          "2017-03-10T00:00:00",
          "2017-03-11T00:00:00",
          "2017-03-11T00:00:00",
          "2017-03-16T00:00:00",
          "2017-03-24T00:00:00",
          "2017-03-24T00:00:00",
          "2017-03-26T00:00:00",
          "2017-03-27T00:00:00",
          "2017-03-31T00:00:00",
          "2017-04-03T00:00:00",
          "2017-04-10T00:00:00",
          "2017-04-14T00:00:00",
          "2017-04-14T00:00:00",
          "2017-04-17T00:00:00",
          "2017-04-20T00:00:00",
          "2017-04-20T00:00:00",
          "2017-04-21T00:00:00",
          "2017-04-22T00:00:00",
          "2017-04-29T00:00:00",
          "2017-05-02T00:00:00",
          "2017-05-03T00:00:00",
          "2017-05-03T00:00:00",
          "2017-05-08T00:00:00",
          "2017-05-08T00:00:00",
          "2017-05-12T00:00:00",
          "2017-05-13T00:00:00",
          "2017-05-14T00:00:00",
          "2017-05-18T00:00:00",
          "2017-05-21T00:00:00",
          "2017-05-25T00:00:00",
          "2017-05-28T00:00:00",
          "2017-05-28T00:00:00",
          "2017-05-28T00:00:00",
          "2017-06-03T00:00:00",
          "2017-06-12T00:00:00",
          "2017-06-19T00:00:00",
          "2017-06-19T00:00:00",
          "2017-06-21T00:00:00",
          "2017-06-24T00:00:00",
          "2017-06-24T00:00:00",
          "2017-06-25T00:00:00",
          "2017-06-27T00:00:00",
          "2017-06-29T00:00:00",
          "2017-06-29T00:00:00",
          "2017-06-30T00:00:00",
          "2017-06-30T00:00:00",
          "2017-07-03T00:00:00",
          "2017-07-03T00:00:00",
          "2017-07-07T00:00:00",
          "2017-07-08T00:00:00",
          "2017-07-08T00:00:00",
          "2017-07-13T00:00:00",
          "2017-07-14T00:00:00",
          "2017-07-15T00:00:00",
          "2017-07-15T00:00:00",
          "2017-07-16T00:00:00",
          "2017-07-17T00:00:00",
          "2017-07-18T00:00:00",
          "2017-07-20T00:00:00",
          "2017-07-20T00:00:00",
          "2017-07-25T00:00:00",
          "2017-07-25T00:00:00",
          "2017-07-27T00:00:00",
          "2017-08-12T00:00:00",
          "2017-08-17T00:00:00",
          "2017-08-17T00:00:00",
          "2017-08-18T00:00:00",
          "2017-08-18T00:00:00",
          "2017-08-18T00:00:00",
          "2017-08-21T00:00:00",
          "2017-08-21T00:00:00",
          "2017-08-22T00:00:00",
          "2017-08-25T00:00:00",
          "2017-08-27T00:00:00",
          "2017-09-01T00:00:00",
          "2017-09-02T00:00:00",
          "2017-09-02T00:00:00",
          "2017-09-02T00:00:00",
          "2017-09-02T00:00:00",
          "2017-09-03T00:00:00",
          "2017-09-03T00:00:00",
          "2017-09-09T00:00:00",
          "2017-09-09T00:00:00",
          "2017-09-09T00:00:00",
          "2017-09-14T00:00:00",
          "2017-09-14T00:00:00",
          "2017-09-14T00:00:00",
          "2017-09-15T00:00:00",
          "2017-09-15T00:00:00",
          "2017-09-15T00:00:00",
          "2017-09-15T00:00:00",
          "2017-09-16T00:00:00",
          "2017-09-18T00:00:00",
          "2017-09-20T00:00:00",
          "2017-09-20T00:00:00",
          "2017-09-20T00:00:00",
          "2017-09-20T00:00:00",
          "2017-09-22T00:00:00",
          "2017-09-24T00:00:00",
          "2017-09-25T00:00:00",
          "2017-09-25T00:00:00",
          "2017-09-29T00:00:00",
          "2017-09-29T00:00:00",
          "2017-09-29T00:00:00",
          "2017-10-03T00:00:00",
          "2017-10-04T00:00:00",
          "2017-10-05T00:00:00",
          "2017-10-08T00:00:00",
          "2017-10-09T00:00:00",
          "2017-10-09T00:00:00",
          "2017-10-12T00:00:00",
          "2017-10-12T00:00:00",
          "2017-10-12T00:00:00",
          "2017-10-16T00:00:00",
          "2017-10-19T00:00:00",
          "2017-10-20T00:00:00",
          "2017-10-23T00:00:00",
          "2017-10-23T00:00:00",
          "2017-10-23T00:00:00",
          "2017-10-23T00:00:00",
          "2017-10-23T00:00:00",
          "2017-10-30T00:00:00",
          "2017-11-02T00:00:00",
          "2017-11-02T00:00:00",
          "2017-11-05T00:00:00",
          "2017-11-05T00:00:00",
          "2017-11-05T00:00:00",
          "2017-11-06T00:00:00",
          "2017-11-07T00:00:00",
          "2017-11-07T00:00:00",
          "2017-11-08T00:00:00",
          "2017-11-09T00:00:00",
          "2017-11-13T00:00:00",
          "2017-11-17T00:00:00",
          "2017-11-19T00:00:00",
          "2017-11-20T00:00:00",
          "2017-11-20T00:00:00",
          "2017-11-20T00:00:00",
          "2017-11-20T00:00:00",
          "2017-11-21T00:00:00",
          "2017-11-23T00:00:00",
          "2017-11-24T00:00:00",
          "2017-11-24T00:00:00",
          "2017-11-26T00:00:00",
          "2017-11-28T00:00:00",
          "2017-11-28T00:00:00",
          "2017-11-28T00:00:00",
          "2017-11-28T00:00:00",
          "2017-11-28T00:00:00",
          "2017-11-30T00:00:00",
          "2017-11-30T00:00:00",
          "2017-12-01T00:00:00",
          "2017-12-01T00:00:00",
          "2017-12-01T00:00:00",
          "2017-12-01T00:00:00",
          "2017-12-04T00:00:00",
          "2017-12-04T00:00:00",
          "2017-12-04T00:00:00",
          "2017-12-04T00:00:00",
          "2017-12-04T00:00:00",
          "2017-12-04T00:00:00",
          "2017-12-04T00:00:00",
          "2017-12-05T00:00:00",
          "2017-12-05T00:00:00",
          "2017-12-05T00:00:00",
          "2017-12-08T00:00:00",
          "2017-12-08T00:00:00",
          "2017-12-10T00:00:00",
          "2017-12-10T00:00:00",
          "2017-12-11T00:00:00",
          "2017-12-13T00:00:00",
          "2017-12-14T00:00:00",
          "2017-12-17T00:00:00",
          "2017-12-18T00:00:00",
          "2017-12-18T00:00:00",
          "2017-12-22T00:00:00",
          "2017-12-23T00:00:00",
          "2017-12-23T00:00:00",
          "2017-12-24T00:00:00",
          "2017-12-24T00:00:00",
          "2017-12-25T00:00:00",
          "2017-12-25T00:00:00",
          "2017-12-25T00:00:00",
          "2017-12-30T00:00:00"
         ],
         "xaxis": "x",
         "y": [
          null,
          null,
          null,
          null,
          null,
          null,
          null,
          null,
          null,
          null,
          null,
          null,
          null,
          null,
          null,
          null,
          null,
          null,
          null,
          null,
          null,
          null,
          null,
          null,
          null,
          null,
          null,
          null,
          null,
          null,
          null,
          null,
          null,
          null,
          null,
          null,
          null,
          null,
          null,
          null,
          null,
          null,
          null,
          null,
          -0.01208767248450364,
          0.037145723445219055,
          -0.09816509413771814,
          -0.07349635617318095,
          -0.3492193349166945,
          1.1973642571528875,
          0.06849617665956638,
          -0.840133032022205,
          null,
          null,
          null,
          null,
          null,
          -0.04670436292396696,
          -0.03407328912818188,
          0.19077402297880725,
          null,
          null,
          -0.12826902891633746,
          -0.23715562637718332,
          -0.20326896714035272,
          null,
          null,
          null,
          null,
          null,
          null,
          null,
          null,
          null,
          null,
          null,
          null,
          null,
          null,
          -0.0008468793544726192,
          0.28263128676943505,
          -0.4880377465874333,
          -0.2764642366129978,
          null,
          0.16139048653959961,
          0.3002208962942789,
          null,
          null,
          null,
          2.4182346030247177,
          0.001587250462532012,
          null,
          null,
          -0.4132010893385666,
          -0.1894198746567022,
          0.17244385387997466,
          -0.27779536117078707,
          null,
          null,
          null,
          null,
          -0.42621354189975824,
          -0.48946438120928665,
          null,
          0.8733500155715412,
          0.2399256237891654,
          null,
          -0.44929852520199426,
          null,
          null,
          0.03006205185629726,
          null,
          null,
          null,
          null,
          0.3700169819380244,
          null,
          null,
          null,
          null,
          null,
          null,
          null,
          null,
          null,
          null,
          null,
          null,
          null,
          null,
          null,
          null,
          null,
          null,
          null,
          null,
          null,
          null,
          null,
          null,
          null,
          null,
          null,
          null,
          null,
          null,
          null,
          null,
          null,
          null,
          null,
          null,
          null,
          null,
          null,
          null,
          null,
          null,
          null,
          null,
          null,
          null,
          null,
          null,
          null,
          null,
          null,
          null,
          null,
          null,
          0.17257769766784337,
          null,
          null,
          null,
          null,
          null,
          null,
          null,
          null,
          null,
          null,
          0.21695480812402307,
          0.6132370665345945,
          null,
          null,
          null,
          -0.0361181487036235,
          null,
          null,
          null,
          null,
          null,
          null,
          null,
          null,
          null,
          null,
          null,
          null,
          null,
          0.08075911775593138,
          null,
          null,
          null,
          null,
          -0.18813599486780402,
          0.7846484294095343,
          null,
          null,
          null,
          null,
          2.856275719026886,
          null,
          0.36916613586491,
          null,
          null,
          null,
          -0.037764202544177665,
          0.398238963410313,
          null,
          null,
          null,
          -0.18156794160139902,
          -0.2212362086610309,
          0.13472242868704867,
          0.29401739308208236,
          null,
          null,
          null,
          null,
          null,
          -0.10506713113226333,
          -0.24623707080067092,
          0.5216436520638696,
          null,
          null,
          null,
          null,
          null,
          null,
          -0.039031449295152155,
          -0.24195090277694487,
          0.595383613809067,
          null,
          null,
          null,
          null,
          null,
          null,
          null,
          null,
          null,
          null,
          null,
          null,
          null,
          null,
          null,
          null,
          null,
          null,
          null,
          null,
          0.047747606871462185,
          0.0788439828860286,
          null,
          null,
          null,
          null,
          null,
          null,
          null,
          null,
          null,
          null,
          null,
          null,
          null,
          null,
          null,
          null,
          null,
          null,
          null,
          -0.015261493218560773,
          null,
          null,
          null,
          null,
          null,
          null,
          null,
          null,
          null,
          null,
          null,
          null,
          null,
          null,
          null,
          null,
          null,
          null,
          null,
          null,
          null,
          null,
          null,
          null,
          null,
          null,
          null,
          null,
          null,
          null,
          null,
          null,
          null,
          null,
          -0.42949243456021713,
          -0.3998260620375665,
          null,
          null,
          0.15091795044695658,
          -0.18406104663320216,
          -0.1341297690862017,
          -0.4318021329374053,
          0.016453467200316558,
          0.01409891900380841,
          0.2905713459472856,
          0.4109010794369793,
          null,
          null,
          null,
          null,
          null,
          null,
          -0.09837926428581417,
          0.43408749352441167,
          0.48616761664956337,
          0.3908333750605042,
          0.2489969218638073,
          -0.16987204953188792,
          null,
          null,
          0.11263289051582669,
          null,
          null,
          null,
          null,
          null,
          null,
          null,
          null,
          null,
          null,
          null,
          null,
          null,
          0.44244973917541996,
          null,
          null,
          null,
          0.09624884427420408,
          0.68733736869562,
          0.39040176640420143,
          0.13533960979620402,
          -0.4377443262968332,
          -0.43211887387616976,
          -0.40838643285552384,
          0.6820263784768433,
          null,
          0.1838168037274813,
          0.0686959039866146,
          -0.22849100099938477,
          -0.24019814465197134,
          -0.24898733552283545,
          -0.47121648994319437,
          0.048982847549465185,
          0.4954376584367234,
          -0.009168258629288467,
          0.016311148259336515,
          -0.2061369030468536,
          0.34318505837121466,
          -0.05071647853061268,
          0.14833577520352081,
          -0.09076735218908344,
          0.5100449777161757,
          0.09977024165403514,
          0.5245262713416111,
          -0.15449673421537424,
          null,
          -0.07501307740114634,
          -0.0068063208558216785,
          0.1353304125950205,
          -0.2608740571680054,
          -0.46645514727677917,
          -0.011508115985727997,
          0.05547364853414669,
          0.09909728596454251,
          0.3939832234421902,
          0.0650940968300784,
          0.13451317190610665,
          null,
          null,
          null,
          null,
          null,
          null,
          null,
          null,
          null,
          null,
          null,
          null,
          null,
          null,
          null,
          null,
          null,
          null,
          null,
          null,
          null,
          -0.06194995363683323,
          null,
          null,
          null,
          null,
          null,
          null,
          null,
          null,
          null,
          0.149328294497438,
          null,
          -0.16816669587601035,
          0.07065053772060621,
          0.08638813968249451,
          -0.14875699412266521,
          -0.018461919154800718,
          null,
          null,
          0.04366574856497838,
          null,
          0.2134420722218091,
          null,
          null,
          null,
          null,
          null,
          -0.2117060458242107,
          -0.005856877505553173,
          -0.06784465542489199,
          null,
          null,
          null,
          null,
          null,
          null,
          null,
          null,
          null,
          null,
          null,
          null,
          -0.3921480626990899,
          0.22969936350825435,
          null,
          null,
          null,
          null,
          -0.020514734584397294,
          0.20493617299870573,
          null,
          null,
          null,
          null,
          null,
          null,
          null,
          null,
          null,
          null,
          null,
          null,
          null,
          null,
          -0.2653312848944328,
          null,
          null,
          null,
          null,
          null,
          null,
          0.47754239664512227,
          0.09730877940394496,
          0.05968007295409139,
          0.002386561427129402,
          -0.17487243647161874,
          -0.2529450670612008,
          null,
          null,
          null,
          null,
          null,
          -0.06358669015938588,
          0.0790909403034945,
          -0.08585259707404279,
          -0.16471237309207082,
          -0.5841539543290083,
          0.5666822484515597,
          4.066083000918063,
          null,
          null,
          null,
          0.14599197480971973,
          -0.17029528590378595,
          null,
          null,
          null,
          -0.8042420053010573,
          -0.7382387100507041,
          1.1597129172434706,
          0.09836466248944578,
          0.071038289516191,
          0.1546026992439601,
          null,
          null,
          null,
          -0.08303606882181742,
          null,
          null,
          -0.16958618569635628,
          -0.017231084743594714,
          -0.24074366838460817,
          0.10547208452159935,
          0.4671162094890908,
          null,
          null,
          null,
          0.03848043791400179,
          -0.02912098817974854,
          -0.07166086568066932,
          0.7997045368559778,
          0.18441821470898317,
          0.16827708682283357,
          0.0652575855124191,
          -0.5228084955964089,
          0.11815613207939064,
          -0.29891473416409764,
          -0.05489133359605181,
          -0.479847908745247,
          -0.28308942689165956,
          -0.36885982356694624,
          0.002108708121056852,
          null,
          null,
          null,
          null,
          -0.3964677240199879,
          0.7905479471062451,
          1.52173001493802,
          0.8750803995567367,
          0.022993383448228034,
          0.04732648388616587,
          0.29137135344634113,
          0.07073844419391191,
          0.09807936300310559,
          -0.09498974159716438,
          -0.5301272935407637,
          0.005386969747867709,
          -0.49166012363343586,
          -0.6721183209726672,
          -0.45846335382299425,
          0.28606913008894347,
          0.8054611461602216,
          0.39552882898839165,
          -0.17286306837659957,
          -0.3514286117193903,
          -0.2352097143618889,
          0.2703909052788515,
          null,
          -0.2661901436771216,
          -0.08086516457072156,
          -0.41142316796414125,
          -0.287010593771738,
          null,
          0.033243597951697165,
          -0.25890015378829784,
          1.0897145656602116,
          -0.028649766869356177,
          null,
          -0.4267355380799402,
          -0.027198606688237908,
          -0.006894048671537041,
          -0.22785514440274793,
          0.0895653489620783,
          0.1348062838963876,
          0.014004977941406645,
          null
         ],
         "yaxis": "y"
        },
        {
         "hovertemplate": "Region=West<br>Order Date=%{x}<br>Sales_Change_After_Discount=%{y}<extra></extra>",
         "legendgroup": "West",
         "line": {
          "color": "#FFA15A",
          "dash": "solid"
         },
         "marker": {
          "symbol": "circle"
         },
         "mode": "lines+markers",
         "name": "West",
         "showlegend": true,
         "type": "scattergl",
         "x": [
          "2014-01-13T00:00:00",
          "2014-01-19T00:00:00",
          "2014-01-20T00:00:00",
          "2014-01-27T00:00:00",
          "2014-01-31T00:00:00",
          "2014-02-08T00:00:00",
          "2014-02-12T00:00:00",
          "2014-03-01T00:00:00",
          "2014-03-03T00:00:00",
          "2014-03-07T00:00:00",
          "2014-03-07T00:00:00",
          "2014-03-07T00:00:00",
          "2014-03-18T00:00:00",
          "2014-03-18T00:00:00",
          "2014-03-22T00:00:00",
          "2014-03-24T00:00:00",
          "2014-03-30T00:00:00",
          "2014-04-06T00:00:00",
          "2014-04-06T00:00:00",
          "2014-04-06T00:00:00",
          "2014-04-08T00:00:00",
          "2014-04-12T00:00:00",
          "2014-04-15T00:00:00",
          "2014-04-19T00:00:00",
          "2014-04-20T00:00:00",
          "2014-04-25T00:00:00",
          "2014-04-25T00:00:00",
          "2014-04-26T00:00:00",
          "2014-05-04T00:00:00",
          "2014-05-10T00:00:00",
          "2014-05-13T00:00:00",
          "2014-05-16T00:00:00",
          "2014-05-26T00:00:00",
          "2014-05-26T00:00:00",
          "2014-05-27T00:00:00",
          "2014-06-02T00:00:00",
          "2014-06-03T00:00:00",
          "2014-06-08T00:00:00",
          "2014-06-09T00:00:00",
          "2014-06-09T00:00:00",
          "2014-06-09T00:00:00",
          "2014-06-17T00:00:00",
          "2014-06-24T00:00:00",
          "2014-06-25T00:00:00",
          "2014-07-06T00:00:00",
          "2014-07-08T00:00:00",
          "2014-07-09T00:00:00",
          "2014-07-12T00:00:00",
          "2014-07-12T00:00:00",
          "2014-07-13T00:00:00",
          "2014-07-18T00:00:00",
          "2014-07-20T00:00:00",
          "2014-07-21T00:00:00",
          "2014-07-21T00:00:00",
          "2014-07-22T00:00:00",
          "2014-07-22T00:00:00",
          "2014-07-25T00:00:00",
          "2014-07-26T00:00:00",
          "2014-07-26T00:00:00",
          "2014-07-30T00:00:00",
          "2014-08-03T00:00:00",
          "2014-08-05T00:00:00",
          "2014-08-08T00:00:00",
          "2014-08-08T00:00:00",
          "2014-08-11T00:00:00",
          "2014-08-12T00:00:00",
          "2014-08-15T00:00:00",
          "2014-08-19T00:00:00",
          "2014-08-23T00:00:00",
          "2014-08-25T00:00:00",
          "2014-09-06T00:00:00",
          "2014-09-08T00:00:00",
          "2014-09-10T00:00:00",
          "2014-09-11T00:00:00",
          "2014-09-13T00:00:00",
          "2014-09-17T00:00:00",
          "2014-09-19T00:00:00",
          "2014-09-23T00:00:00",
          "2014-09-26T00:00:00",
          "2014-09-26T00:00:00",
          "2014-09-27T00:00:00",
          "2014-09-29T00:00:00",
          "2014-09-29T00:00:00",
          "2014-09-29T00:00:00",
          "2014-10-03T00:00:00",
          "2014-10-03T00:00:00",
          "2014-10-10T00:00:00",
          "2014-10-10T00:00:00",
          "2014-10-11T00:00:00",
          "2014-10-11T00:00:00",
          "2014-10-13T00:00:00",
          "2014-10-26T00:00:00",
          "2014-10-28T00:00:00",
          "2014-10-31T00:00:00",
          "2014-11-04T00:00:00",
          "2014-11-04T00:00:00",
          "2014-11-05T00:00:00",
          "2014-11-09T00:00:00",
          "2014-11-10T00:00:00",
          "2014-11-10T00:00:00",
          "2014-11-11T00:00:00",
          "2014-11-11T00:00:00",
          "2014-11-12T00:00:00",
          "2014-11-15T00:00:00",
          "2014-11-16T00:00:00",
          "2014-11-18T00:00:00",
          "2014-11-18T00:00:00",
          "2014-11-18T00:00:00",
          "2014-11-23T00:00:00",
          "2014-11-23T00:00:00",
          "2014-11-24T00:00:00",
          "2014-11-24T00:00:00",
          "2014-11-25T00:00:00",
          "2014-11-25T00:00:00",
          "2014-11-28T00:00:00",
          "2014-12-01T00:00:00",
          "2014-12-06T00:00:00",
          "2014-12-08T00:00:00",
          "2014-12-08T00:00:00",
          "2014-12-08T00:00:00",
          "2014-12-10T00:00:00",
          "2014-12-12T00:00:00",
          "2014-12-12T00:00:00",
          "2014-12-12T00:00:00",
          "2014-12-12T00:00:00",
          "2014-12-12T00:00:00",
          "2014-12-12T00:00:00",
          "2014-12-13T00:00:00",
          "2014-12-15T00:00:00",
          "2014-12-16T00:00:00",
          "2014-12-16T00:00:00",
          "2014-12-16T00:00:00",
          "2014-12-20T00:00:00",
          "2014-12-20T00:00:00",
          "2014-12-21T00:00:00",
          "2014-12-21T00:00:00",
          "2014-12-24T00:00:00",
          "2014-12-24T00:00:00",
          "2014-12-26T00:00:00",
          "2014-12-26T00:00:00",
          "2014-12-26T00:00:00",
          "2014-12-26T00:00:00",
          "2014-12-27T00:00:00",
          "2014-12-29T00:00:00",
          "2014-12-29T00:00:00",
          "2015-01-05T00:00:00",
          "2015-01-13T00:00:00",
          "2015-01-13T00:00:00",
          "2015-01-27T00:00:00",
          "2015-01-30T00:00:00",
          "2015-02-03T00:00:00",
          "2015-02-09T00:00:00",
          "2015-02-18T00:00:00",
          "2015-03-01T00:00:00",
          "2015-03-02T00:00:00",
          "2015-03-06T00:00:00",
          "2015-03-13T00:00:00",
          "2015-03-13T00:00:00",
          "2015-03-13T00:00:00",
          "2015-03-16T00:00:00",
          "2015-03-16T00:00:00",
          "2015-03-22T00:00:00",
          "2015-03-24T00:00:00",
          "2015-03-26T00:00:00",
          "2015-03-29T00:00:00",
          "2015-04-05T00:00:00",
          "2015-04-09T00:00:00",
          "2015-04-13T00:00:00",
          "2015-04-13T00:00:00",
          "2015-04-13T00:00:00",
          "2015-04-26T00:00:00",
          "2015-05-03T00:00:00",
          "2015-05-11T00:00:00",
          "2015-05-14T00:00:00",
          "2015-05-14T00:00:00",
          "2015-05-14T00:00:00",
          "2015-05-14T00:00:00",
          "2015-05-25T00:00:00",
          "2015-05-26T00:00:00",
          "2015-05-31T00:00:00",
          "2015-06-09T00:00:00",
          "2015-06-15T00:00:00",
          "2015-06-15T00:00:00",
          "2015-06-18T00:00:00",
          "2015-06-19T00:00:00",
          "2015-06-20T00:00:00",
          "2015-06-25T00:00:00",
          "2015-06-28T00:00:00",
          "2015-07-06T00:00:00",
          "2015-07-14T00:00:00",
          "2015-07-14T00:00:00",
          "2015-07-16T00:00:00",
          "2015-07-16T00:00:00",
          "2015-07-17T00:00:00",
          "2015-07-25T00:00:00",
          "2015-07-25T00:00:00",
          "2015-07-26T00:00:00",
          "2015-07-26T00:00:00",
          "2015-07-30T00:00:00",
          "2015-08-01T00:00:00",
          "2015-08-02T00:00:00",
          "2015-08-08T00:00:00",
          "2015-08-13T00:00:00",
          "2015-08-15T00:00:00",
          "2015-08-21T00:00:00",
          "2015-08-21T00:00:00",
          "2015-08-25T00:00:00",
          "2015-08-28T00:00:00",
          "2015-08-28T00:00:00",
          "2015-08-31T00:00:00",
          "2015-09-03T00:00:00",
          "2015-09-03T00:00:00",
          "2015-09-05T00:00:00",
          "2015-09-05T00:00:00",
          "2015-09-06T00:00:00",
          "2015-09-10T00:00:00",
          "2015-09-11T00:00:00",
          "2015-09-13T00:00:00",
          "2015-09-13T00:00:00",
          "2015-09-13T00:00:00",
          "2015-09-13T00:00:00",
          "2015-09-14T00:00:00",
          "2015-09-14T00:00:00",
          "2015-09-18T00:00:00",
          "2015-09-19T00:00:00",
          "2015-09-21T00:00:00",
          "2015-09-22T00:00:00",
          "2015-09-24T00:00:00",
          "2015-09-25T00:00:00",
          "2015-09-25T00:00:00",
          "2015-10-02T00:00:00",
          "2015-10-03T00:00:00",
          "2015-10-05T00:00:00",
          "2015-10-05T00:00:00",
          "2015-10-08T00:00:00",
          "2015-10-10T00:00:00",
          "2015-10-18T00:00:00",
          "2015-10-20T00:00:00",
          "2015-10-20T00:00:00",
          "2015-10-20T00:00:00",
          "2015-10-23T00:00:00",
          "2015-10-23T00:00:00",
          "2015-10-23T00:00:00",
          "2015-10-24T00:00:00",
          "2015-10-25T00:00:00",
          "2015-10-25T00:00:00",
          "2015-10-30T00:00:00",
          "2015-10-31T00:00:00",
          "2015-10-31T00:00:00",
          "2015-11-02T00:00:00",
          "2015-11-02T00:00:00",
          "2015-11-02T00:00:00",
          "2015-11-03T00:00:00",
          "2015-11-07T00:00:00",
          "2015-11-08T00:00:00",
          "2015-11-13T00:00:00",
          "2015-11-13T00:00:00",
          "2015-11-13T00:00:00",
          "2015-11-14T00:00:00",
          "2015-11-14T00:00:00",
          "2015-11-16T00:00:00",
          "2015-11-17T00:00:00",
          "2015-11-17T00:00:00",
          "2015-11-17T00:00:00",
          "2015-11-19T00:00:00",
          "2015-11-20T00:00:00",
          "2015-11-20T00:00:00",
          "2015-11-20T00:00:00",
          "2015-11-20T00:00:00",
          "2015-11-21T00:00:00",
          "2015-11-24T00:00:00",
          "2015-11-27T00:00:00",
          "2015-11-30T00:00:00",
          "2015-12-01T00:00:00",
          "2015-12-01T00:00:00",
          "2015-12-01T00:00:00",
          "2015-12-03T00:00:00",
          "2015-12-04T00:00:00",
          "2015-12-04T00:00:00",
          "2015-12-05T00:00:00",
          "2015-12-06T00:00:00",
          "2015-12-07T00:00:00",
          "2015-12-11T00:00:00",
          "2015-12-11T00:00:00",
          "2015-12-11T00:00:00",
          "2015-12-11T00:00:00",
          "2015-12-12T00:00:00",
          "2015-12-12T00:00:00",
          "2015-12-14T00:00:00",
          "2015-12-14T00:00:00",
          "2015-12-14T00:00:00",
          "2015-12-20T00:00:00",
          "2015-12-21T00:00:00",
          "2015-12-24T00:00:00",
          "2015-12-24T00:00:00",
          "2015-12-24T00:00:00",
          "2016-01-10T00:00:00",
          "2016-01-10T00:00:00",
          "2016-01-21T00:00:00",
          "2016-01-21T00:00:00",
          "2016-01-22T00:00:00",
          "2016-01-23T00:00:00",
          "2016-01-30T00:00:00",
          "2016-01-30T00:00:00",
          "2016-02-04T00:00:00",
          "2016-02-05T00:00:00",
          "2016-03-03T00:00:00",
          "2016-03-12T00:00:00",
          "2016-03-13T00:00:00",
          "2016-03-14T00:00:00",
          "2016-03-15T00:00:00",
          "2016-03-19T00:00:00",
          "2016-03-22T00:00:00",
          "2016-04-08T00:00:00",
          "2016-04-09T00:00:00",
          "2016-04-12T00:00:00",
          "2016-04-12T00:00:00",
          "2016-04-14T00:00:00",
          "2016-04-14T00:00:00",
          "2016-04-15T00:00:00",
          "2016-04-17T00:00:00",
          "2016-04-22T00:00:00",
          "2016-04-22T00:00:00",
          "2016-04-22T00:00:00",
          "2016-04-24T00:00:00",
          "2016-04-28T00:00:00",
          "2016-04-30T00:00:00",
          "2016-05-05T00:00:00",
          "2016-05-05T00:00:00",
          "2016-05-05T00:00:00",
          "2016-05-06T00:00:00",
          "2016-05-16T00:00:00",
          "2016-05-20T00:00:00",
          "2016-05-23T00:00:00",
          "2016-05-26T00:00:00",
          "2016-05-30T00:00:00",
          "2016-05-30T00:00:00",
          "2016-06-03T00:00:00",
          "2016-06-09T00:00:00",
          "2016-06-10T00:00:00",
          "2016-06-11T00:00:00",
          "2016-06-14T00:00:00",
          "2016-06-14T00:00:00",
          "2016-06-14T00:00:00",
          "2016-06-14T00:00:00",
          "2016-06-17T00:00:00",
          "2016-06-17T00:00:00",
          "2016-06-17T00:00:00",
          "2016-06-20T00:00:00",
          "2016-06-26T00:00:00",
          "2016-07-02T00:00:00",
          "2016-07-04T00:00:00",
          "2016-07-04T00:00:00",
          "2016-07-04T00:00:00",
          "2016-07-07T00:00:00",
          "2016-07-07T00:00:00",
          "2016-07-08T00:00:00",
          "2016-07-14T00:00:00",
          "2016-07-15T00:00:00",
          "2016-07-17T00:00:00",
          "2016-07-17T00:00:00",
          "2016-07-18T00:00:00",
          "2016-07-18T00:00:00",
          "2016-07-25T00:00:00",
          "2016-07-25T00:00:00",
          "2016-07-25T00:00:00",
          "2016-07-31T00:00:00",
          "2016-08-02T00:00:00",
          "2016-08-08T00:00:00",
          "2016-08-15T00:00:00",
          "2016-08-16T00:00:00",
          "2016-08-21T00:00:00",
          "2016-08-22T00:00:00",
          "2016-08-23T00:00:00",
          "2016-08-26T00:00:00",
          "2016-08-30T00:00:00",
          "2016-09-02T00:00:00",
          "2016-09-02T00:00:00",
          "2016-09-02T00:00:00",
          "2016-09-04T00:00:00",
          "2016-09-08T00:00:00",
          "2016-09-08T00:00:00",
          "2016-09-12T00:00:00",
          "2016-09-12T00:00:00",
          "2016-09-12T00:00:00",
          "2016-09-12T00:00:00",
          "2016-09-15T00:00:00",
          "2016-09-16T00:00:00",
          "2016-09-17T00:00:00",
          "2016-09-18T00:00:00",
          "2016-09-18T00:00:00",
          "2016-09-20T00:00:00",
          "2016-09-22T00:00:00",
          "2016-09-23T00:00:00",
          "2016-09-24T00:00:00",
          "2016-09-24T00:00:00",
          "2016-09-24T00:00:00",
          "2016-09-25T00:00:00",
          "2016-09-25T00:00:00",
          "2016-09-25T00:00:00",
          "2016-09-26T00:00:00",
          "2016-10-01T00:00:00",
          "2016-10-03T00:00:00",
          "2016-10-09T00:00:00",
          "2016-10-10T00:00:00",
          "2016-10-10T00:00:00",
          "2016-10-13T00:00:00",
          "2016-10-13T00:00:00",
          "2016-10-13T00:00:00",
          "2016-10-17T00:00:00",
          "2016-10-18T00:00:00",
          "2016-10-20T00:00:00",
          "2016-10-21T00:00:00",
          "2016-10-21T00:00:00",
          "2016-10-22T00:00:00",
          "2016-10-31T00:00:00",
          "2016-11-03T00:00:00",
          "2016-11-04T00:00:00",
          "2016-11-04T00:00:00",
          "2016-11-04T00:00:00",
          "2016-11-04T00:00:00",
          "2016-11-05T00:00:00",
          "2016-11-06T00:00:00",
          "2016-11-06T00:00:00",
          "2016-11-07T00:00:00",
          "2016-11-07T00:00:00",
          "2016-11-10T00:00:00",
          "2016-11-10T00:00:00",
          "2016-11-11T00:00:00",
          "2016-11-11T00:00:00",
          "2016-11-11T00:00:00",
          "2016-11-12T00:00:00",
          "2016-11-13T00:00:00",
          "2016-11-13T00:00:00",
          "2016-11-19T00:00:00",
          "2016-11-21T00:00:00",
          "2016-11-24T00:00:00",
          "2016-11-24T00:00:00",
          "2016-11-24T00:00:00",
          "2016-11-25T00:00:00",
          "2016-11-26T00:00:00",
          "2016-11-26T00:00:00",
          "2016-12-01T00:00:00",
          "2016-12-01T00:00:00",
          "2016-12-02T00:00:00",
          "2016-12-03T00:00:00",
          "2016-12-03T00:00:00",
          "2016-12-03T00:00:00",
          "2016-12-08T00:00:00",
          "2016-12-10T00:00:00",
          "2016-12-11T00:00:00",
          "2016-12-11T00:00:00",
          "2016-12-11T00:00:00",
          "2016-12-11T00:00:00",
          "2016-12-12T00:00:00",
          "2016-12-13T00:00:00",
          "2016-12-14T00:00:00",
          "2016-12-15T00:00:00",
          "2016-12-15T00:00:00",
          "2016-12-16T00:00:00",
          "2016-12-17T00:00:00",
          "2016-12-18T00:00:00",
          "2016-12-18T00:00:00",
          "2016-12-18T00:00:00",
          "2016-12-19T00:00:00",
          "2016-12-22T00:00:00",
          "2016-12-22T00:00:00",
          "2016-12-22T00:00:00",
          "2016-12-22T00:00:00",
          "2016-12-24T00:00:00",
          "2016-12-25T00:00:00",
          "2016-12-25T00:00:00",
          "2016-12-25T00:00:00",
          "2016-12-25T00:00:00",
          "2016-12-26T00:00:00",
          "2016-12-26T00:00:00",
          "2017-01-01T00:00:00",
          "2017-01-08T00:00:00",
          "2017-01-16T00:00:00",
          "2017-01-16T00:00:00",
          "2017-01-21T00:00:00",
          "2017-01-28T00:00:00",
          "2017-01-30T00:00:00",
          "2017-02-02T00:00:00",
          "2017-02-02T00:00:00",
          "2017-02-09T00:00:00",
          "2017-02-10T00:00:00",
          "2017-02-11T00:00:00",
          "2017-02-13T00:00:00",
          "2017-02-19T00:00:00",
          "2017-02-20T00:00:00",
          "2017-02-20T00:00:00",
          "2017-02-20T00:00:00",
          "2017-02-26T00:00:00",
          "2017-02-26T00:00:00",
          "2017-03-03T00:00:00",
          "2017-03-03T00:00:00",
          "2017-03-19T00:00:00",
          "2017-03-19T00:00:00",
          "2017-03-21T00:00:00",
          "2017-03-23T00:00:00",
          "2017-03-28T00:00:00",
          "2017-03-28T00:00:00",
          "2017-03-30T00:00:00",
          "2017-04-01T00:00:00",
          "2017-04-02T00:00:00",
          "2017-04-13T00:00:00",
          "2017-04-15T00:00:00",
          "2017-04-16T00:00:00",
          "2017-04-17T00:00:00",
          "2017-04-21T00:00:00",
          "2017-04-22T00:00:00",
          "2017-04-23T00:00:00",
          "2017-04-23T00:00:00",
          "2017-04-23T00:00:00",
          "2017-04-25T00:00:00",
          "2017-04-27T00:00:00",
          "2017-04-30T00:00:00",
          "2017-05-04T00:00:00",
          "2017-05-05T00:00:00",
          "2017-05-09T00:00:00",
          "2017-05-11T00:00:00",
          "2017-05-12T00:00:00",
          "2017-05-14T00:00:00",
          "2017-05-15T00:00:00",
          "2017-05-15T00:00:00",
          "2017-05-15T00:00:00",
          "2017-05-19T00:00:00",
          "2017-05-20T00:00:00",
          "2017-05-20T00:00:00",
          "2017-05-23T00:00:00",
          "2017-05-27T00:00:00",
          "2017-05-30T00:00:00",
          "2017-06-06T00:00:00",
          "2017-06-08T00:00:00",
          "2017-06-10T00:00:00",
          "2017-06-11T00:00:00",
          "2017-06-11T00:00:00",
          "2017-06-13T00:00:00",
          "2017-06-16T00:00:00",
          "2017-06-17T00:00:00",
          "2017-06-18T00:00:00",
          "2017-06-19T00:00:00",
          "2017-06-25T00:00:00",
          "2017-06-27T00:00:00",
          "2017-06-30T00:00:00",
          "2017-07-03T00:00:00",
          "2017-07-03T00:00:00",
          "2017-07-06T00:00:00",
          "2017-07-08T00:00:00",
          "2017-07-08T00:00:00",
          "2017-07-08T00:00:00",
          "2017-07-14T00:00:00",
          "2017-07-14T00:00:00",
          "2017-07-17T00:00:00",
          "2017-07-18T00:00:00",
          "2017-07-18T00:00:00",
          "2017-07-18T00:00:00",
          "2017-07-21T00:00:00",
          "2017-07-26T00:00:00",
          "2017-07-27T00:00:00",
          "2017-07-29T00:00:00",
          "2017-07-31T00:00:00",
          "2017-08-03T00:00:00",
          "2017-08-07T00:00:00",
          "2017-08-07T00:00:00",
          "2017-08-12T00:00:00",
          "2017-08-14T00:00:00",
          "2017-08-18T00:00:00",
          "2017-08-21T00:00:00",
          "2017-08-21T00:00:00",
          "2017-08-21T00:00:00",
          "2017-08-21T00:00:00",
          "2017-08-22T00:00:00",
          "2017-08-27T00:00:00",
          "2017-08-27T00:00:00",
          "2017-08-27T00:00:00",
          "2017-08-28T00:00:00",
          "2017-08-29T00:00:00",
          "2017-08-31T00:00:00",
          "2017-09-01T00:00:00",
          "2017-09-02T00:00:00",
          "2017-09-02T00:00:00",
          "2017-09-02T00:00:00",
          "2017-09-03T00:00:00",
          "2017-09-04T00:00:00",
          "2017-09-04T00:00:00",
          "2017-09-07T00:00:00",
          "2017-09-07T00:00:00",
          "2017-09-07T00:00:00",
          "2017-09-07T00:00:00",
          "2017-09-07T00:00:00",
          "2017-09-09T00:00:00",
          "2017-09-10T00:00:00",
          "2017-09-11T00:00:00",
          "2017-09-11T00:00:00",
          "2017-09-11T00:00:00",
          "2017-09-12T00:00:00",
          "2017-09-15T00:00:00",
          "2017-09-15T00:00:00",
          "2017-09-15T00:00:00",
          "2017-09-15T00:00:00",
          "2017-09-17T00:00:00",
          "2017-09-19T00:00:00",
          "2017-09-19T00:00:00",
          "2017-09-23T00:00:00",
          "2017-09-23T00:00:00",
          "2017-09-23T00:00:00",
          "2017-09-24T00:00:00",
          "2017-09-26T00:00:00",
          "2017-09-28T00:00:00",
          "2017-09-28T00:00:00",
          "2017-09-29T00:00:00",
          "2017-09-29T00:00:00",
          "2017-10-01T00:00:00",
          "2017-10-01T00:00:00",
          "2017-10-02T00:00:00",
          "2017-10-02T00:00:00",
          "2017-10-03T00:00:00",
          "2017-10-05T00:00:00",
          "2017-10-05T00:00:00",
          "2017-10-05T00:00:00",
          "2017-10-06T00:00:00",
          "2017-10-07T00:00:00",
          "2017-10-14T00:00:00",
          "2017-10-15T00:00:00",
          "2017-10-15T00:00:00",
          "2017-10-19T00:00:00",
          "2017-10-19T00:00:00",
          "2017-10-21T00:00:00",
          "2017-10-22T00:00:00",
          "2017-10-22T00:00:00",
          "2017-10-27T00:00:00",
          "2017-10-27T00:00:00",
          "2017-10-30T00:00:00",
          "2017-10-30T00:00:00",
          "2017-10-30T00:00:00",
          "2017-10-30T00:00:00",
          "2017-10-30T00:00:00",
          "2017-11-01T00:00:00",
          "2017-11-02T00:00:00",
          "2017-11-03T00:00:00",
          "2017-11-03T00:00:00",
          "2017-11-03T00:00:00",
          "2017-11-03T00:00:00",
          "2017-11-06T00:00:00",
          "2017-11-06T00:00:00",
          "2017-11-06T00:00:00",
          "2017-11-09T00:00:00",
          "2017-11-09T00:00:00",
          "2017-11-09T00:00:00",
          "2017-11-10T00:00:00",
          "2017-11-10T00:00:00",
          "2017-11-11T00:00:00",
          "2017-11-12T00:00:00",
          "2017-11-12T00:00:00",
          "2017-11-13T00:00:00",
          "2017-11-14T00:00:00",
          "2017-11-16T00:00:00",
          "2017-11-16T00:00:00",
          "2017-11-16T00:00:00",
          "2017-11-16T00:00:00",
          "2017-11-19T00:00:00",
          "2017-11-20T00:00:00",
          "2017-11-20T00:00:00",
          "2017-11-21T00:00:00",
          "2017-11-24T00:00:00",
          "2017-11-24T00:00:00",
          "2017-11-25T00:00:00",
          "2017-11-27T00:00:00",
          "2017-11-30T00:00:00",
          "2017-12-01T00:00:00",
          "2017-12-01T00:00:00",
          "2017-12-01T00:00:00",
          "2017-12-02T00:00:00",
          "2017-12-02T00:00:00",
          "2017-12-02T00:00:00",
          "2017-12-02T00:00:00",
          "2017-12-03T00:00:00",
          "2017-12-03T00:00:00",
          "2017-12-03T00:00:00",
          "2017-12-03T00:00:00",
          "2017-12-05T00:00:00",
          "2017-12-08T00:00:00",
          "2017-12-08T00:00:00",
          "2017-12-08T00:00:00",
          "2017-12-08T00:00:00",
          "2017-12-09T00:00:00",
          "2017-12-09T00:00:00",
          "2017-12-10T00:00:00",
          "2017-12-13T00:00:00",
          "2017-12-14T00:00:00",
          "2017-12-15T00:00:00",
          "2017-12-16T00:00:00",
          "2017-12-16T00:00:00",
          "2017-12-16T00:00:00",
          "2017-12-18T00:00:00",
          "2017-12-19T00:00:00",
          "2017-12-19T00:00:00",
          "2017-12-22T00:00:00",
          "2017-12-24T00:00:00",
          "2017-12-24T00:00:00",
          "2017-12-28T00:00:00",
          "2017-12-28T00:00:00",
          "2017-12-29T00:00:00",
          "2017-12-29T00:00:00",
          "2017-12-29T00:00:00"
         ],
         "xaxis": "x",
         "y": [
          null,
          null,
          null,
          null,
          null,
          null,
          null,
          null,
          null,
          null,
          null,
          null,
          null,
          null,
          null,
          null,
          null,
          null,
          null,
          null,
          null,
          null,
          null,
          null,
          null,
          null,
          null,
          null,
          null,
          null,
          null,
          null,
          null,
          null,
          null,
          null,
          null,
          null,
          null,
          null,
          null,
          null,
          null,
          null,
          null,
          null,
          null,
          null,
          null,
          null,
          null,
          null,
          null,
          null,
          0.28156163876853946,
          null,
          null,
          null,
          null,
          null,
          null,
          null,
          null,
          null,
          null,
          null,
          null,
          null,
          null,
          null,
          null,
          0.5333566062930201,
          -0.20638766911863796,
          -0.2592371285738239,
          -0.24938678231715408,
          null,
          null,
          null,
          null,
          null,
          null,
          0.08060556606351701,
          1.2978287246212692,
          1.0343661919293887,
          null,
          null,
          null,
          null,
          null,
          null,
          null,
          null,
          null,
          null,
          -0.272113781151516,
          0.287463861928972,
          0.06002704591163068,
          null,
          null,
          null,
          null,
          null,
          -0.17864811084920335,
          null,
          null,
          0.02825413284222418,
          -0.6163134922480679,
          1.060385951179995,
          null,
          null,
          null,
          null,
          0.9071183032492185,
          0.3470687221894486,
          null,
          null,
          null,
          null,
          null,
          null,
          null,
          null,
          null,
          null,
          null,
          null,
          null,
          -0.8562103544895402,
          -0.005484072474079326,
          0.007196955792925476,
          0.5861213766749631,
          0.7808076683027563,
          null,
          null,
          -0.1984398291604515,
          null,
          null,
          null,
          null,
          null,
          null,
          null,
          null,
          null,
          null,
          null,
          null,
          null,
          null,
          null,
          null,
          null,
          null,
          null,
          null,
          null,
          null,
          null,
          null,
          null,
          null,
          null,
          null,
          null,
          null,
          null,
          null,
          null,
          null,
          null,
          null,
          null,
          null,
          null,
          null,
          null,
          null,
          null,
          null,
          null,
          null,
          null,
          null,
          null,
          null,
          null,
          null,
          null,
          null,
          -0.019379182887027578,
          null,
          null,
          null,
          null,
          null,
          null,
          null,
          null,
          null,
          null,
          null,
          null,
          null,
          null,
          null,
          null,
          null,
          null,
          null,
          null,
          null,
          null,
          null,
          null,
          null,
          null,
          null,
          null,
          null,
          null,
          null,
          -0.19303576434751668,
          -0.049323963476917254,
          -0.31193441169422,
          null,
          null,
          null,
          null,
          null,
          null,
          null,
          null,
          null,
          null,
          null,
          null,
          null,
          null,
          null,
          null,
          null,
          null,
          null,
          null,
          null,
          null,
          null,
          null,
          null,
          0.4357437010616804,
          -0.028504679025413652,
          1.0992366510082257,
          0.19516896292898794,
          null,
          null,
          null,
          null,
          0.05057863139934296,
          0.38328258162001844,
          -0.01786977596877802,
          -0.10030776884230216,
          0.017627852552183562,
          0.019226448807506725,
          0.4595655409787764,
          null,
          null,
          null,
          -0.0926695523846658,
          -0.202729186414388,
          0.23325113835160183,
          null,
          null,
          -0.1392333442303341,
          0.9911852496366698,
          0.6619278676254833,
          null,
          null,
          -0.1905896596945666,
          -0.22814219425426252,
          0.08035705903522075,
          -0.42115071798683573,
          null,
          null,
          null,
          null,
          null,
          -0.23018566215203376,
          null,
          null,
          null,
          null,
          0.39731412856952786,
          0.4055335138204344,
          null,
          null,
          null,
          null,
          null,
          null,
          null,
          null,
          null,
          null,
          null,
          null,
          null,
          null,
          1.0118945569502755,
          -0.002938710989619709,
          -0.522220592514769,
          1.6911951634797189,
          null,
          null,
          null,
          null,
          null,
          null,
          null,
          null,
          null,
          null,
          null,
          null,
          null,
          null,
          null,
          null,
          null,
          null,
          null,
          null,
          null,
          null,
          null,
          null,
          0.5723408508420604,
          0.04711190832975876,
          null,
          null,
          null,
          null,
          null,
          null,
          null,
          null,
          null,
          null,
          null,
          null,
          null,
          null,
          null,
          null,
          null,
          null,
          null,
          null,
          null,
          null,
          null,
          null,
          0.8176028669802947,
          1.0100181504271977,
          null,
          null,
          null,
          null,
          null,
          null,
          null,
          null,
          null,
          null,
          null,
          null,
          null,
          null,
          null,
          null,
          -0.41407369405250455,
          null,
          null,
          null,
          null,
          null,
          null,
          null,
          null,
          null,
          0.6451182038035024,
          0.36536842772967026,
          null,
          null,
          null,
          -0.002027719037128147,
          -0.29754918422021953,
          0.5890748922799576,
          0.3342555732136078,
          0.608617006866514,
          0.5832084273386902,
          -0.026055533127907444,
          null,
          null,
          null,
          null,
          null,
          null,
          null,
          null,
          null,
          null,
          null,
          null,
          null,
          -0.7614870830294417,
          null,
          null,
          null,
          null,
          null,
          0.24068567247093794,
          -0.09008675037462269,
          0.07971784217960656,
          -0.15510912549219508,
          0.7201261690778035,
          0.3833384292990679,
          null,
          null,
          null,
          -0.010064823407627183,
          2.282915561491892,
          0.05952917787114486,
          -0.4247205576389144,
          -0.6163597822219125,
          null,
          0.017723474502159352,
          2.1474238776909234,
          3.7182473386083505,
          0.12553369993964628,
          0.10776322063531714,
          0.48044037232140585,
          0.0551176542376562,
          0.15145495770295653,
          0.007784294262605675,
          -0.42304625323077555,
          0.13392059837489037,
          -0.15071155925772828,
          -0.31741358205077036,
          null,
          null,
          -0.25122151740472154,
          -0.10013074194015828,
          -0.03052380253964247,
          -0.24753326771463585,
          -0.01171814260226114,
          0.2088947606604283,
          0.26831461181124644,
          0.03530410999323558,
          -0.013464499314716594,
          0.33345738930152424,
          0.43787026355384306,
          -0.3083117618401014,
          -0.2499652639986085,
          0.10694468419103578,
          -0.4818295956475262,
          null,
          null,
          null,
          null,
          -0.3050151093380174,
          0.8495202090517696,
          0.6798264187144266,
          -0.017454549034118055,
          -0.13164337674711743,
          -0.12397879403270787,
          0.23913834680144277,
          null,
          null,
          null,
          null,
          null,
          null,
          null,
          null,
          null,
          null,
          null,
          null,
          null,
          null,
          null,
          null,
          null,
          null,
          null,
          null,
          null,
          null,
          null,
          null,
          null,
          -0.10987656929951892,
          null,
          null,
          null,
          0.11267086740128672,
          null,
          null,
          null,
          null,
          null,
          0.11432247988408456,
          -0.15655051749687726,
          0.04572711147339602,
          null,
          null,
          null,
          null,
          -0.15870577190175061,
          -0.618565730401208,
          null,
          null,
          null,
          null,
          -0.18970469245440538,
          -0.03226989767692226,
          null,
          null,
          0.07003080988882816,
          0.058059091281079486,
          null,
          null,
          0.1467494750167414,
          null,
          null,
          null,
          null,
          null,
          null,
          null,
          null,
          0.5872553954813347,
          null,
          null,
          null,
          null,
          null,
          null,
          null,
          null,
          null,
          null,
          null,
          null,
          0.4624394935869653,
          -0.1856163034503368,
          -0.14577509906599107,
          0.0782338333649055,
          null,
          null,
          null,
          null,
          null,
          null,
          null,
          null,
          null,
          null,
          null,
          null,
          null,
          null,
          null,
          -0.22534562740257846,
          null,
          null,
          null,
          null,
          null,
          null,
          null,
          -0.06530020306730806,
          -0.021048097986905587,
          0.13205227664492955,
          -0.4286525533575745,
          1.0696608367226517,
          0.2967246269960549,
          null,
          null,
          null,
          null,
          null,
          -0.42796501003803816,
          0.22622277872438887,
          2.1926224102249185,
          0.06402131560852624,
          0.15375886504614514,
          null,
          null,
          null,
          0.1637131015503413,
          -0.2141492752168812,
          0.36635698241217524,
          0.05890556766731894,
          -0.1434305820407713,
          null,
          null,
          null,
          0.26404483564379305,
          null,
          null,
          null,
          null,
          null,
          null,
          null,
          -0.011825910918867574,
          0.007004732572444188,
          0.08987651130992738,
          0.3775759683214856,
          0.037728734954522926,
          0.05827621226144658,
          0.07796761327508883,
          0.33146213881970493,
          null,
          0.05118051957664129,
          -0.3314747665914811,
          null,
          null,
          0.13567076587994403,
          -0.08771213367277601,
          -0.04106001971779741,
          null,
          null,
          null,
          null,
          null,
          null,
          null,
          null,
          null,
          null,
          -0.2352937489694752,
          0.7601832399243627,
          0.009740609768476136,
          -0.5375545949479444,
          1.6567302672478825,
          0.07142301611930749,
          -0.6332402934742981,
          0.053476720492072916,
          0.8088914567588301,
          0.34695878778348155,
          -0.016839329629064398,
          -0.0484696733742506,
          -0.15759125938502586,
          -0.573225651173985,
          2.1172427333717647,
          0.12875772253304724,
          -0.6187395571848475,
          -0.6532568168975367,
          -0.16340087745984982,
          -0.10386659029559271,
          0.3492056512988258,
          -0.17658475282695216,
          -0.2374212503884509,
          0.019258895190286427,
          null,
          0.20443957381907923,
          0.5564091791843365,
          -0.13788279595198857,
          -0.3020756506797317,
          -0.3808314875253947,
          -0.15887080253643218,
          -0.14182898855223844,
          0.44371854212744544,
          0.17306735411537055,
          0.222663426555048,
          0.10961364989001032,
          0.03255540082251882,
          -0.44913257614623864,
          -0.3122704397688774,
          -0.24461176403162196,
          null,
          null,
          null,
          null,
          null,
          0.43011057244275036,
          0.586551273386264,
          0.5094675385864018,
          null,
          null,
          -0.05987226160076197,
          0.08023774304085421,
          -0.44590649635868257,
          -0.3541760869436442,
          0.5176244837698097,
          -0.2013316568920809,
          null,
          null,
          -0.15115898443094172,
          0.7557102943717953,
          null,
          null,
          null,
          0.08819328197143007,
          0.9597804552203922
         ],
         "yaxis": "y"
        }
       ],
       "layout": {
        "legend": {
         "title": {
          "text": "Region"
         },
         "tracegroupgap": 0
        },
        "template": {
         "data": {
          "bar": [
           {
            "error_x": {
             "color": "#2a3f5f"
            },
            "error_y": {
             "color": "#2a3f5f"
            },
            "marker": {
             "line": {
              "color": "#E5ECF6",
              "width": 0.5
             },
             "pattern": {
              "fillmode": "overlay",
              "size": 10,
              "solidity": 0.2
             }
            },
            "type": "bar"
           }
          ],
          "barpolar": [
           {
            "marker": {
             "line": {
              "color": "#E5ECF6",
              "width": 0.5
             },
             "pattern": {
              "fillmode": "overlay",
              "size": 10,
              "solidity": 0.2
             }
            },
            "type": "barpolar"
           }
          ],
          "carpet": [
           {
            "aaxis": {
             "endlinecolor": "#2a3f5f",
             "gridcolor": "white",
             "linecolor": "white",
             "minorgridcolor": "white",
             "startlinecolor": "#2a3f5f"
            },
            "baxis": {
             "endlinecolor": "#2a3f5f",
             "gridcolor": "white",
             "linecolor": "white",
             "minorgridcolor": "white",
             "startlinecolor": "#2a3f5f"
            },
            "type": "carpet"
           }
          ],
          "choropleth": [
           {
            "colorbar": {
             "outlinewidth": 0,
             "ticks": ""
            },
            "type": "choropleth"
           }
          ],
          "contour": [
           {
            "colorbar": {
             "outlinewidth": 0,
             "ticks": ""
            },
            "colorscale": [
             [
              0,
              "#0d0887"
             ],
             [
              0.1111111111111111,
              "#46039f"
             ],
             [
              0.2222222222222222,
              "#7201a8"
             ],
             [
              0.3333333333333333,
              "#9c179e"
             ],
             [
              0.4444444444444444,
              "#bd3786"
             ],
             [
              0.5555555555555556,
              "#d8576b"
             ],
             [
              0.6666666666666666,
              "#ed7953"
             ],
             [
              0.7777777777777778,
              "#fb9f3a"
             ],
             [
              0.8888888888888888,
              "#fdca26"
             ],
             [
              1,
              "#f0f921"
             ]
            ],
            "type": "contour"
           }
          ],
          "contourcarpet": [
           {
            "colorbar": {
             "outlinewidth": 0,
             "ticks": ""
            },
            "type": "contourcarpet"
           }
          ],
          "heatmap": [
           {
            "colorbar": {
             "outlinewidth": 0,
             "ticks": ""
            },
            "colorscale": [
             [
              0,
              "#0d0887"
             ],
             [
              0.1111111111111111,
              "#46039f"
             ],
             [
              0.2222222222222222,
              "#7201a8"
             ],
             [
              0.3333333333333333,
              "#9c179e"
             ],
             [
              0.4444444444444444,
              "#bd3786"
             ],
             [
              0.5555555555555556,
              "#d8576b"
             ],
             [
              0.6666666666666666,
              "#ed7953"
             ],
             [
              0.7777777777777778,
              "#fb9f3a"
             ],
             [
              0.8888888888888888,
              "#fdca26"
             ],
             [
              1,
              "#f0f921"
             ]
            ],
            "type": "heatmap"
           }
          ],
          "heatmapgl": [
           {
            "colorbar": {
             "outlinewidth": 0,
             "ticks": ""
            },
            "colorscale": [
             [
              0,
              "#0d0887"
             ],
             [
              0.1111111111111111,
              "#46039f"
             ],
             [
              0.2222222222222222,
              "#7201a8"
             ],
             [
              0.3333333333333333,
              "#9c179e"
             ],
             [
              0.4444444444444444,
              "#bd3786"
             ],
             [
              0.5555555555555556,
              "#d8576b"
             ],
             [
              0.6666666666666666,
              "#ed7953"
             ],
             [
              0.7777777777777778,
              "#fb9f3a"
             ],
             [
              0.8888888888888888,
              "#fdca26"
             ],
             [
              1,
              "#f0f921"
             ]
            ],
            "type": "heatmapgl"
           }
          ],
          "histogram": [
           {
            "marker": {
             "pattern": {
              "fillmode": "overlay",
              "size": 10,
              "solidity": 0.2
             }
            },
            "type": "histogram"
           }
          ],
          "histogram2d": [
           {
            "colorbar": {
             "outlinewidth": 0,
             "ticks": ""
            },
            "colorscale": [
             [
              0,
              "#0d0887"
             ],
             [
              0.1111111111111111,
              "#46039f"
             ],
             [
              0.2222222222222222,
              "#7201a8"
             ],
             [
              0.3333333333333333,
              "#9c179e"
             ],
             [
              0.4444444444444444,
              "#bd3786"
             ],
             [
              0.5555555555555556,
              "#d8576b"
             ],
             [
              0.6666666666666666,
              "#ed7953"
             ],
             [
              0.7777777777777778,
              "#fb9f3a"
             ],
             [
              0.8888888888888888,
              "#fdca26"
             ],
             [
              1,
              "#f0f921"
             ]
            ],
            "type": "histogram2d"
           }
          ],
          "histogram2dcontour": [
           {
            "colorbar": {
             "outlinewidth": 0,
             "ticks": ""
            },
            "colorscale": [
             [
              0,
              "#0d0887"
             ],
             [
              0.1111111111111111,
              "#46039f"
             ],
             [
              0.2222222222222222,
              "#7201a8"
             ],
             [
              0.3333333333333333,
              "#9c179e"
             ],
             [
              0.4444444444444444,
              "#bd3786"
             ],
             [
              0.5555555555555556,
              "#d8576b"
             ],
             [
              0.6666666666666666,
              "#ed7953"
             ],
             [
              0.7777777777777778,
              "#fb9f3a"
             ],
             [
              0.8888888888888888,
              "#fdca26"
             ],
             [
              1,
              "#f0f921"
             ]
            ],
            "type": "histogram2dcontour"
           }
          ],
          "mesh3d": [
           {
            "colorbar": {
             "outlinewidth": 0,
             "ticks": ""
            },
            "type": "mesh3d"
           }
          ],
          "parcoords": [
           {
            "line": {
             "colorbar": {
              "outlinewidth": 0,
              "ticks": ""
             }
            },
            "type": "parcoords"
           }
          ],
          "pie": [
           {
            "automargin": true,
            "type": "pie"
           }
          ],
          "scatter": [
           {
            "fillpattern": {
             "fillmode": "overlay",
             "size": 10,
             "solidity": 0.2
            },
            "type": "scatter"
           }
          ],
          "scatter3d": [
           {
            "line": {
             "colorbar": {
              "outlinewidth": 0,
              "ticks": ""
             }
            },
            "marker": {
             "colorbar": {
              "outlinewidth": 0,
              "ticks": ""
             }
            },
            "type": "scatter3d"
           }
          ],
          "scattercarpet": [
           {
            "marker": {
             "colorbar": {
              "outlinewidth": 0,
              "ticks": ""
             }
            },
            "type": "scattercarpet"
           }
          ],
          "scattergeo": [
           {
            "marker": {
             "colorbar": {
              "outlinewidth": 0,
              "ticks": ""
             }
            },
            "type": "scattergeo"
           }
          ],
          "scattergl": [
           {
            "marker": {
             "colorbar": {
              "outlinewidth": 0,
              "ticks": ""
             }
            },
            "type": "scattergl"
           }
          ],
          "scattermapbox": [
           {
            "marker": {
             "colorbar": {
              "outlinewidth": 0,
              "ticks": ""
             }
            },
            "type": "scattermapbox"
           }
          ],
          "scatterpolar": [
           {
            "marker": {
             "colorbar": {
              "outlinewidth": 0,
              "ticks": ""
             }
            },
            "type": "scatterpolar"
           }
          ],
          "scatterpolargl": [
           {
            "marker": {
             "colorbar": {
              "outlinewidth": 0,
              "ticks": ""
             }
            },
            "type": "scatterpolargl"
           }
          ],
          "scatterternary": [
           {
            "marker": {
             "colorbar": {
              "outlinewidth": 0,
              "ticks": ""
             }
            },
            "type": "scatterternary"
           }
          ],
          "surface": [
           {
            "colorbar": {
             "outlinewidth": 0,
             "ticks": ""
            },
            "colorscale": [
             [
              0,
              "#0d0887"
             ],
             [
              0.1111111111111111,
              "#46039f"
             ],
             [
              0.2222222222222222,
              "#7201a8"
             ],
             [
              0.3333333333333333,
              "#9c179e"
             ],
             [
              0.4444444444444444,
              "#bd3786"
             ],
             [
              0.5555555555555556,
              "#d8576b"
             ],
             [
              0.6666666666666666,
              "#ed7953"
             ],
             [
              0.7777777777777778,
              "#fb9f3a"
             ],
             [
              0.8888888888888888,
              "#fdca26"
             ],
             [
              1,
              "#f0f921"
             ]
            ],
            "type": "surface"
           }
          ],
          "table": [
           {
            "cells": {
             "fill": {
              "color": "#EBF0F8"
             },
             "line": {
              "color": "white"
             }
            },
            "header": {
             "fill": {
              "color": "#C8D4E3"
             },
             "line": {
              "color": "white"
             }
            },
            "type": "table"
           }
          ]
         },
         "layout": {
          "annotationdefaults": {
           "arrowcolor": "#2a3f5f",
           "arrowhead": 0,
           "arrowwidth": 1
          },
          "autotypenumbers": "strict",
          "coloraxis": {
           "colorbar": {
            "outlinewidth": 0,
            "ticks": ""
           }
          },
          "colorscale": {
           "diverging": [
            [
             0,
             "#8e0152"
            ],
            [
             0.1,
             "#c51b7d"
            ],
            [
             0.2,
             "#de77ae"
            ],
            [
             0.3,
             "#f1b6da"
            ],
            [
             0.4,
             "#fde0ef"
            ],
            [
             0.5,
             "#f7f7f7"
            ],
            [
             0.6,
             "#e6f5d0"
            ],
            [
             0.7,
             "#b8e186"
            ],
            [
             0.8,
             "#7fbc41"
            ],
            [
             0.9,
             "#4d9221"
            ],
            [
             1,
             "#276419"
            ]
           ],
           "sequential": [
            [
             0,
             "#0d0887"
            ],
            [
             0.1111111111111111,
             "#46039f"
            ],
            [
             0.2222222222222222,
             "#7201a8"
            ],
            [
             0.3333333333333333,
             "#9c179e"
            ],
            [
             0.4444444444444444,
             "#bd3786"
            ],
            [
             0.5555555555555556,
             "#d8576b"
            ],
            [
             0.6666666666666666,
             "#ed7953"
            ],
            [
             0.7777777777777778,
             "#fb9f3a"
            ],
            [
             0.8888888888888888,
             "#fdca26"
            ],
            [
             1,
             "#f0f921"
            ]
           ],
           "sequentialminus": [
            [
             0,
             "#0d0887"
            ],
            [
             0.1111111111111111,
             "#46039f"
            ],
            [
             0.2222222222222222,
             "#7201a8"
            ],
            [
             0.3333333333333333,
             "#9c179e"
            ],
            [
             0.4444444444444444,
             "#bd3786"
            ],
            [
             0.5555555555555556,
             "#d8576b"
            ],
            [
             0.6666666666666666,
             "#ed7953"
            ],
            [
             0.7777777777777778,
             "#fb9f3a"
            ],
            [
             0.8888888888888888,
             "#fdca26"
            ],
            [
             1,
             "#f0f921"
            ]
           ]
          },
          "colorway": [
           "#636efa",
           "#EF553B",
           "#00cc96",
           "#ab63fa",
           "#FFA15A",
           "#19d3f3",
           "#FF6692",
           "#B6E880",
           "#FF97FF",
           "#FECB52"
          ],
          "font": {
           "color": "#2a3f5f"
          },
          "geo": {
           "bgcolor": "white",
           "lakecolor": "white",
           "landcolor": "#E5ECF6",
           "showlakes": true,
           "showland": true,
           "subunitcolor": "white"
          },
          "hoverlabel": {
           "align": "left"
          },
          "hovermode": "closest",
          "mapbox": {
           "style": "light"
          },
          "paper_bgcolor": "white",
          "plot_bgcolor": "#E5ECF6",
          "polar": {
           "angularaxis": {
            "gridcolor": "white",
            "linecolor": "white",
            "ticks": ""
           },
           "bgcolor": "#E5ECF6",
           "radialaxis": {
            "gridcolor": "white",
            "linecolor": "white",
            "ticks": ""
           }
          },
          "scene": {
           "xaxis": {
            "backgroundcolor": "#E5ECF6",
            "gridcolor": "white",
            "gridwidth": 2,
            "linecolor": "white",
            "showbackground": true,
            "ticks": "",
            "zerolinecolor": "white"
           },
           "yaxis": {
            "backgroundcolor": "#E5ECF6",
            "gridcolor": "white",
            "gridwidth": 2,
            "linecolor": "white",
            "showbackground": true,
            "ticks": "",
            "zerolinecolor": "white"
           },
           "zaxis": {
            "backgroundcolor": "#E5ECF6",
            "gridcolor": "white",
            "gridwidth": 2,
            "linecolor": "white",
            "showbackground": true,
            "ticks": "",
            "zerolinecolor": "white"
           }
          },
          "shapedefaults": {
           "line": {
            "color": "#2a3f5f"
           }
          },
          "ternary": {
           "aaxis": {
            "gridcolor": "white",
            "linecolor": "white",
            "ticks": ""
           },
           "baxis": {
            "gridcolor": "white",
            "linecolor": "white",
            "ticks": ""
           },
           "bgcolor": "#E5ECF6",
           "caxis": {
            "gridcolor": "white",
            "linecolor": "white",
            "ticks": ""
           }
          },
          "title": {
           "x": 0.05
          },
          "xaxis": {
           "automargin": true,
           "gridcolor": "white",
           "linecolor": "white",
           "ticks": "",
           "title": {
            "standoff": 15
           },
           "zerolinecolor": "white",
           "zerolinewidth": 2
          },
          "yaxis": {
           "automargin": true,
           "gridcolor": "white",
           "linecolor": "white",
           "ticks": "",
           "title": {
            "standoff": 15
           },
           "zerolinecolor": "white",
           "zerolinewidth": 2
          }
         }
        },
        "title": {
         "text": "Sales Before, During, and After Discounts"
        },
        "xaxis": {
         "anchor": "y",
         "domain": [
          0,
          1
         ],
         "title": {
          "text": "Order Date"
         }
        },
        "yaxis": {
         "anchor": "x",
         "domain": [
          0,
          1
         ],
         "title": {
          "text": "Sales_Change_After_Discount"
         }
        }
       }
      }
     },
     "metadata": {},
     "output_type": "display_data"
    },
    {
     "data": {
      "text/html": [
       "<div>\n",
       "<style scoped>\n",
       "    .dataframe tbody tr th:only-of-type {\n",
       "        vertical-align: middle;\n",
       "    }\n",
       "\n",
       "    .dataframe tbody tr th {\n",
       "        vertical-align: top;\n",
       "    }\n",
       "\n",
       "    .dataframe thead th {\n",
       "        text-align: right;\n",
       "    }\n",
       "</style>\n",
       "<table border=\"1\" class=\"dataframe\">\n",
       "  <thead>\n",
       "    <tr style=\"text-align: right;\">\n",
       "      <th></th>\n",
       "      <th>Order Date</th>\n",
       "      <th>Row ID</th>\n",
       "      <th>Order ID</th>\n",
       "      <th>Ship Date</th>\n",
       "      <th>Ship Mode</th>\n",
       "      <th>Customer ID</th>\n",
       "      <th>Customer Name</th>\n",
       "      <th>Segment</th>\n",
       "      <th>Country</th>\n",
       "      <th>City</th>\n",
       "      <th>...</th>\n",
       "      <th>Sales</th>\n",
       "      <th>Quantity</th>\n",
       "      <th>Discount</th>\n",
       "      <th>Profit</th>\n",
       "      <th>Delivery Delay</th>\n",
       "      <th>Profit Margin</th>\n",
       "      <th>Is_Discount</th>\n",
       "      <th>Sales_Before_7_Days</th>\n",
       "      <th>Sales_After_7_Days</th>\n",
       "      <th>Sales_Change_After_Discount</th>\n",
       "    </tr>\n",
       "  </thead>\n",
       "  <tbody>\n",
       "  </tbody>\n",
       "</table>\n",
       "<p>0 rows × 27 columns</p>\n",
       "</div>"
      ],
      "text/plain": [
       "Empty DataFrame\n",
       "Columns: [Order Date, Row ID, Order ID, Ship Date, Ship Mode, Customer ID, Customer Name, Segment, Country, City, State, Postal Code, Region, Product ID, Category, Sub-Category, Product Name, Sales, Quantity, Discount, Profit, Delivery Delay, Profit Margin, Is_Discount, Sales_Before_7_Days, Sales_After_7_Days, Sales_Change_After_Discount]\n",
       "Index: []\n",
       "\n",
       "[0 rows x 27 columns]"
      ]
     },
     "execution_count": 165,
     "metadata": {},
     "output_type": "execute_result"
    }
   ],
   "source": [
    "df['Is_Discount'] = df['Discount'] > 0\n",
    "\n",
    "# Aggregate the sales before and after the discount\n",
    "\n",
    "df['Sales_Before_7_Days'] = df['Sales'].shift(1).rolling(window=7).sum()\n",
    "df['Sales_After_7_Days'] = df['Sales'].shift(-1).rolling(window=7).sum()\n",
    "\n",
    "# Compute the impact of discount\n",
    "df['Sales_Change_After_Discount'] = (df['Sales_After_7_Days'] - df['Sales_Before_7_Days']) / df['Sales_Before_7_Days']\n",
    "\n",
    "import plotly.express as px\n",
    "\n",
    "fig = px.line(df, x='Order Date', y='Sales_Change_After_Discount', color='Region',\n",
    "              title='Sales Before, During, and After Discounts', \n",
    "              markers=True)\n",
    "fig.show()\n",
    "\n",
    "df[df['Region'] == '0']\n"
   ]
  },
  {
   "cell_type": "code",
   "execution_count": 163,
   "metadata": {},
   "outputs": [
    {
     "data": {
      "text/html": [
       "<div>\n",
       "<style scoped>\n",
       "    .dataframe tbody tr th:only-of-type {\n",
       "        vertical-align: middle;\n",
       "    }\n",
       "\n",
       "    .dataframe tbody tr th {\n",
       "        vertical-align: top;\n",
       "    }\n",
       "\n",
       "    .dataframe thead th {\n",
       "        text-align: right;\n",
       "    }\n",
       "</style>\n",
       "<table border=\"1\" class=\"dataframe\">\n",
       "  <thead>\n",
       "    <tr style=\"text-align: right;\">\n",
       "      <th></th>\n",
       "      <th>Order Date</th>\n",
       "      <th>Row ID</th>\n",
       "      <th>Order ID</th>\n",
       "      <th>Ship Date</th>\n",
       "      <th>Ship Mode</th>\n",
       "      <th>Customer ID</th>\n",
       "      <th>Customer Name</th>\n",
       "      <th>Segment</th>\n",
       "      <th>Country</th>\n",
       "      <th>City</th>\n",
       "      <th>...</th>\n",
       "      <th>Sales</th>\n",
       "      <th>Quantity</th>\n",
       "      <th>Discount</th>\n",
       "      <th>Profit</th>\n",
       "      <th>Delivery Delay</th>\n",
       "      <th>Profit Margin</th>\n",
       "      <th>Is_Discount</th>\n",
       "      <th>Sales_Before_7_Days</th>\n",
       "      <th>Sales_After_7_Days</th>\n",
       "      <th>Sales_Change_After_Discount</th>\n",
       "    </tr>\n",
       "  </thead>\n",
       "  <tbody>\n",
       "    <tr>\n",
       "      <th>336</th>\n",
       "      <td>2014-09-10</td>\n",
       "      <td>7526</td>\n",
       "      <td>CA-2014-125731</td>\n",
       "      <td>2014-09-16</td>\n",
       "      <td>Standard Class</td>\n",
       "      <td>CL-12565</td>\n",
       "      <td>Clay Ludtke</td>\n",
       "      <td>Consumer</td>\n",
       "      <td>United States</td>\n",
       "      <td>Gresham</td>\n",
       "      <td>...</td>\n",
       "      <td>1487.040</td>\n",
       "      <td>5.0</td>\n",
       "      <td>0.20</td>\n",
       "      <td>148.7040</td>\n",
       "      <td>6.0</td>\n",
       "      <td>0.100000</td>\n",
       "      <td>True</td>\n",
       "      <td>864.024</td>\n",
       "      <td>1802.612</td>\n",
       "      <td>1.086299</td>\n",
       "    </tr>\n",
       "    <tr>\n",
       "      <th>338</th>\n",
       "      <td>2014-09-11</td>\n",
       "      <td>6312</td>\n",
       "      <td>CA-2014-112837</td>\n",
       "      <td>2014-09-16</td>\n",
       "      <td>Standard Class</td>\n",
       "      <td>LW-17125</td>\n",
       "      <td>Liz Willingham</td>\n",
       "      <td>Consumer</td>\n",
       "      <td>United States</td>\n",
       "      <td>Oxnard</td>\n",
       "      <td>...</td>\n",
       "      <td>127.950</td>\n",
       "      <td>3.0</td>\n",
       "      <td>0.00</td>\n",
       "      <td>21.7515</td>\n",
       "      <td>5.0</td>\n",
       "      <td>0.170000</td>\n",
       "      <td>False</td>\n",
       "      <td>1802.612</td>\n",
       "      <td>423.410</td>\n",
       "      <td>-0.765113</td>\n",
       "    </tr>\n",
       "    <tr>\n",
       "      <th>342</th>\n",
       "      <td>2014-09-13</td>\n",
       "      <td>8652</td>\n",
       "      <td>CA-2014-142769</td>\n",
       "      <td>2014-09-13</td>\n",
       "      <td>Same Day</td>\n",
       "      <td>RP-19390</td>\n",
       "      <td>Resi Plking</td>\n",
       "      <td>Consumer</td>\n",
       "      <td>United States</td>\n",
       "      <td>Seattle</td>\n",
       "      <td>...</td>\n",
       "      <td>14.190</td>\n",
       "      <td>3.0</td>\n",
       "      <td>0.00</td>\n",
       "      <td>5.5341</td>\n",
       "      <td>0.0</td>\n",
       "      <td>0.390000</td>\n",
       "      <td>False</td>\n",
       "      <td>4165.968</td>\n",
       "      <td>367.434</td>\n",
       "      <td>-0.911801</td>\n",
       "    </tr>\n",
       "    <tr>\n",
       "      <th>350</th>\n",
       "      <td>2014-09-17</td>\n",
       "      <td>3927</td>\n",
       "      <td>CA-2014-103940</td>\n",
       "      <td>2014-09-21</td>\n",
       "      <td>Standard Class</td>\n",
       "      <td>BN-11515</td>\n",
       "      <td>Bradley Nguyen</td>\n",
       "      <td>Consumer</td>\n",
       "      <td>United States</td>\n",
       "      <td>Seattle</td>\n",
       "      <td>...</td>\n",
       "      <td>35.340</td>\n",
       "      <td>2.0</td>\n",
       "      <td>0.00</td>\n",
       "      <td>13.4292</td>\n",
       "      <td>4.0</td>\n",
       "      <td>0.380000</td>\n",
       "      <td>False</td>\n",
       "      <td>NaN</td>\n",
       "      <td>NaN</td>\n",
       "      <td>NaN</td>\n",
       "    </tr>\n",
       "    <tr>\n",
       "      <th>353</th>\n",
       "      <td>2014-09-19</td>\n",
       "      <td>9041</td>\n",
       "      <td>CA-2014-138177</td>\n",
       "      <td>2014-09-24</td>\n",
       "      <td>Standard Class</td>\n",
       "      <td>ND-18460</td>\n",
       "      <td>Neil Ducich</td>\n",
       "      <td>Corporate</td>\n",
       "      <td>United States</td>\n",
       "      <td>Chandler</td>\n",
       "      <td>...</td>\n",
       "      <td>73.915</td>\n",
       "      <td>1.0</td>\n",
       "      <td>0.50</td>\n",
       "      <td>-45.8273</td>\n",
       "      <td>5.0</td>\n",
       "      <td>-0.620000</td>\n",
       "      <td>True</td>\n",
       "      <td>NaN</td>\n",
       "      <td>1578.718</td>\n",
       "      <td>NaN</td>\n",
       "    </tr>\n",
       "    <tr>\n",
       "      <th>363</th>\n",
       "      <td>2014-09-23</td>\n",
       "      <td>3352</td>\n",
       "      <td>US-2014-134733</td>\n",
       "      <td>2014-09-28</td>\n",
       "      <td>Standard Class</td>\n",
       "      <td>BM-11650</td>\n",
       "      <td>Brian Moss</td>\n",
       "      <td>Corporate</td>\n",
       "      <td>United States</td>\n",
       "      <td>San Diego</td>\n",
       "      <td>...</td>\n",
       "      <td>435.999</td>\n",
       "      <td>3.0</td>\n",
       "      <td>0.15</td>\n",
       "      <td>20.5176</td>\n",
       "      <td>5.0</td>\n",
       "      <td>0.047059</td>\n",
       "      <td>True</td>\n",
       "      <td>685.512</td>\n",
       "      <td>NaN</td>\n",
       "      <td>NaN</td>\n",
       "    </tr>\n",
       "  </tbody>\n",
       "</table>\n",
       "<p>6 rows × 27 columns</p>\n",
       "</div>"
      ],
      "text/plain": [
       "    Order Date Row ID        Order ID  Ship Date       Ship Mode Customer ID  \\\n",
       "336 2014-09-10   7526  CA-2014-125731 2014-09-16  Standard Class    CL-12565   \n",
       "338 2014-09-11   6312  CA-2014-112837 2014-09-16  Standard Class    LW-17125   \n",
       "342 2014-09-13   8652  CA-2014-142769 2014-09-13        Same Day    RP-19390   \n",
       "350 2014-09-17   3927  CA-2014-103940 2014-09-21  Standard Class    BN-11515   \n",
       "353 2014-09-19   9041  CA-2014-138177 2014-09-24  Standard Class    ND-18460   \n",
       "363 2014-09-23   3352  US-2014-134733 2014-09-28  Standard Class    BM-11650   \n",
       "\n",
       "      Customer Name    Segment        Country       City  ...     Sales  \\\n",
       "336     Clay Ludtke   Consumer  United States    Gresham  ...  1487.040   \n",
       "338  Liz Willingham   Consumer  United States     Oxnard  ...   127.950   \n",
       "342    Resi Plking   Consumer  United States    Seattle  ...    14.190   \n",
       "350  Bradley Nguyen   Consumer  United States    Seattle  ...    35.340   \n",
       "353     Neil Ducich  Corporate  United States   Chandler  ...    73.915   \n",
       "363      Brian Moss  Corporate  United States  San Diego  ...   435.999   \n",
       "\n",
       "    Quantity Discount    Profit Delivery Delay Profit Margin Is_Discount  \\\n",
       "336      5.0     0.20  148.7040            6.0      0.100000        True   \n",
       "338      3.0     0.00   21.7515            5.0      0.170000       False   \n",
       "342      3.0     0.00    5.5341            0.0      0.390000       False   \n",
       "350      2.0     0.00   13.4292            4.0      0.380000       False   \n",
       "353      1.0     0.50  -45.8273            5.0     -0.620000        True   \n",
       "363      3.0     0.15   20.5176            5.0      0.047059        True   \n",
       "\n",
       "     Sales_Before_7_Days  Sales_After_7_Days  Sales_Change_After_Discount  \n",
       "336              864.024            1802.612                     1.086299  \n",
       "338             1802.612             423.410                    -0.765113  \n",
       "342             4165.968             367.434                    -0.911801  \n",
       "350                  NaN                 NaN                          NaN  \n",
       "353                  NaN            1578.718                          NaN  \n",
       "363              685.512                 NaN                          NaN  \n",
       "\n",
       "[6 rows x 27 columns]"
      ]
     },
     "execution_count": 163,
     "metadata": {},
     "output_type": "execute_result"
    }
   ],
   "source": [
    "# Filter on September 10, 2014 and region West \n",
    "df[(df['Order Date'] >= '2014-09-10') & (df['Order Date'] < '2014-09-25') & (df['Region'] == 'West')]\n"
   ]
  },
  {
   "cell_type": "markdown",
   "metadata": {},
   "source": []
  }
 ],
 "metadata": {
  "kernelspec": {
   "display_name": "Python 3",
   "language": "python",
   "name": "python3"
  },
  "language_info": {
   "codemirror_mode": {
    "name": "ipython",
    "version": 3
   },
   "file_extension": ".py",
   "mimetype": "text/x-python",
   "name": "python",
   "nbconvert_exporter": "python",
   "pygments_lexer": "ipython3",
   "version": "3.11.0"
  }
 },
 "nbformat": 4,
 "nbformat_minor": 2
}
